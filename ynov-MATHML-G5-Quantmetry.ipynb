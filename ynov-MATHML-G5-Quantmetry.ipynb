{
 "cells": [
  {
   "cell_type": "markdown",
   "metadata": {},
   "source": [
    "# <font color=\"#8333ff\">Soutenance groupe 5 : Test de recrutement Quantmetry </font>\n"
   ]
  },
  {
   "cell_type": "raw",
   "metadata": {},
   "source": [
    "Groupe 5 :\n",
    "dorianelaetitia.kenmegnefeugaing@ynov.com\n",
    "stephane.sumo@ynov.com\n",
    "francois.biller@ynov.com\n",
    "ilias.souidi@ynov.com"
   ]
  },
  {
   "cell_type": "markdown",
   "metadata": {},
   "source": [
    "\n",
    "Enoncé Le jeu de données contenu dans data.csv décrit des candidatures au poste de chercheur d’or chez OrFée. Votre objectif consiste à prédire le succès ou l’échec d’une candidature.\n",
    "\n",
    "Le jeu de données comporte 11 colonnes.\n",
    "\n",
    "Statistiques descriptives\n",
    "\n",
    "Décrivez le jeu de données. Présentez seulement les analyses et éventuels retraitements qui vous paraissent les plus pertinents et faites une première conclusion sur les variables à sélectionner en vue de la prédiction du succès ou de l’échec d’une candidature.\n",
    "\n",
    "Y a-t-il une dépendance statistiquement significative entre : (a) La spécialité et le sexe ? (b) La couleur de cheveux et le salaire demandé ? (c) Le nombre d’années d’expérience et la note à l’exercice ?\n",
    "\n",
    "Machine Learning\n",
    "\n",
    "Concevez un modèle permettant de prédire la variable embauche et expliquez votre choix d’algorithme. Si votre modèle comporte des spécificités de paramétrage, justifiez également vos choix de paramètres.\n",
    "\n",
    "Quelles sont les variables les plus importantes de votre modèle? Commentez.\n",
    "\n",
    "Décrivez et justifiez le critère de performance utilisé.\n",
    "\n",
    "Proposez deux à trois pistes d’amélioration de votre modèle"
   ]
  },
  {
   "cell_type": "code",
   "execution_count": 287,
   "metadata": {},
   "outputs": [],
   "source": [
    "#pip install pandas-profiling"
   ]
  },
  {
   "cell_type": "markdown",
   "metadata": {},
   "source": [
    "###### Installation de la librairie researchpy (à faire une fois), redémarrer le kernel jupyter ensuite"
   ]
  },
  {
   "cell_type": "code",
   "execution_count": 288,
   "metadata": {},
   "outputs": [],
   "source": [
    "#pip install researchpy"
   ]
  },
  {
   "cell_type": "code",
   "execution_count": 289,
   "metadata": {},
   "outputs": [],
   "source": [
    "#Chargement des librairie nécessaires\n",
    "\n",
    "\n",
    "import os\n",
    "import argparse\n",
    "import pandas as pd\n",
    "import numpy as np\n",
    "import statsmodels.api\n",
    "from sklearn import preprocessing\n",
    "from sklearn import metrics\n",
    "from sklearn.linear_model import LogisticRegression\n",
    "from sklearn.model_selection import train_test_split\n",
    "from pandas_profiling import ProfileReport"
   ]
  },
  {
   "cell_type": "code",
   "execution_count": 290,
   "metadata": {},
   "outputs": [],
   "source": [
    "#lecture du chemin\n",
    "\n",
    "chemin=os.getcwd()\n",
    "df = pd.read_csv(chemin + \"/\" + \"data_v1.0.csv\", encoding=\"unicode_escape\")"
   ]
  },
  {
   "cell_type": "code",
   "execution_count": 291,
   "metadata": {},
   "outputs": [
    {
     "data": {
      "text/html": [
       "<div>\n",
       "<style scoped>\n",
       "    .dataframe tbody tr th:only-of-type {\n",
       "        vertical-align: middle;\n",
       "    }\n",
       "\n",
       "    .dataframe tbody tr th {\n",
       "        vertical-align: top;\n",
       "    }\n",
       "\n",
       "    .dataframe thead th {\n",
       "        text-align: right;\n",
       "    }\n",
       "</style>\n",
       "<table border=\"1\" class=\"dataframe\">\n",
       "  <thead>\n",
       "    <tr style=\"text-align: right;\">\n",
       "      <th></th>\n",
       "      <th>Unnamed: 0</th>\n",
       "      <th>index</th>\n",
       "      <th>date</th>\n",
       "      <th>cheveux</th>\n",
       "      <th>age</th>\n",
       "      <th>exp</th>\n",
       "      <th>salaire</th>\n",
       "      <th>sexe</th>\n",
       "      <th>diplome</th>\n",
       "      <th>specialite</th>\n",
       "      <th>note</th>\n",
       "      <th>dispo</th>\n",
       "      <th>embauche</th>\n",
       "    </tr>\n",
       "  </thead>\n",
       "  <tbody>\n",
       "    <tr>\n",
       "      <th>0</th>\n",
       "      <td>0</td>\n",
       "      <td>0</td>\n",
       "      <td>2012-06-02</td>\n",
       "      <td>roux</td>\n",
       "      <td>25.0</td>\n",
       "      <td>9.0</td>\n",
       "      <td>26803.0</td>\n",
       "      <td>F</td>\n",
       "      <td>licence</td>\n",
       "      <td>geologie</td>\n",
       "      <td>97.08</td>\n",
       "      <td>non</td>\n",
       "      <td>0</td>\n",
       "    </tr>\n",
       "    <tr>\n",
       "      <th>1</th>\n",
       "      <td>1</td>\n",
       "      <td>1</td>\n",
       "      <td>2011-04-21</td>\n",
       "      <td>blond</td>\n",
       "      <td>35.0</td>\n",
       "      <td>13.0</td>\n",
       "      <td>38166.0</td>\n",
       "      <td>M</td>\n",
       "      <td>licence</td>\n",
       "      <td>forage</td>\n",
       "      <td>63.86</td>\n",
       "      <td>non</td>\n",
       "      <td>0</td>\n",
       "    </tr>\n",
       "    <tr>\n",
       "      <th>2</th>\n",
       "      <td>2</td>\n",
       "      <td>2</td>\n",
       "      <td>2012-09-07</td>\n",
       "      <td>blond</td>\n",
       "      <td>29.0</td>\n",
       "      <td>13.0</td>\n",
       "      <td>35207.0</td>\n",
       "      <td>M</td>\n",
       "      <td>licence</td>\n",
       "      <td>geologie</td>\n",
       "      <td>78.50</td>\n",
       "      <td>non</td>\n",
       "      <td>0</td>\n",
       "    </tr>\n",
       "    <tr>\n",
       "      <th>3</th>\n",
       "      <td>3</td>\n",
       "      <td>3</td>\n",
       "      <td>2011-07-01</td>\n",
       "      <td>brun</td>\n",
       "      <td>NaN</td>\n",
       "      <td>12.0</td>\n",
       "      <td>32442.0</td>\n",
       "      <td>M</td>\n",
       "      <td>licence</td>\n",
       "      <td>geologie</td>\n",
       "      <td>45.09</td>\n",
       "      <td>non</td>\n",
       "      <td>0</td>\n",
       "    </tr>\n",
       "    <tr>\n",
       "      <th>4</th>\n",
       "      <td>4</td>\n",
       "      <td>4</td>\n",
       "      <td>2012-08-07</td>\n",
       "      <td>roux</td>\n",
       "      <td>35.0</td>\n",
       "      <td>6.0</td>\n",
       "      <td>28533.0</td>\n",
       "      <td>F</td>\n",
       "      <td>licence</td>\n",
       "      <td>detective</td>\n",
       "      <td>81.91</td>\n",
       "      <td>non</td>\n",
       "      <td>0</td>\n",
       "    </tr>\n",
       "  </tbody>\n",
       "</table>\n",
       "</div>"
      ],
      "text/plain": [
       "   Unnamed: 0  index        date cheveux   age   exp  salaire sexe  diplome  \\\n",
       "0           0      0  2012-06-02    roux  25.0   9.0  26803.0    F  licence   \n",
       "1           1      1  2011-04-21   blond  35.0  13.0  38166.0    M  licence   \n",
       "2           2      2  2012-09-07   blond  29.0  13.0  35207.0    M  licence   \n",
       "3           3      3  2011-07-01    brun   NaN  12.0  32442.0    M  licence   \n",
       "4           4      4  2012-08-07    roux  35.0   6.0  28533.0    F  licence   \n",
       "\n",
       "  specialite   note dispo  embauche  \n",
       "0   geologie  97.08   non         0  \n",
       "1     forage  63.86   non         0  \n",
       "2   geologie  78.50   non         0  \n",
       "3   geologie  45.09   non         0  \n",
       "4  detective  81.91   non         0  "
      ]
     },
     "execution_count": 291,
     "metadata": {},
     "output_type": "execute_result"
    }
   ],
   "source": [
    "df.head()"
   ]
  },
  {
   "cell_type": "code",
   "execution_count": 292,
   "metadata": {},
   "outputs": [
    {
     "data": {
      "text/plain": [
       "(20000, 13)"
      ]
     },
     "execution_count": 292,
     "metadata": {},
     "output_type": "execute_result"
    }
   ],
   "source": [
    "df.shape"
   ]
  },
  {
   "cell_type": "code",
   "execution_count": 293,
   "metadata": {},
   "outputs": [
    {
     "data": {
      "text/plain": [
       "Unnamed: 0      int64\n",
       "index           int64\n",
       "date           object\n",
       "cheveux        object\n",
       "age           float64\n",
       "exp           float64\n",
       "salaire       float64\n",
       "sexe           object\n",
       "diplome        object\n",
       "specialite     object\n",
       "note          float64\n",
       "dispo          object\n",
       "embauche        int64\n",
       "dtype: object"
      ]
     },
     "execution_count": 293,
     "metadata": {},
     "output_type": "execute_result"
    }
   ],
   "source": [
    "df.dtypes"
   ]
  },
  {
   "cell_type": "code",
   "execution_count": 294,
   "metadata": {},
   "outputs": [],
   "source": [
    "#drop unused columns \n",
    "\n",
    "df.drop([\"Unnamed: 0\", \"index\"], axis=1, inplace=True)"
   ]
  },
  {
   "cell_type": "code",
   "execution_count": 295,
   "metadata": {},
   "outputs": [
    {
     "data": {
      "text/html": [
       "<div>\n",
       "<style scoped>\n",
       "    .dataframe tbody tr th:only-of-type {\n",
       "        vertical-align: middle;\n",
       "    }\n",
       "\n",
       "    .dataframe tbody tr th {\n",
       "        vertical-align: top;\n",
       "    }\n",
       "\n",
       "    .dataframe thead th {\n",
       "        text-align: right;\n",
       "    }\n",
       "</style>\n",
       "<table border=\"1\" class=\"dataframe\">\n",
       "  <thead>\n",
       "    <tr style=\"text-align: right;\">\n",
       "      <th></th>\n",
       "      <th>date</th>\n",
       "      <th>cheveux</th>\n",
       "      <th>age</th>\n",
       "      <th>exp</th>\n",
       "      <th>salaire</th>\n",
       "      <th>sexe</th>\n",
       "      <th>diplome</th>\n",
       "      <th>specialite</th>\n",
       "      <th>note</th>\n",
       "      <th>dispo</th>\n",
       "      <th>embauche</th>\n",
       "    </tr>\n",
       "  </thead>\n",
       "  <tbody>\n",
       "    <tr>\n",
       "      <th>0</th>\n",
       "      <td>2012-06-02</td>\n",
       "      <td>roux</td>\n",
       "      <td>25.0</td>\n",
       "      <td>9.0</td>\n",
       "      <td>26803.0</td>\n",
       "      <td>F</td>\n",
       "      <td>licence</td>\n",
       "      <td>geologie</td>\n",
       "      <td>97.08</td>\n",
       "      <td>non</td>\n",
       "      <td>0</td>\n",
       "    </tr>\n",
       "    <tr>\n",
       "      <th>1</th>\n",
       "      <td>2011-04-21</td>\n",
       "      <td>blond</td>\n",
       "      <td>35.0</td>\n",
       "      <td>13.0</td>\n",
       "      <td>38166.0</td>\n",
       "      <td>M</td>\n",
       "      <td>licence</td>\n",
       "      <td>forage</td>\n",
       "      <td>63.86</td>\n",
       "      <td>non</td>\n",
       "      <td>0</td>\n",
       "    </tr>\n",
       "    <tr>\n",
       "      <th>2</th>\n",
       "      <td>2012-09-07</td>\n",
       "      <td>blond</td>\n",
       "      <td>29.0</td>\n",
       "      <td>13.0</td>\n",
       "      <td>35207.0</td>\n",
       "      <td>M</td>\n",
       "      <td>licence</td>\n",
       "      <td>geologie</td>\n",
       "      <td>78.50</td>\n",
       "      <td>non</td>\n",
       "      <td>0</td>\n",
       "    </tr>\n",
       "    <tr>\n",
       "      <th>3</th>\n",
       "      <td>2011-07-01</td>\n",
       "      <td>brun</td>\n",
       "      <td>NaN</td>\n",
       "      <td>12.0</td>\n",
       "      <td>32442.0</td>\n",
       "      <td>M</td>\n",
       "      <td>licence</td>\n",
       "      <td>geologie</td>\n",
       "      <td>45.09</td>\n",
       "      <td>non</td>\n",
       "      <td>0</td>\n",
       "    </tr>\n",
       "    <tr>\n",
       "      <th>4</th>\n",
       "      <td>2012-08-07</td>\n",
       "      <td>roux</td>\n",
       "      <td>35.0</td>\n",
       "      <td>6.0</td>\n",
       "      <td>28533.0</td>\n",
       "      <td>F</td>\n",
       "      <td>licence</td>\n",
       "      <td>detective</td>\n",
       "      <td>81.91</td>\n",
       "      <td>non</td>\n",
       "      <td>0</td>\n",
       "    </tr>\n",
       "  </tbody>\n",
       "</table>\n",
       "</div>"
      ],
      "text/plain": [
       "         date cheveux   age   exp  salaire sexe  diplome specialite   note  \\\n",
       "0  2012-06-02    roux  25.0   9.0  26803.0    F  licence   geologie  97.08   \n",
       "1  2011-04-21   blond  35.0  13.0  38166.0    M  licence     forage  63.86   \n",
       "2  2012-09-07   blond  29.0  13.0  35207.0    M  licence   geologie  78.50   \n",
       "3  2011-07-01    brun   NaN  12.0  32442.0    M  licence   geologie  45.09   \n",
       "4  2012-08-07    roux  35.0   6.0  28533.0    F  licence  detective  81.91   \n",
       "\n",
       "  dispo  embauche  \n",
       "0   non         0  \n",
       "1   non         0  \n",
       "2   non         0  \n",
       "3   non         0  \n",
       "4   non         0  "
      ]
     },
     "execution_count": 295,
     "metadata": {},
     "output_type": "execute_result"
    }
   ],
   "source": [
    "df.head()"
   ]
  },
  {
   "cell_type": "code",
   "execution_count": 296,
   "metadata": {},
   "outputs": [
    {
     "data": {
      "text/html": [
       "<div>\n",
       "<style scoped>\n",
       "    .dataframe tbody tr th:only-of-type {\n",
       "        vertical-align: middle;\n",
       "    }\n",
       "\n",
       "    .dataframe tbody tr th {\n",
       "        vertical-align: top;\n",
       "    }\n",
       "\n",
       "    .dataframe thead th {\n",
       "        text-align: right;\n",
       "    }\n",
       "</style>\n",
       "<table border=\"1\" class=\"dataframe\">\n",
       "  <thead>\n",
       "    <tr style=\"text-align: right;\">\n",
       "      <th></th>\n",
       "      <th>age</th>\n",
       "      <th>exp</th>\n",
       "      <th>salaire</th>\n",
       "      <th>note</th>\n",
       "      <th>embauche</th>\n",
       "    </tr>\n",
       "  </thead>\n",
       "  <tbody>\n",
       "    <tr>\n",
       "      <th>count</th>\n",
       "      <td>19909.000000</td>\n",
       "      <td>19904.000000</td>\n",
       "      <td>19905.000000</td>\n",
       "      <td>19886.000000</td>\n",
       "      <td>20000.000000</td>\n",
       "    </tr>\n",
       "    <tr>\n",
       "      <th>mean</th>\n",
       "      <td>35.004521</td>\n",
       "      <td>9.500352</td>\n",
       "      <td>34974.343934</td>\n",
       "      <td>75.168762</td>\n",
       "      <td>0.114600</td>\n",
       "    </tr>\n",
       "    <tr>\n",
       "      <th>std</th>\n",
       "      <td>9.609169</td>\n",
       "      <td>3.012109</td>\n",
       "      <td>5003.099616</td>\n",
       "      <td>17.095926</td>\n",
       "      <td>0.318547</td>\n",
       "    </tr>\n",
       "    <tr>\n",
       "      <th>min</th>\n",
       "      <td>-3.000000</td>\n",
       "      <td>-2.000000</td>\n",
       "      <td>14128.000000</td>\n",
       "      <td>8.680000</td>\n",
       "      <td>0.000000</td>\n",
       "    </tr>\n",
       "    <tr>\n",
       "      <th>25%</th>\n",
       "      <td>29.000000</td>\n",
       "      <td>7.000000</td>\n",
       "      <td>31596.000000</td>\n",
       "      <td>63.720000</td>\n",
       "      <td>0.000000</td>\n",
       "    </tr>\n",
       "    <tr>\n",
       "      <th>50%</th>\n",
       "      <td>35.000000</td>\n",
       "      <td>9.000000</td>\n",
       "      <td>34979.000000</td>\n",
       "      <td>75.080000</td>\n",
       "      <td>0.000000</td>\n",
       "    </tr>\n",
       "    <tr>\n",
       "      <th>75%</th>\n",
       "      <td>41.000000</td>\n",
       "      <td>12.000000</td>\n",
       "      <td>38358.000000</td>\n",
       "      <td>86.617500</td>\n",
       "      <td>0.000000</td>\n",
       "    </tr>\n",
       "    <tr>\n",
       "      <th>max</th>\n",
       "      <td>74.000000</td>\n",
       "      <td>23.000000</td>\n",
       "      <td>53977.000000</td>\n",
       "      <td>143.220000</td>\n",
       "      <td>1.000000</td>\n",
       "    </tr>\n",
       "  </tbody>\n",
       "</table>\n",
       "</div>"
      ],
      "text/plain": [
       "                age           exp       salaire          note      embauche\n",
       "count  19909.000000  19904.000000  19905.000000  19886.000000  20000.000000\n",
       "mean      35.004521      9.500352  34974.343934     75.168762      0.114600\n",
       "std        9.609169      3.012109   5003.099616     17.095926      0.318547\n",
       "min       -3.000000     -2.000000  14128.000000      8.680000      0.000000\n",
       "25%       29.000000      7.000000  31596.000000     63.720000      0.000000\n",
       "50%       35.000000      9.000000  34979.000000     75.080000      0.000000\n",
       "75%       41.000000     12.000000  38358.000000     86.617500      0.000000\n",
       "max       74.000000     23.000000  53977.000000    143.220000      1.000000"
      ]
     },
     "execution_count": 296,
     "metadata": {},
     "output_type": "execute_result"
    }
   ],
   "source": [
    "df.describe ()"
   ]
  },
  {
   "cell_type": "markdown",
   "metadata": {},
   "source": [
    "###### Afin d'étudier la prédiction d'embauche, nous allons selectionner les valeurs les plus pertinetntes: diplôme, date,\n",
    "###### Faire une inspection et visualisation afin de voir la correlation entre ces valeurs"
   ]
  },
  {
   "cell_type": "code",
   "execution_count": 297,
   "metadata": {},
   "outputs": [
    {
     "data": {
      "text/plain": [
       "<matplotlib.axes._subplots.AxesSubplot at 0x7ff253ddd880>"
      ]
     },
     "execution_count": 297,
     "metadata": {},
     "output_type": "execute_result"
    },
    {
     "data": {
      "image/png": "[encoded data removed]",
      "text/plain": [
       "<Figure size 1008x720 with 1 Axes>"
      ]
     },
     "metadata": {
      "needs_background": "light"
     },
     "output_type": "display_data"
    }
   ],
   "source": [
    "#viz, inspection on value date of application and assumption(embauche)\n",
    "#viz,sur la valeur date et embauche\n",
    "\n",
    "df.head(50).plot(x=\"date\",y=\"embauche\", kind=\"bar\", figsize=(14,10))"
   ]
  },
  {
   "cell_type": "markdown",
   "metadata": {},
   "source": [
    "###### On remarque que à certaines dates, il y'a pas eu de candidatures"
   ]
  },
  {
   "cell_type": "code",
   "execution_count": 298,
   "metadata": {},
   "outputs": [
    {
     "data": {
      "text/plain": [
       "<matplotlib.axes._subplots.AxesSubplot at 0x7ff254db3280>"
      ]
     },
     "execution_count": 298,
     "metadata": {},
     "output_type": "execute_result"
    },
    {
     "data": {
      "image/png": "[encoded data removed]",
      "text/plain": [
       "<Figure size 432x288 with 1 Axes>"
      ]
     },
     "metadata": {
      "needs_background": "light"
     },
     "output_type": "display_data"
    }
   ],
   "source": [
    "# Count values labels (to deal with unbalanced labels, statistics on labels)\n",
    "# on compte les valeurs ,pour evidencier les valeurs non équilibeés\n",
    "\n",
    "y=df[\"embauche\"].value_counts()\n",
    "sns.barplot(y.index, y.values)"
   ]
  },
  {
   "cell_type": "markdown",
   "metadata": {},
   "source": [
    "#### étude statistique sur les valeurs continues"
   ]
  },
  {
   "cell_type": "code",
   "execution_count": 299,
   "metadata": {},
   "outputs": [
    {
     "name": "stdout",
     "output_type": "stream",
     "text": [
      "#########  cheveux ###########\n",
      "chatain    6022\n",
      "brun       5991\n",
      "blond      5929\n",
      "roux       1955\n",
      "Name: cheveux, dtype: int64\n",
      "#########  sexe ###########\n",
      "M    11889\n",
      "F     8011\n",
      "Name: sexe, dtype: int64\n",
      "#########  diplome ###########\n",
      "master      7513\n",
      "licence     7377\n",
      "doctorat    2547\n",
      "bac         2453\n",
      "Name: diplome, dtype: int64\n",
      "#########  specialite ###########\n",
      "geologie       10028\n",
      "forage          4340\n",
      "detective       4155\n",
      "archeologie     1384\n",
      "Name: specialite, dtype: int64\n",
      "#########  dispo ###########\n",
      "non    11848\n",
      "oui     8046\n",
      "Name: dispo, dtype: int64\n"
     ]
    }
   ],
   "source": [
    "#counts sur les valeurs continues\n",
    "\n",
    "\n",
    "print(\"#########  cheveux ###########\")\n",
    "print(df[\"cheveux\"].value_counts())\n",
    "print(\"#########  sexe ###########\")\n",
    "print(df[\"sexe\"].value_counts())\n",
    "print(\"#########  diplome ###########\")\n",
    "print(df[\"diplome\"].value_counts())\n",
    "print(\"#########  specialite ###########\")\n",
    "print(df[\"specialite\"].value_counts())\n",
    "print(\"#########  dispo ###########\")\n",
    "print(df[\"dispo\"].value_counts())"
   ]
  },
  {
   "cell_type": "code",
   "execution_count": 300,
   "metadata": {},
   "outputs": [
    {
     "data": {
      "text/plain": [
       "<matplotlib.axes._subplots.AxesSubplot at 0x7ff2572f20d0>"
      ]
     },
     "execution_count": 300,
     "metadata": {},
     "output_type": "execute_result"
    },
    {
     "data": {
      "image/png": "[encoded data removed]",
      "text/plain": [
       "<Figure size 432x288 with 1 Axes>"
      ]
     },
     "metadata": {
      "needs_background": "light"
     },
     "output_type": "display_data"
    }
   ],
   "source": [
    "#inspection viz on diplome\n",
    "\n",
    "\n",
    "df[\"diplome\"].value_counts().plot(kind=\"bar\")"
   ]
  },
  {
   "cell_type": "markdown",
   "metadata": {},
   "source": [
    "### Stats on NAN per column"
   ]
  },
  {
   "cell_type": "code",
   "execution_count": 301,
   "metadata": {},
   "outputs": [
    {
     "data": {
      "text/plain": [
       "date           91\n",
       "cheveux       103\n",
       "age            91\n",
       "exp            96\n",
       "salaire        95\n",
       "sexe          100\n",
       "diplome       110\n",
       "specialite     93\n",
       "note          114\n",
       "dispo         106\n",
       "embauche        0\n",
       "dtype: int64"
      ]
     },
     "execution_count": 301,
     "metadata": {},
     "output_type": "execute_result"
    }
   ],
   "source": [
    "df.isnull().sum(axis = 0)"
   ]
  },
  {
   "cell_type": "code",
   "execution_count": null,
   "metadata": {},
   "outputs": [],
   "source": []
  },
  {
   "cell_type": "code",
   "execution_count": 302,
   "metadata": {},
   "outputs": [],
   "source": [
    "#chemin=os.getcwd()\n",
    "\n",
    "#df = pd.read_csv(chemin + \"/\" + \"data_v1.0.csv\", index_col= 0, header=0)\n",
    "#df = pd.read_csv(chemin + \"/\" + \"data_v1.0.csv\", index_col= 0, header=0, usecols=range(2,13),encoding=\"unicode_escape\")\n",
    "#df.head()"
   ]
  },
  {
   "cell_type": "markdown",
   "metadata": {},
   "source": [
    "##### edition d'un rapport html \"rapport_Data_Set.html\" sur le jeu de données (overview, relations)"
   ]
  },
  {
   "cell_type": "code",
   "execution_count": 303,
   "metadata": {},
   "outputs": [
    {
     "name": "stdout",
     "output_type": "stream",
     "text": [
      "#[1]============ Profilage du jeux de données ================\n"
     ]
    },
    {
     "data": {
      "application/vnd.jupyter.widget-view+json": {
       "model_id": "77eeeab9bad549d5bc6626728dd5684e",
       "version_major": 2,
       "version_minor": 0
      },
      "text/plain": [
       "HBox(children=(FloatProgress(value=0.0, description='Summarize dataset', max=25.0, style=ProgressStyle(descrip…"
      ]
     },
     "metadata": {},
     "output_type": "display_data"
    },
    {
     "name": "stdout",
     "output_type": "stream",
     "text": [
      "\n"
     ]
    },
    {
     "data": {
      "application/vnd.jupyter.widget-view+json": {
       "model_id": "3d6cf7c8b7ee42be92f74a7dced48c0d",
       "version_major": 2,
       "version_minor": 0
      },
      "text/plain": [
       "HBox(children=(FloatProgress(value=0.0, description='Generate report structure', max=1.0, style=ProgressStyle(…"
      ]
     },
     "metadata": {},
     "output_type": "display_data"
    },
    {
     "name": "stdout",
     "output_type": "stream",
     "text": [
      "\n"
     ]
    },
    {
     "data": {
      "application/vnd.jupyter.widget-view+json": {
       "model_id": "28a8ad5995ac40c3a5454221d40cfb73",
       "version_major": 2,
       "version_minor": 0
      },
      "text/plain": [
       "HBox(children=(FloatProgress(value=0.0, description='Render HTML', max=1.0, style=ProgressStyle(description_wi…"
      ]
     },
     "metadata": {},
     "output_type": "display_data"
    },
    {
     "name": "stdout",
     "output_type": "stream",
     "text": [
      "\n"
     ]
    },
    {
     "data": {
      "application/vnd.jupyter.widget-view+json": {
       "model_id": "b493b94b9e3b4203a963e9529d60a92f",
       "version_major": 2,
       "version_minor": 0
      },
      "text/plain": [
       "HBox(children=(FloatProgress(value=0.0, description='Export report to file', max=1.0, style=ProgressStyle(desc…"
      ]
     },
     "metadata": {},
     "output_type": "display_data"
    },
    {
     "name": "stdout",
     "output_type": "stream",
     "text": [
      "\n"
     ]
    }
   ],
   "source": [
    "print (\"#[1]============ Profilage du jeux de données ================\")\n",
    "from pandas_profiling import ProfileReport\n",
    "prof=ProfileReport(df)\n",
    "prof.to_file(output_file=\"rapport_Data_Set.html\")"
   ]
  },
  {
   "cell_type": "markdown",
   "metadata": {},
   "source": [
    "### Stat sur les cellules vides"
   ]
  },
  {
   "cell_type": "code",
   "execution_count": 304,
   "metadata": {},
   "outputs": [
    {
     "data": {
      "text/plain": [
       "999"
      ]
     },
     "execution_count": 304,
     "metadata": {},
     "output_type": "execute_result"
    }
   ],
   "source": [
    "df.isnull().sum(axis = 0).sum()\n"
   ]
  },
  {
   "cell_type": "code",
   "execution_count": 305,
   "metadata": {},
   "outputs": [
    {
     "data": {
      "text/plain": [
       "date           91\n",
       "cheveux       103\n",
       "age            91\n",
       "exp            96\n",
       "salaire        95\n",
       "sexe          100\n",
       "diplome       110\n",
       "specialite     93\n",
       "note          114\n",
       "dispo         106\n",
       "embauche        0\n",
       "dtype: int64"
      ]
     },
     "execution_count": 305,
     "metadata": {},
     "output_type": "execute_result"
    }
   ],
   "source": [
    "df.isnull().sum(axis = 0)"
   ]
  },
  {
   "cell_type": "markdown",
   "metadata": {},
   "source": [
    "### Rejet des lignes commportant des cellules vides\n",
    "##### On peut le faire sans perturber le jeu de donnée, les valeurs NaN de chaque colonne représentant 1% du nombre de lignes"
   ]
  },
  {
   "cell_type": "code",
   "execution_count": 306,
   "metadata": {},
   "outputs": [],
   "source": [
    "df.dropna(inplace=True)"
   ]
  },
  {
   "cell_type": "markdown",
   "metadata": {},
   "source": [
    "### Ne conservons que les rangées comportant des valeurs cohérentes\n"
   ]
  },
  {
   "cell_type": "code",
   "execution_count": 307,
   "metadata": {},
   "outputs": [],
   "source": [
    "df = df[df.age > 0]\n",
    "df = df[df.exp > 0]"
   ]
  },
  {
   "cell_type": "markdown",
   "metadata": {},
   "source": [
    "## Recherche des corrélations entre variables\n",
    "##### source méthodologique : https://medium.com/brdata/correlation-straight-to-the-point-e692ab601f4c"
   ]
  },
  {
   "cell_type": "markdown",
   "metadata": {},
   "source": [
    "#### Construction de 2 dataframes 1 contenant les variables catégorielles et l'autre sans celles-ci"
   ]
  },
  {
   "cell_type": "code",
   "execution_count": 308,
   "metadata": {},
   "outputs": [],
   "source": [
    "# selection d'object type colonnes  uniquement  \n",
    "df_objects = df.select_dtypes(include=['object']) \n",
    "\n",
    "# excluding object type column.\n",
    "df_bar_objects = df.select_dtypes(exclude=['object']) "
   ]
  },
  {
   "cell_type": "markdown",
   "metadata": {},
   "source": [
    "##### Vectorization -> Variable catégorielle transformée en variables continues. \n",
    "##### Cette méthode permet d'obtenir la représentation numérique d'un tableau en identifiant des valeurs distinctes."
   ]
  },
  {
   "cell_type": "code",
   "execution_count": 309,
   "metadata": {},
   "outputs": [],
   "source": [
    "df_objects = df_objects.apply(lambda x : pd.factorize(x)[0]) \n",
    "\n",
    "#jointure des dataframes\n",
    "df_final = df_bar_objects.join(df_objects) "
   ]
  },
  {
   "cell_type": "code",
   "execution_count": 310,
   "metadata": {},
   "outputs": [
    {
     "name": "stdout",
     "output_type": "stream",
     "text": [
      "[[ 3.20244847e+00 -1.67688187e-03]\n",
      " [-1.67688187e-03  3.12293962e-01]]\n"
     ]
    }
   ],
   "source": [
    "#matrice \n",
    "\n",
    "df_tmp = df[[\"age\",\"exp\"]].dropna()\n",
    "\n",
    "X = df_tmp[\"age\"].values\n",
    "Y = df_tmp[\"exp\"].values\n",
    "\n",
    "rho = np.cov(X,Y) / (np.std(X)*np.std(Y))\n",
    "print(rho)"
   ]
  },
  {
   "cell_type": "code",
   "execution_count": 311,
   "metadata": {},
   "outputs": [
    {
     "data": {
      "text/html": [
       "<div>\n",
       "<style scoped>\n",
       "    .dataframe tbody tr th:only-of-type {\n",
       "        vertical-align: middle;\n",
       "    }\n",
       "\n",
       "    .dataframe tbody tr th {\n",
       "        vertical-align: top;\n",
       "    }\n",
       "\n",
       "    .dataframe thead th {\n",
       "        text-align: right;\n",
       "    }\n",
       "</style>\n",
       "<table border=\"1\" class=\"dataframe\">\n",
       "  <thead>\n",
       "    <tr style=\"text-align: right;\">\n",
       "      <th></th>\n",
       "      <th>age</th>\n",
       "      <th>exp</th>\n",
       "      <th>salaire</th>\n",
       "      <th>note</th>\n",
       "      <th>date</th>\n",
       "      <th>cheveux</th>\n",
       "      <th>sexe</th>\n",
       "      <th>diplome</th>\n",
       "      <th>specialite</th>\n",
       "      <th>dispo</th>\n",
       "    </tr>\n",
       "  </thead>\n",
       "  <tbody>\n",
       "    <tr>\n",
       "      <th>age</th>\n",
       "      <td>1.000000</td>\n",
       "      <td>-0.004236</td>\n",
       "      <td>-0.000968</td>\n",
       "      <td>-0.005321</td>\n",
       "      <td>0.004243</td>\n",
       "      <td>0.000781</td>\n",
       "      <td>0.000664</td>\n",
       "      <td>-0.018580</td>\n",
       "      <td>-0.014247</td>\n",
       "      <td>-0.009740</td>\n",
       "    </tr>\n",
       "    <tr>\n",
       "      <th>exp</th>\n",
       "      <td>-0.004236</td>\n",
       "      <td>1.000000</td>\n",
       "      <td>0.006635</td>\n",
       "      <td>-0.012144</td>\n",
       "      <td>-0.001686</td>\n",
       "      <td>-0.002113</td>\n",
       "      <td>0.001654</td>\n",
       "      <td>-0.001670</td>\n",
       "      <td>0.000511</td>\n",
       "      <td>-0.006281</td>\n",
       "    </tr>\n",
       "    <tr>\n",
       "      <th>salaire</th>\n",
       "      <td>-0.000968</td>\n",
       "      <td>0.006635</td>\n",
       "      <td>1.000000</td>\n",
       "      <td>-0.424741</td>\n",
       "      <td>0.011394</td>\n",
       "      <td>0.043110</td>\n",
       "      <td>0.128753</td>\n",
       "      <td>-0.086822</td>\n",
       "      <td>0.124705</td>\n",
       "      <td>0.180334</td>\n",
       "    </tr>\n",
       "    <tr>\n",
       "      <th>note</th>\n",
       "      <td>-0.005321</td>\n",
       "      <td>-0.012144</td>\n",
       "      <td>-0.424741</td>\n",
       "      <td>1.000000</td>\n",
       "      <td>-0.006383</td>\n",
       "      <td>0.023816</td>\n",
       "      <td>-0.259047</td>\n",
       "      <td>0.109517</td>\n",
       "      <td>0.166568</td>\n",
       "      <td>0.342592</td>\n",
       "    </tr>\n",
       "    <tr>\n",
       "      <th>date</th>\n",
       "      <td>0.004243</td>\n",
       "      <td>-0.001686</td>\n",
       "      <td>0.011394</td>\n",
       "      <td>-0.006383</td>\n",
       "      <td>1.000000</td>\n",
       "      <td>-0.000297</td>\n",
       "      <td>0.010322</td>\n",
       "      <td>-0.003530</td>\n",
       "      <td>0.010818</td>\n",
       "      <td>0.001037</td>\n",
       "    </tr>\n",
       "    <tr>\n",
       "      <th>cheveux</th>\n",
       "      <td>0.000781</td>\n",
       "      <td>-0.002113</td>\n",
       "      <td>0.043110</td>\n",
       "      <td>0.023816</td>\n",
       "      <td>-0.000297</td>\n",
       "      <td>1.000000</td>\n",
       "      <td>-0.176436</td>\n",
       "      <td>-0.028562</td>\n",
       "      <td>0.088133</td>\n",
       "      <td>0.070314</td>\n",
       "    </tr>\n",
       "    <tr>\n",
       "      <th>sexe</th>\n",
       "      <td>0.000664</td>\n",
       "      <td>0.001654</td>\n",
       "      <td>0.128753</td>\n",
       "      <td>-0.259047</td>\n",
       "      <td>0.010322</td>\n",
       "      <td>-0.176436</td>\n",
       "      <td>1.000000</td>\n",
       "      <td>-0.017828</td>\n",
       "      <td>-0.366420</td>\n",
       "      <td>0.068315</td>\n",
       "    </tr>\n",
       "    <tr>\n",
       "      <th>diplome</th>\n",
       "      <td>-0.018580</td>\n",
       "      <td>-0.001670</td>\n",
       "      <td>-0.086822</td>\n",
       "      <td>0.109517</td>\n",
       "      <td>-0.003530</td>\n",
       "      <td>-0.028562</td>\n",
       "      <td>-0.017828</td>\n",
       "      <td>1.000000</td>\n",
       "      <td>0.015779</td>\n",
       "      <td>0.148106</td>\n",
       "    </tr>\n",
       "    <tr>\n",
       "      <th>specialite</th>\n",
       "      <td>-0.014247</td>\n",
       "      <td>0.000511</td>\n",
       "      <td>0.124705</td>\n",
       "      <td>0.166568</td>\n",
       "      <td>0.010818</td>\n",
       "      <td>0.088133</td>\n",
       "      <td>-0.366420</td>\n",
       "      <td>0.015779</td>\n",
       "      <td>1.000000</td>\n",
       "      <td>0.383247</td>\n",
       "    </tr>\n",
       "    <tr>\n",
       "      <th>dispo</th>\n",
       "      <td>-0.009740</td>\n",
       "      <td>-0.006281</td>\n",
       "      <td>0.180334</td>\n",
       "      <td>0.342592</td>\n",
       "      <td>0.001037</td>\n",
       "      <td>0.070314</td>\n",
       "      <td>0.068315</td>\n",
       "      <td>0.148106</td>\n",
       "      <td>0.383247</td>\n",
       "      <td>1.000000</td>\n",
       "    </tr>\n",
       "  </tbody>\n",
       "</table>\n",
       "</div>"
      ],
      "text/plain": [
       "                 age       exp   salaire      note      date   cheveux  \\\n",
       "age         1.000000 -0.004236 -0.000968 -0.005321  0.004243  0.000781   \n",
       "exp        -0.004236  1.000000  0.006635 -0.012144 -0.001686 -0.002113   \n",
       "salaire    -0.000968  0.006635  1.000000 -0.424741  0.011394  0.043110   \n",
       "note       -0.005321 -0.012144 -0.424741  1.000000 -0.006383  0.023816   \n",
       "date        0.004243 -0.001686  0.011394 -0.006383  1.000000 -0.000297   \n",
       "cheveux     0.000781 -0.002113  0.043110  0.023816 -0.000297  1.000000   \n",
       "sexe        0.000664  0.001654  0.128753 -0.259047  0.010322 -0.176436   \n",
       "diplome    -0.018580 -0.001670 -0.086822  0.109517 -0.003530 -0.028562   \n",
       "specialite -0.014247  0.000511  0.124705  0.166568  0.010818  0.088133   \n",
       "dispo      -0.009740 -0.006281  0.180334  0.342592  0.001037  0.070314   \n",
       "\n",
       "                sexe   diplome  specialite     dispo  \n",
       "age         0.000664 -0.018580   -0.014247 -0.009740  \n",
       "exp         0.001654 -0.001670    0.000511 -0.006281  \n",
       "salaire     0.128753 -0.086822    0.124705  0.180334  \n",
       "note       -0.259047  0.109517    0.166568  0.342592  \n",
       "date        0.010322 -0.003530    0.010818  0.001037  \n",
       "cheveux    -0.176436 -0.028562    0.088133  0.070314  \n",
       "sexe        1.000000 -0.017828   -0.366420  0.068315  \n",
       "diplome    -0.017828  1.000000    0.015779  0.148106  \n",
       "specialite -0.366420  0.015779    1.000000  0.383247  \n",
       "dispo       0.068315  0.148106    0.383247  1.000000  "
      ]
     },
     "execution_count": 311,
     "metadata": {},
     "output_type": "execute_result"
    }
   ],
   "source": [
    "# spearman : Spearman rank correlation (non linear corr),qualitavie varr\n",
    "#df.corr(method='spearman')\n",
    "\n",
    "\n",
    "df_filter.corr(method='spearman', min_periods=1)"
   ]
  },
  {
   "cell_type": "markdown",
   "metadata": {},
   "source": [
    "## pearson : standard correlation coefficient (linear corr)\n",
    "##### df.corr(method='pearson'). Pearson’s correlation measures the **linear association** between continuous variables.\n",
    "\n",
    "##### Interpreting the value of ρ :\n",
    "###### - 0.9 to 1 positive or negative indicates a very strong correlation.\n",
    "###### - 0.7 to 0.9 positive or negative indicates a strong correlation.\n",
    "###### - 0.5 to 0.7 positive or negative indicates a moderate correlation.\n",
    "###### - 0.3 to 0.5 positive or negative indicates a weak correlation.\n",
    "###### - 0 to 0.3 positive or negative indicates a negligible correlation.\n"
   ]
  },
  {
   "cell_type": "code",
   "execution_count": 312,
   "metadata": {},
   "outputs": [
    {
     "data": {
      "text/html": [
       "<div>\n",
       "<style scoped>\n",
       "    .dataframe tbody tr th:only-of-type {\n",
       "        vertical-align: middle;\n",
       "    }\n",
       "\n",
       "    .dataframe tbody tr th {\n",
       "        vertical-align: top;\n",
       "    }\n",
       "\n",
       "    .dataframe thead th {\n",
       "        text-align: right;\n",
       "    }\n",
       "</style>\n",
       "<table border=\"1\" class=\"dataframe\">\n",
       "  <thead>\n",
       "    <tr style=\"text-align: right;\">\n",
       "      <th></th>\n",
       "      <th>age</th>\n",
       "      <th>exp</th>\n",
       "      <th>salaire</th>\n",
       "      <th>note</th>\n",
       "      <th>date</th>\n",
       "      <th>cheveux</th>\n",
       "      <th>sexe</th>\n",
       "      <th>diplome</th>\n",
       "      <th>specialite</th>\n",
       "      <th>dispo</th>\n",
       "    </tr>\n",
       "  </thead>\n",
       "  <tbody>\n",
       "    <tr>\n",
       "      <th>age</th>\n",
       "      <td>1.000000</td>\n",
       "      <td>-0.001677</td>\n",
       "      <td>-0.000475</td>\n",
       "      <td>-0.003551</td>\n",
       "      <td>0.004280</td>\n",
       "      <td>-0.000139</td>\n",
       "      <td>0.000565</td>\n",
       "      <td>-0.013277</td>\n",
       "      <td>-0.017649</td>\n",
       "      <td>-0.011052</td>\n",
       "    </tr>\n",
       "    <tr>\n",
       "      <th>exp</th>\n",
       "      <td>-0.001677</td>\n",
       "      <td>1.000000</td>\n",
       "      <td>0.010133</td>\n",
       "      <td>-0.010365</td>\n",
       "      <td>-0.001816</td>\n",
       "      <td>-0.002870</td>\n",
       "      <td>0.002336</td>\n",
       "      <td>0.000466</td>\n",
       "      <td>0.003769</td>\n",
       "      <td>-0.003828</td>\n",
       "    </tr>\n",
       "    <tr>\n",
       "      <th>salaire</th>\n",
       "      <td>-0.000475</td>\n",
       "      <td>0.010133</td>\n",
       "      <td>1.000000</td>\n",
       "      <td>-0.447423</td>\n",
       "      <td>0.011337</td>\n",
       "      <td>0.043774</td>\n",
       "      <td>0.129525</td>\n",
       "      <td>-0.011765</td>\n",
       "      <td>0.127214</td>\n",
       "      <td>0.179341</td>\n",
       "    </tr>\n",
       "    <tr>\n",
       "      <th>note</th>\n",
       "      <td>-0.003551</td>\n",
       "      <td>-0.010365</td>\n",
       "      <td>-0.447423</td>\n",
       "      <td>1.000000</td>\n",
       "      <td>-0.007437</td>\n",
       "      <td>0.030569</td>\n",
       "      <td>-0.266362</td>\n",
       "      <td>-0.002436</td>\n",
       "      <td>0.173104</td>\n",
       "      <td>0.343710</td>\n",
       "    </tr>\n",
       "    <tr>\n",
       "      <th>date</th>\n",
       "      <td>0.004280</td>\n",
       "      <td>-0.001816</td>\n",
       "      <td>0.011337</td>\n",
       "      <td>-0.007437</td>\n",
       "      <td>1.000000</td>\n",
       "      <td>-0.000964</td>\n",
       "      <td>0.010218</td>\n",
       "      <td>0.000344</td>\n",
       "      <td>0.011302</td>\n",
       "      <td>0.001205</td>\n",
       "    </tr>\n",
       "    <tr>\n",
       "      <th>cheveux</th>\n",
       "      <td>-0.000139</td>\n",
       "      <td>-0.002870</td>\n",
       "      <td>0.043774</td>\n",
       "      <td>0.030569</td>\n",
       "      <td>-0.000964</td>\n",
       "      <td>1.000000</td>\n",
       "      <td>-0.183066</td>\n",
       "      <td>-0.111150</td>\n",
       "      <td>0.092737</td>\n",
       "      <td>0.073895</td>\n",
       "    </tr>\n",
       "    <tr>\n",
       "      <th>sexe</th>\n",
       "      <td>0.000565</td>\n",
       "      <td>0.002336</td>\n",
       "      <td>0.129525</td>\n",
       "      <td>-0.266362</td>\n",
       "      <td>0.010218</td>\n",
       "      <td>-0.183066</td>\n",
       "      <td>1.000000</td>\n",
       "      <td>-0.007262</td>\n",
       "      <td>-0.368455</td>\n",
       "      <td>0.068315</td>\n",
       "    </tr>\n",
       "    <tr>\n",
       "      <th>diplome</th>\n",
       "      <td>-0.013277</td>\n",
       "      <td>0.000466</td>\n",
       "      <td>-0.011765</td>\n",
       "      <td>-0.002436</td>\n",
       "      <td>0.000344</td>\n",
       "      <td>-0.111150</td>\n",
       "      <td>-0.007262</td>\n",
       "      <td>1.000000</td>\n",
       "      <td>-0.000789</td>\n",
       "      <td>0.059390</td>\n",
       "    </tr>\n",
       "    <tr>\n",
       "      <th>specialite</th>\n",
       "      <td>-0.017649</td>\n",
       "      <td>0.003769</td>\n",
       "      <td>0.127214</td>\n",
       "      <td>0.173104</td>\n",
       "      <td>0.011302</td>\n",
       "      <td>0.092737</td>\n",
       "      <td>-0.368455</td>\n",
       "      <td>-0.000789</td>\n",
       "      <td>1.000000</td>\n",
       "      <td>0.381608</td>\n",
       "    </tr>\n",
       "    <tr>\n",
       "      <th>dispo</th>\n",
       "      <td>-0.011052</td>\n",
       "      <td>-0.003828</td>\n",
       "      <td>0.179341</td>\n",
       "      <td>0.343710</td>\n",
       "      <td>0.001205</td>\n",
       "      <td>0.073895</td>\n",
       "      <td>0.068315</td>\n",
       "      <td>0.059390</td>\n",
       "      <td>0.381608</td>\n",
       "      <td>1.000000</td>\n",
       "    </tr>\n",
       "  </tbody>\n",
       "</table>\n",
       "</div>"
      ],
      "text/plain": [
       "                 age       exp   salaire      note      date   cheveux  \\\n",
       "age         1.000000 -0.001677 -0.000475 -0.003551  0.004280 -0.000139   \n",
       "exp        -0.001677  1.000000  0.010133 -0.010365 -0.001816 -0.002870   \n",
       "salaire    -0.000475  0.010133  1.000000 -0.447423  0.011337  0.043774   \n",
       "note       -0.003551 -0.010365 -0.447423  1.000000 -0.007437  0.030569   \n",
       "date        0.004280 -0.001816  0.011337 -0.007437  1.000000 -0.000964   \n",
       "cheveux    -0.000139 -0.002870  0.043774  0.030569 -0.000964  1.000000   \n",
       "sexe        0.000565  0.002336  0.129525 -0.266362  0.010218 -0.183066   \n",
       "diplome    -0.013277  0.000466 -0.011765 -0.002436  0.000344 -0.111150   \n",
       "specialite -0.017649  0.003769  0.127214  0.173104  0.011302  0.092737   \n",
       "dispo      -0.011052 -0.003828  0.179341  0.343710  0.001205  0.073895   \n",
       "\n",
       "                sexe   diplome  specialite     dispo  \n",
       "age         0.000565 -0.013277   -0.017649 -0.011052  \n",
       "exp         0.002336  0.000466    0.003769 -0.003828  \n",
       "salaire     0.129525 -0.011765    0.127214  0.179341  \n",
       "note       -0.266362 -0.002436    0.173104  0.343710  \n",
       "date        0.010218  0.000344    0.011302  0.001205  \n",
       "cheveux    -0.183066 -0.111150    0.092737  0.073895  \n",
       "sexe        1.000000 -0.007262   -0.368455  0.068315  \n",
       "diplome    -0.007262  1.000000   -0.000789  0.059390  \n",
       "specialite -0.368455 -0.000789    1.000000  0.381608  \n",
       "dispo       0.068315  0.059390    0.381608  1.000000  "
      ]
     },
     "execution_count": 312,
     "metadata": {},
     "output_type": "execute_result"
    }
   ],
   "source": [
    "df_filter = df_final.drop([\"embauche\"], axis=1).copy()\n",
    "df_filter.corr(method='pearson', min_periods=1)"
   ]
  },
  {
   "cell_type": "code",
   "execution_count": 313,
   "metadata": {},
   "outputs": [
    {
     "data": {
      "text/plain": [
       "[Text(0.5, 0, 'age'),\n",
       " Text(1.5, 0, 'exp'),\n",
       " Text(2.5, 0, 'salaire'),\n",
       " Text(3.5, 0, 'note'),\n",
       " Text(4.5, 0, 'date'),\n",
       " Text(5.5, 0, 'cheveux'),\n",
       " Text(6.5, 0, 'sexe'),\n",
       " Text(7.5, 0, 'diplome'),\n",
       " Text(8.5, 0, 'specialite'),\n",
       " Text(9.5, 0, 'dispo')]"
      ]
     },
     "execution_count": 313,
     "metadata": {},
     "output_type": "execute_result"
    },
    {
     "data": {
      "image/png": "[encoded data removed]",
      "text/plain": [
       "<Figure size 720x720 with 2 Axes>"
      ]
     },
     "metadata": {
      "needs_background": "light"
     },
     "output_type": "display_data"
    }
   ],
   "source": [
    "import seaborn as sns\n",
    "corr = df_filter.corr(method='spearman', min_periods=1)\n",
    "\n",
    "fig, ax = plt.subplots(figsize=(10,10))  \n",
    "sns.heatmap(\n",
    "    corr, \n",
    "    vmin=-1, vmax=1, center=0,\n",
    "    cmap=sns.diverging_palette(20, 220, n=200),\n",
    "    square=True,\n",
    "    ax = ax\n",
    ")\n",
    "ax.set_xticklabels(\n",
    "    ax.get_xticklabels(),\n",
    "    rotation=45,\n",
    "    horizontalalignment='right'\n",
    ")"
   ]
  },
  {
   "cell_type": "markdown",
   "metadata": {},
   "source": [
    "##### salaire et note presentent une correlation appreciable\n",
    "###### cheveux et sexe une correlation faible\n",
    "###### sexe et specilaité..."
   ]
  },
  {
   "cell_type": "markdown",
   "metadata": {},
   "source": [
    "## Spearman Correlation Coefficient\n",
    "##### The Spearman correlation coefficient is indicated for the calculation of the correlation between random variables x and y related monotonically to each other, **but not necessarily linearly**. If the relation is linear Pearson’s method is the most indicated."
   ]
  },
  {
   "cell_type": "code",
   "execution_count": 314,
   "metadata": {},
   "outputs": [
    {
     "data": {
      "text/html": [
       "<div>\n",
       "<style scoped>\n",
       "    .dataframe tbody tr th:only-of-type {\n",
       "        vertical-align: middle;\n",
       "    }\n",
       "\n",
       "    .dataframe tbody tr th {\n",
       "        vertical-align: top;\n",
       "    }\n",
       "\n",
       "    .dataframe thead th {\n",
       "        text-align: right;\n",
       "    }\n",
       "</style>\n",
       "<table border=\"1\" class=\"dataframe\">\n",
       "  <thead>\n",
       "    <tr style=\"text-align: right;\">\n",
       "      <th></th>\n",
       "      <th>age</th>\n",
       "      <th>exp</th>\n",
       "      <th>salaire</th>\n",
       "      <th>note</th>\n",
       "      <th>date</th>\n",
       "      <th>cheveux</th>\n",
       "      <th>sexe</th>\n",
       "      <th>diplome</th>\n",
       "      <th>specialite</th>\n",
       "      <th>dispo</th>\n",
       "    </tr>\n",
       "  </thead>\n",
       "  <tbody>\n",
       "    <tr>\n",
       "      <th>age</th>\n",
       "      <td>1.000000</td>\n",
       "      <td>-0.004236</td>\n",
       "      <td>-0.000968</td>\n",
       "      <td>-0.005321</td>\n",
       "      <td>0.004243</td>\n",
       "      <td>0.000781</td>\n",
       "      <td>0.000664</td>\n",
       "      <td>-0.018580</td>\n",
       "      <td>-0.014247</td>\n",
       "      <td>-0.009740</td>\n",
       "    </tr>\n",
       "    <tr>\n",
       "      <th>exp</th>\n",
       "      <td>-0.004236</td>\n",
       "      <td>1.000000</td>\n",
       "      <td>0.006635</td>\n",
       "      <td>-0.012144</td>\n",
       "      <td>-0.001686</td>\n",
       "      <td>-0.002113</td>\n",
       "      <td>0.001654</td>\n",
       "      <td>-0.001670</td>\n",
       "      <td>0.000511</td>\n",
       "      <td>-0.006281</td>\n",
       "    </tr>\n",
       "    <tr>\n",
       "      <th>salaire</th>\n",
       "      <td>-0.000968</td>\n",
       "      <td>0.006635</td>\n",
       "      <td>1.000000</td>\n",
       "      <td>-0.424741</td>\n",
       "      <td>0.011394</td>\n",
       "      <td>0.043110</td>\n",
       "      <td>0.128753</td>\n",
       "      <td>-0.086822</td>\n",
       "      <td>0.124705</td>\n",
       "      <td>0.180334</td>\n",
       "    </tr>\n",
       "    <tr>\n",
       "      <th>note</th>\n",
       "      <td>-0.005321</td>\n",
       "      <td>-0.012144</td>\n",
       "      <td>-0.424741</td>\n",
       "      <td>1.000000</td>\n",
       "      <td>-0.006383</td>\n",
       "      <td>0.023816</td>\n",
       "      <td>-0.259047</td>\n",
       "      <td>0.109517</td>\n",
       "      <td>0.166568</td>\n",
       "      <td>0.342592</td>\n",
       "    </tr>\n",
       "    <tr>\n",
       "      <th>date</th>\n",
       "      <td>0.004243</td>\n",
       "      <td>-0.001686</td>\n",
       "      <td>0.011394</td>\n",
       "      <td>-0.006383</td>\n",
       "      <td>1.000000</td>\n",
       "      <td>-0.000297</td>\n",
       "      <td>0.010322</td>\n",
       "      <td>-0.003530</td>\n",
       "      <td>0.010818</td>\n",
       "      <td>0.001037</td>\n",
       "    </tr>\n",
       "    <tr>\n",
       "      <th>cheveux</th>\n",
       "      <td>0.000781</td>\n",
       "      <td>-0.002113</td>\n",
       "      <td>0.043110</td>\n",
       "      <td>0.023816</td>\n",
       "      <td>-0.000297</td>\n",
       "      <td>1.000000</td>\n",
       "      <td>-0.176436</td>\n",
       "      <td>-0.028562</td>\n",
       "      <td>0.088133</td>\n",
       "      <td>0.070314</td>\n",
       "    </tr>\n",
       "    <tr>\n",
       "      <th>sexe</th>\n",
       "      <td>0.000664</td>\n",
       "      <td>0.001654</td>\n",
       "      <td>0.128753</td>\n",
       "      <td>-0.259047</td>\n",
       "      <td>0.010322</td>\n",
       "      <td>-0.176436</td>\n",
       "      <td>1.000000</td>\n",
       "      <td>-0.017828</td>\n",
       "      <td>-0.366420</td>\n",
       "      <td>0.068315</td>\n",
       "    </tr>\n",
       "    <tr>\n",
       "      <th>diplome</th>\n",
       "      <td>-0.018580</td>\n",
       "      <td>-0.001670</td>\n",
       "      <td>-0.086822</td>\n",
       "      <td>0.109517</td>\n",
       "      <td>-0.003530</td>\n",
       "      <td>-0.028562</td>\n",
       "      <td>-0.017828</td>\n",
       "      <td>1.000000</td>\n",
       "      <td>0.015779</td>\n",
       "      <td>0.148106</td>\n",
       "    </tr>\n",
       "    <tr>\n",
       "      <th>specialite</th>\n",
       "      <td>-0.014247</td>\n",
       "      <td>0.000511</td>\n",
       "      <td>0.124705</td>\n",
       "      <td>0.166568</td>\n",
       "      <td>0.010818</td>\n",
       "      <td>0.088133</td>\n",
       "      <td>-0.366420</td>\n",
       "      <td>0.015779</td>\n",
       "      <td>1.000000</td>\n",
       "      <td>0.383247</td>\n",
       "    </tr>\n",
       "    <tr>\n",
       "      <th>dispo</th>\n",
       "      <td>-0.009740</td>\n",
       "      <td>-0.006281</td>\n",
       "      <td>0.180334</td>\n",
       "      <td>0.342592</td>\n",
       "      <td>0.001037</td>\n",
       "      <td>0.070314</td>\n",
       "      <td>0.068315</td>\n",
       "      <td>0.148106</td>\n",
       "      <td>0.383247</td>\n",
       "      <td>1.000000</td>\n",
       "    </tr>\n",
       "  </tbody>\n",
       "</table>\n",
       "</div>"
      ],
      "text/plain": [
       "                 age       exp   salaire      note      date   cheveux  \\\n",
       "age         1.000000 -0.004236 -0.000968 -0.005321  0.004243  0.000781   \n",
       "exp        -0.004236  1.000000  0.006635 -0.012144 -0.001686 -0.002113   \n",
       "salaire    -0.000968  0.006635  1.000000 -0.424741  0.011394  0.043110   \n",
       "note       -0.005321 -0.012144 -0.424741  1.000000 -0.006383  0.023816   \n",
       "date        0.004243 -0.001686  0.011394 -0.006383  1.000000 -0.000297   \n",
       "cheveux     0.000781 -0.002113  0.043110  0.023816 -0.000297  1.000000   \n",
       "sexe        0.000664  0.001654  0.128753 -0.259047  0.010322 -0.176436   \n",
       "diplome    -0.018580 -0.001670 -0.086822  0.109517 -0.003530 -0.028562   \n",
       "specialite -0.014247  0.000511  0.124705  0.166568  0.010818  0.088133   \n",
       "dispo      -0.009740 -0.006281  0.180334  0.342592  0.001037  0.070314   \n",
       "\n",
       "                sexe   diplome  specialite     dispo  \n",
       "age         0.000664 -0.018580   -0.014247 -0.009740  \n",
       "exp         0.001654 -0.001670    0.000511 -0.006281  \n",
       "salaire     0.128753 -0.086822    0.124705  0.180334  \n",
       "note       -0.259047  0.109517    0.166568  0.342592  \n",
       "date        0.010322 -0.003530    0.010818  0.001037  \n",
       "cheveux    -0.176436 -0.028562    0.088133  0.070314  \n",
       "sexe        1.000000 -0.017828   -0.366420  0.068315  \n",
       "diplome    -0.017828  1.000000    0.015779  0.148106  \n",
       "specialite -0.366420  0.015779    1.000000  0.383247  \n",
       "dispo       0.068315  0.148106    0.383247  1.000000  "
      ]
     },
     "execution_count": 314,
     "metadata": {},
     "output_type": "execute_result"
    }
   ],
   "source": [
    "df_filter = df_final.drop([\"embauche\"], axis=1).copy()\n",
    "df_filter.corr(method='spearman', min_periods=1)"
   ]
  },
  {
   "cell_type": "markdown",
   "metadata": {},
   "source": [
    "##### conclusion il y corrélation (faible) entre : salaire/note, specialité/sexe, spécialité/dispo (négligeable) entre : sexe/cheveux"
   ]
  },
  {
   "cell_type": "markdown",
   "metadata": {},
   "source": [
    "## Test du Khi-2 (est-ce que des variables catégorielles sont indépendantes ?)"
   ]
  },
  {
   "cell_type": "markdown",
   "metadata": {},
   "source": [
    "###### Sexe et Spécialité sont 2 variables catégorielles (qui possède un nombre fini de catégories). Pour savoir si ces 2 variables sont liées\n",
    "###### on utilise le test du Khi-2 [1]. En testant l’hypothèse nulle : “les 2 variables sexe et spécialité sont indépendantes”\n",
    "###### https://datascientest.com/correlation-entre-variables-comment-mesurer-la-dependance "
   ]
  },
  {
   "cell_type": "markdown",
   "metadata": {},
   "source": [
    "#### table de contingence sexe/specialite et test du CHI2"
   ]
  },
  {
   "cell_type": "code",
   "execution_count": 315,
   "metadata": {},
   "outputs": [],
   "source": [
    "table = pd.crosstab (df[\"sexe\"],df[\"specialite\"])\n",
    "from scipy.stats import chi2_contingency"
   ]
  },
  {
   "cell_type": "code",
   "execution_count": 316,
   "metadata": {},
   "outputs": [],
   "source": [
    "resultats_test = chi2_contingency(table)"
   ]
  },
  {
   "cell_type": "code",
   "execution_count": 317,
   "metadata": {},
   "outputs": [],
   "source": [
    "statistique_de_test = resultats_test[0]\n",
    "p_valeur = resultats_test[1]\n",
    "degre_de_liberte = resultats_test[2]"
   ]
  },
  {
   "cell_type": "markdown",
   "metadata": {},
   "source": [
    "###### Pour décider du rejet ou non de l’hypothèse nulle. On regarde la p_valeur. \n",
    "###### Si cette dernière est en-dessous de 5% alors on rejette l’hypothèse nulle.\n",
    "###### Donc ici le test du Khi-2 nous permet d'affirmer que ces 2 variables sont liées."
   ]
  },
  {
   "cell_type": "code",
   "execution_count": 318,
   "metadata": {},
   "outputs": [
    {
     "name": "stdout",
     "output_type": "stream",
     "text": [
      "Hypothèse nulle rejetée, les 2 variables sont liées\n"
     ]
    }
   ],
   "source": [
    "if p_valeur <0.05 :  print (\"Hypothèse nulle rejetée, les 2 variables sont liées\")"
   ]
  },
  {
   "cell_type": "markdown",
   "metadata": {},
   "source": [
    "#### Détermination de la force de la relation entre ces 2 variables avec le calcul du V de cramer"
   ]
  },
  {
   "cell_type": "code",
   "execution_count": 319,
   "metadata": {},
   "outputs": [],
   "source": [
    "import scipy.stats as ss\n",
    "def cramers_corrected_stat (confusion_matrix):\n",
    "    chi2 = ss.chi2_contingency(confusion_matrix)[0]\n",
    "    n = confusion_matrix.sum().sum()\n",
    "    phi2 = chi2/n\n",
    "    r,k = confusion_matrix.shape\n",
    "    phi2corr=max(0,phi2-((k-1)*(r-1))/(n-1))\n",
    "    rcorr = r - ((r-1)**2)/(n-1)\n",
    "    kcorr = k - ((k-1)**2)/(n-1)\n",
    "    return np.sqrt(phi2corr/min((kcorr-1),(rcorr-1)))"
   ]
  },
  {
   "cell_type": "code",
   "execution_count": 320,
   "metadata": {},
   "outputs": [
    {
     "data": {
      "text/plain": [
       "0.3692143211241721"
      ]
     },
     "execution_count": 320,
     "metadata": {},
     "output_type": "execute_result"
    }
   ],
   "source": [
    "cramers_corrected_stat(table)"
   ]
  },
  {
   "cell_type": "markdown",
   "metadata": {},
   "source": [
    "##### la relation entre ces 2 variable est modeste, car le calcul du V de cramer corrigé ci-dessus\n",
    "##### est plus proche de zéro (relation faible) que de 0,9 (relation très forte)"
   ]
  },
  {
   "cell_type": "code",
   "execution_count": 321,
   "metadata": {},
   "outputs": [],
   "source": [
    "import researchpy as rp"
   ]
  },
  {
   "cell_type": "markdown",
   "metadata": {},
   "source": [
    "#### Analyse de la variance (ANOVA) à un facteur (corrélation entre une variable continue et une variable catégorielle)"
   ]
  },
  {
   "cell_type": "markdown",
   "metadata": {},
   "source": [
    "##### si la variable cheveux n'a pas d'influence sur le variable catégorielle Salaire alors leur moyenne devraient être identiques\n",
    "##### c'est l'hypothèse que nous testons quand on a recours à l'analyse de la variance"
   ]
  },
  {
   "cell_type": "code",
   "execution_count": 322,
   "metadata": {},
   "outputs": [
    {
     "name": "stdout",
     "output_type": "stream",
     "text": [
      "\n",
      "\n",
      "#[6.1] ANOVA ===salaire seul===\n",
      "   Variable        N        Mean         SD       SE  95% Conf.    Interval\n",
      "0  salaire  18991.0  34967.7434  5003.8361  36.3102  34896.572  35038.9147\n",
      "\n",
      "\n",
      "#[6.2] ANOVA ===salaire groupé par type de cheveux===\n",
      "             N        Mean         SD        SE   95% Conf.    Interval\n",
      "cheveux                                                               \n",
      "blond    5644  34665.7271  5017.1326   66.7824  34534.8079  34796.6463\n",
      "brun     5718  35027.1163  4936.2363   65.2791  34899.1446  35155.0880\n",
      "chatain  5746  35381.5593  5006.8686   66.0516  35252.0733  35511.0454\n",
      "roux     1883  34429.9304  5052.8025  116.4413  34201.5627  34658.2981\n"
     ]
    }
   ],
   "source": [
    "#[6] One Way anova with python\n",
    "#print(\"\\n\\n#[6]==========librairie researchpy===============\")\n",
    "#[6.1] Calcul et affiche le calcul de la table Anova du salaire pour toutes les catégories de cheveux\n",
    "print (\"#[6.1] ANOVA ===salaire seul===\\n\",rp.summary_cont(df['salaire']))\n",
    "#[6.2] Calcul et affiche le calcul de la table Anova du salaire par couleur de cheveux\n",
    "print (\"#[6.2] ANOVA ===salaire groupé par type de cheveux===\\n\",\n",
    "       rp.summary_cont(df['salaire'].groupby(df['cheveux'])))\n",
    "#[6.3] Calcul et affiche F-statistic and p-value du test\n",
    "foneway=ss.f_oneway (df['salaire'][df['cheveux']  == 'chatain'],\n",
    "             df['salaire'][df['cheveux'] == 'brun'],\n",
    "             df['salaire'][df['cheveux'] == 'blond'],\n",
    "             df['salaire'][df['cheveux'] == 'roux'])\n"
   ]
  },
  {
   "cell_type": "code",
   "execution_count": 323,
   "metadata": {},
   "outputs": [
    {
     "name": "stdout",
     "output_type": "stream",
     "text": [
      "\n",
      "#[6.3]====foneway====\n",
      " F_onewayResult(statistic=27.58758818627994, pvalue=8.559223795642455e-18)\n"
     ]
    }
   ],
   "source": [
    "print (\"\\n#[6.3]====foneway====\\n\",foneway)"
   ]
  },
  {
   "cell_type": "markdown",
   "metadata": {},
   "source": [
    "### PCA on Mixed data type (both categorical and continous variable)"
   ]
  },
  {
   "cell_type": "raw",
   "metadata": {},
   "source": [
    "You can not use PCA, or at least it is not recommended, for mixed data. It is best to use Factor analysis of mixed data. You are lucky that Prince is a Python package that covers all data scenarios, borrowing from its explanation:\n",
    "\n",
    "    \n",
    "1. All your variables are numeric: use principal component analysis (prince.PCA)\n",
    "2. You have a contingency table: use correspondence analysis (prince.CA)\n",
    "3. You have more than 2 variables and they are all categorical: use multiple correspondence analysis (prince.MCA)\n",
    "4. You have groups of categorical or numerical variables: use multiple factor analysis (prince.MFA)\n",
    "5. You have both categorical and numerical variables: use factor analysis of mixed data (prince.FAMD)\n",
    "\n",
    "\n"
   ]
  },
  {
   "cell_type": "code",
   "execution_count": 324,
   "metadata": {},
   "outputs": [
    {
     "name": "stdout",
     "output_type": "stream",
     "text": [
      "Requirement already satisfied: prince in /Users/francois/opt/anaconda3/lib/python3.8/site-packages (0.7.1)\n",
      "Requirement already satisfied: numpy>=1.17.1 in /Users/francois/opt/anaconda3/lib/python3.8/site-packages (from prince) (1.18.5)\n",
      "Requirement already satisfied: scikit-learn>=0.22.1 in /Users/francois/opt/anaconda3/lib/python3.8/site-packages (from prince) (0.23.1)\n",
      "Requirement already satisfied: pandas>=1.0.3 in /Users/francois/opt/anaconda3/lib/python3.8/site-packages (from prince) (1.0.5)\n",
      "Requirement already satisfied: scipy>=1.3.0 in /Users/francois/opt/anaconda3/lib/python3.8/site-packages (from prince) (1.5.0)\n",
      "Requirement already satisfied: matplotlib>=3.0.2 in /Users/francois/opt/anaconda3/lib/python3.8/site-packages (from prince) (3.2.2)\n",
      "Requirement already satisfied: threadpoolctl>=2.0.0 in /Users/francois/opt/anaconda3/lib/python3.8/site-packages (from scikit-learn>=0.22.1->prince) (2.1.0)\n",
      "Requirement already satisfied: joblib>=0.11 in /Users/francois/opt/anaconda3/lib/python3.8/site-packages (from scikit-learn>=0.22.1->prince) (0.16.0)\n",
      "Requirement already satisfied: pytz>=2017.2 in /Users/francois/opt/anaconda3/lib/python3.8/site-packages (from pandas>=1.0.3->prince) (2020.1)\n",
      "Requirement already satisfied: python-dateutil>=2.6.1 in /Users/francois/opt/anaconda3/lib/python3.8/site-packages (from pandas>=1.0.3->prince) (2.8.1)\n",
      "Requirement already satisfied: cycler>=0.10 in /Users/francois/opt/anaconda3/lib/python3.8/site-packages (from matplotlib>=3.0.2->prince) (0.10.0)\n",
      "Requirement already satisfied: pyparsing!=2.0.4,!=2.1.2,!=2.1.6,>=2.0.1 in /Users/francois/opt/anaconda3/lib/python3.8/site-packages (from matplotlib>=3.0.2->prince) (2.4.7)\n",
      "Requirement already satisfied: kiwisolver>=1.0.1 in /Users/francois/opt/anaconda3/lib/python3.8/site-packages (from matplotlib>=3.0.2->prince) (1.2.0)\n",
      "Requirement already satisfied: six>=1.5 in /Users/francois/opt/anaconda3/lib/python3.8/site-packages (from python-dateutil>=2.6.1->pandas>=1.0.3->prince) (1.15.0)\n",
      "\u001b[33mWARNING: You are using pip version 20.2.3; however, version 20.2.4 is available.\n",
      "You should consider upgrading via the '/Users/francois/opt/anaconda3/bin/python -m pip install --upgrade pip' command.\u001b[0m\n"
     ]
    }
   ],
   "source": [
    "!pip install prince "
   ]
  },
  {
   "cell_type": "code",
   "execution_count": 325,
   "metadata": {},
   "outputs": [],
   "source": [
    "### FAMD   (Factor Analysis of Mixed Data --> Including both categorial and continous variables)"
   ]
  },
  {
   "cell_type": "code",
   "execution_count": 326,
   "metadata": {},
   "outputs": [],
   "source": [
    "import prince \n"
   ]
  },
  {
   "cell_type": "code",
   "execution_count": 328,
   "metadata": {},
   "outputs": [
    {
     "name": "stdout",
     "output_type": "stream",
     "text": [
      "len df 18991\n",
      "len df after dropping na 18991\n"
     ]
    }
   ],
   "source": [
    "df_drop_embauche = df.drop([\"embauche\"], axis=1)\n",
    "\n",
    "print(\"len df\", len(df_drop_embauche))\n",
    "df_drop_embauche = df_drop_embauche.dropna()\n",
    "print(\"len df after dropping na\", len(df_drop_embauche))"
   ]
  },
  {
   "cell_type": "code",
   "execution_count": 331,
   "metadata": {},
   "outputs": [],
   "source": [
    "n_components = 3\n",
    "famd = prince.FAMD(n_components=n_components,\n",
    "                   n_iter=10,\n",
    "                   copy=True,\n",
    "                   check_input=True, \n",
    "                   engine='auto',\n",
    "                   random_state=42)\n",
    "\n",
    "famd = famd.fit(df_drop_embauche) "
   ]
  },
  {
   "cell_type": "code",
   "execution_count": 332,
   "metadata": {},
   "outputs": [
    {
     "data": {
      "text/html": [
       "<div>\n",
       "<style scoped>\n",
       "    .dataframe tbody tr th:only-of-type {\n",
       "        vertical-align: middle;\n",
       "    }\n",
       "\n",
       "    .dataframe tbody tr th {\n",
       "        vertical-align: top;\n",
       "    }\n",
       "\n",
       "    .dataframe thead th {\n",
       "        text-align: right;\n",
       "    }\n",
       "</style>\n",
       "<table border=\"1\" class=\"dataframe\">\n",
       "  <thead>\n",
       "    <tr style=\"text-align: right;\">\n",
       "      <th></th>\n",
       "      <th>date</th>\n",
       "      <th>cheveux</th>\n",
       "      <th>age</th>\n",
       "      <th>exp</th>\n",
       "      <th>salaire</th>\n",
       "      <th>sexe</th>\n",
       "      <th>diplome</th>\n",
       "      <th>specialite</th>\n",
       "      <th>note</th>\n",
       "      <th>dispo</th>\n",
       "    </tr>\n",
       "  </thead>\n",
       "  <tbody>\n",
       "    <tr>\n",
       "      <th>0</th>\n",
       "      <td>2012-06-02</td>\n",
       "      <td>roux</td>\n",
       "      <td>25.0</td>\n",
       "      <td>9.0</td>\n",
       "      <td>26803.0</td>\n",
       "      <td>F</td>\n",
       "      <td>licence</td>\n",
       "      <td>geologie</td>\n",
       "      <td>97.08</td>\n",
       "      <td>non</td>\n",
       "    </tr>\n",
       "    <tr>\n",
       "      <th>1</th>\n",
       "      <td>2011-04-21</td>\n",
       "      <td>blond</td>\n",
       "      <td>35.0</td>\n",
       "      <td>13.0</td>\n",
       "      <td>38166.0</td>\n",
       "      <td>M</td>\n",
       "      <td>licence</td>\n",
       "      <td>forage</td>\n",
       "      <td>63.86</td>\n",
       "      <td>non</td>\n",
       "    </tr>\n",
       "    <tr>\n",
       "      <th>2</th>\n",
       "      <td>2012-09-07</td>\n",
       "      <td>blond</td>\n",
       "      <td>29.0</td>\n",
       "      <td>13.0</td>\n",
       "      <td>35207.0</td>\n",
       "      <td>M</td>\n",
       "      <td>licence</td>\n",
       "      <td>geologie</td>\n",
       "      <td>78.50</td>\n",
       "      <td>non</td>\n",
       "    </tr>\n",
       "    <tr>\n",
       "      <th>4</th>\n",
       "      <td>2012-08-07</td>\n",
       "      <td>roux</td>\n",
       "      <td>35.0</td>\n",
       "      <td>6.0</td>\n",
       "      <td>28533.0</td>\n",
       "      <td>F</td>\n",
       "      <td>licence</td>\n",
       "      <td>detective</td>\n",
       "      <td>81.91</td>\n",
       "      <td>non</td>\n",
       "    </tr>\n",
       "    <tr>\n",
       "      <th>5</th>\n",
       "      <td>2014-02-12</td>\n",
       "      <td>chatain</td>\n",
       "      <td>37.0</td>\n",
       "      <td>8.0</td>\n",
       "      <td>38558.0</td>\n",
       "      <td>M</td>\n",
       "      <td>master</td>\n",
       "      <td>geologie</td>\n",
       "      <td>63.46</td>\n",
       "      <td>non</td>\n",
       "    </tr>\n",
       "  </tbody>\n",
       "</table>\n",
       "</div>"
      ],
      "text/plain": [
       "         date  cheveux   age   exp  salaire sexe  diplome specialite   note  \\\n",
       "0  2012-06-02     roux  25.0   9.0  26803.0    F  licence   geologie  97.08   \n",
       "1  2011-04-21    blond  35.0  13.0  38166.0    M  licence     forage  63.86   \n",
       "2  2012-09-07    blond  29.0  13.0  35207.0    M  licence   geologie  78.50   \n",
       "4  2012-08-07     roux  35.0   6.0  28533.0    F  licence  detective  81.91   \n",
       "5  2014-02-12  chatain  37.0   8.0  38558.0    M   master   geologie  63.46   \n",
       "\n",
       "  dispo  \n",
       "0   non  \n",
       "1   non  \n",
       "2   non  \n",
       "4   non  \n",
       "5   non  "
      ]
     },
     "execution_count": 332,
     "metadata": {},
     "output_type": "execute_result"
    }
   ],
   "source": [
    "df_drop_embauche.head()"
   ]
  },
  {
   "cell_type": "code",
   "execution_count": 333,
   "metadata": {},
   "outputs": [
    {
     "name": "stdout",
     "output_type": "stream",
     "text": [
      "           0         1         2\n",
      "0  -1.257832  1.235778  0.104308\n",
      "1   0.952984  0.011878  0.922357\n",
      "2   0.307302  0.769231  1.245408\n",
      "4  -0.872484  1.152389 -0.824683\n",
      "5   0.840079  0.067402 -0.470954\n",
      "6   1.194385 -0.502155  0.743682\n",
      "7   1.135415 -0.783425 -0.027110\n",
      "8  -0.346707  1.037128  0.311349\n",
      "9   0.033368  0.044737  0.496056\n",
      "10  1.167218  0.538401  0.675357\n"
     ]
    },
    {
     "data": {
      "text/plain": [
       "<matplotlib.axes._subplots.AxesSubplot at 0x7ff26c5b9b80>"
      ]
     },
     "execution_count": 333,
     "metadata": {},
     "output_type": "execute_result"
    },
    {
     "data": {
      "image/png": "[encoded data removed]",
      "text/plain": [
       "<Figure size 432x288 with 1 Axes>"
      ]
     },
     "metadata": {
      "needs_background": "light"
     },
     "output_type": "display_data"
    }
   ],
   "source": [
    "dim_reduction = famd.row_coordinates(df_drop_embauche)\n",
    "print(dim_reduction.head(10))\n",
    "dim_reduction.plot(x=0, y=1, kind=\"scatter\")"
   ]
  },
  {
   "cell_type": "code",
   "execution_count": 334,
   "metadata": {},
   "outputs": [
    {
     "name": "stdout",
     "output_type": "stream",
     "text": [
      "variance explained is 0.005260442479424895 with 3 principal components\n"
     ]
    }
   ],
   "source": [
    "print( \"variance explained is %s with %s principal components\" %(str(np.sum(famd.explained_inertia_)),str(n_components)))"
   ]
  },
  {
   "cell_type": "markdown",
   "metadata": {},
   "source": [
    "### PCA (Principal Component Analysis  --> Only countinuous variables : Categorical variables have been vectorized)"
   ]
  },
  {
   "cell_type": "code",
   "execution_count": 335,
   "metadata": {},
   "outputs": [
    {
     "name": "stdout",
     "output_type": "stream",
     "text": [
      "len df after dropping embauche 18991\n",
      "len df after dropping na and embauche 18991\n"
     ]
    }
   ],
   "source": [
    "print(\"len df after dropping embauche\", len(df_filter))\n",
    "df_filter = df_filter.dropna()\n",
    "print(\"len df after dropping na and embauche\", len(df_filter))"
   ]
  },
  {
   "cell_type": "code",
   "execution_count": 336,
   "metadata": {},
   "outputs": [
    {
     "name": "stdout",
     "output_type": "stream",
     "text": [
      "           0         1         2\n",
      "0   0.429578 -2.769404  0.163489\n",
      "1  -1.285597  0.364511 -0.291883\n",
      "2  -1.211811 -0.734090  0.023403\n",
      "4   0.904053 -1.492929 -0.195111\n",
      "5  -1.597177  0.154012 -0.338323\n",
      "6  -1.017719  1.593254 -0.222288\n",
      "7  -0.860741  1.672751  1.134200\n",
      "8  -1.176723 -1.322396  0.262254\n",
      "9  -0.731664 -0.374440 -0.201122\n",
      "10 -0.656010  0.151010 -2.433530\n",
      "variance explained is 0.44013516427307586 with 3 principal components\n"
     ]
    },
    {
     "data": {
      "image/png": "[encoded data removed]",
      "text/plain": [
       "<Figure size 432x288 with 1 Axes>"
      ]
     },
     "metadata": {
      "needs_background": "light"
     },
     "output_type": "display_data"
    }
   ],
   "source": [
    "pca = prince.PCA(n_components=n_components,\n",
    "                   n_iter=10,\n",
    "                   copy=True,\n",
    "                   check_input=True, \n",
    "                   engine='auto',\n",
    "                   random_state=42)\n",
    "\n",
    "pca = pca.fit(df_filter) \n",
    "\n",
    "dim_reduction = pca.row_coordinates(df_filter)\n",
    "print(dim_reduction.head(10))\n",
    "dim_reduction.plot(x=0, y=1, kind=\"scatter\")\n",
    "print( \"variance explained is %s with %s principal components\" %(str(np.sum(pca.explained_inertia_)),str(n_components)))"
   ]
  },
  {
   "cell_type": "code",
   "execution_count": null,
   "metadata": {},
   "outputs": [],
   "source": []
  },
  {
   "cell_type": "code",
   "execution_count": null,
   "metadata": {},
   "outputs": [],
   "source": []
  },
  {
   "cell_type": "code",
   "execution_count": null,
   "metadata": {},
   "outputs": [],
   "source": []
  },
  {
   "cell_type": "code",
   "execution_count": null,
   "metadata": {},
   "outputs": [],
   "source": []
  },
  {
   "cell_type": "markdown",
   "metadata": {},
   "source": [
    "# Machine Learning"
   ]
  },
  {
   "cell_type": "markdown",
   "metadata": {},
   "source": [
    "##### Code et analyse faits sur le Test de Quantmetry avec comme source le tutoriel et le code :\n",
    "##### https://github.com/IBM/watson-studio-learning-path-assets/blob/master/notebooks/customer-churn-kaggle.ipynb"
   ]
  },
  {
   "cell_type": "code",
   "execution_count": 258,
   "metadata": {},
   "outputs": [],
   "source": [
    "from sklearn import model_selection\n",
    "from sklearn import tree\n",
    "from sklearn import svm\n",
    "from sklearn import ensemble\n",
    "from sklearn import neighbors\n",
    "from sklearn import linear_model\n",
    "from sklearn import metrics\n",
    "from sklearn import preprocessing"
   ]
  },
  {
   "cell_type": "code",
   "execution_count": 259,
   "metadata": {},
   "outputs": [],
   "source": [
    "%matplotlib inline\n",
    "from IPython.display import Image\n",
    "import matplotlib as mlp\n",
    "import matplotlib.pyplot as plt\n",
    "import numpy as np\n",
    "import os\n",
    "import pandas as pd\n",
    "import sklearn\n",
    "import seaborn as sns\n",
    "import json\n",
    "import time"
   ]
  },
  {
   "cell_type": "code",
   "execution_count": 260,
   "metadata": {},
   "outputs": [
    {
     "data": {
      "text/html": [
       "<div>\n",
       "<style scoped>\n",
       "    .dataframe tbody tr th:only-of-type {\n",
       "        vertical-align: middle;\n",
       "    }\n",
       "\n",
       "    .dataframe tbody tr th {\n",
       "        vertical-align: top;\n",
       "    }\n",
       "\n",
       "    .dataframe thead th {\n",
       "        text-align: right;\n",
       "    }\n",
       "</style>\n",
       "<table border=\"1\" class=\"dataframe\">\n",
       "  <thead>\n",
       "    <tr style=\"text-align: right;\">\n",
       "      <th></th>\n",
       "      <th>index</th>\n",
       "      <th>date</th>\n",
       "      <th>cheveux</th>\n",
       "      <th>age</th>\n",
       "      <th>exp</th>\n",
       "      <th>salaire</th>\n",
       "      <th>sexe</th>\n",
       "      <th>diplome</th>\n",
       "      <th>specialite</th>\n",
       "      <th>note</th>\n",
       "      <th>dispo</th>\n",
       "      <th>embauche</th>\n",
       "    </tr>\n",
       "  </thead>\n",
       "  <tbody>\n",
       "    <tr>\n",
       "      <th>0</th>\n",
       "      <td>0</td>\n",
       "      <td>2012-06-02</td>\n",
       "      <td>roux</td>\n",
       "      <td>25.0</td>\n",
       "      <td>9.0</td>\n",
       "      <td>26803.0</td>\n",
       "      <td>F</td>\n",
       "      <td>licence</td>\n",
       "      <td>geologie</td>\n",
       "      <td>97.08</td>\n",
       "      <td>non</td>\n",
       "      <td>0</td>\n",
       "    </tr>\n",
       "    <tr>\n",
       "      <th>1</th>\n",
       "      <td>1</td>\n",
       "      <td>2011-04-21</td>\n",
       "      <td>blond</td>\n",
       "      <td>35.0</td>\n",
       "      <td>13.0</td>\n",
       "      <td>38166.0</td>\n",
       "      <td>M</td>\n",
       "      <td>licence</td>\n",
       "      <td>forage</td>\n",
       "      <td>63.86</td>\n",
       "      <td>non</td>\n",
       "      <td>0</td>\n",
       "    </tr>\n",
       "    <tr>\n",
       "      <th>2</th>\n",
       "      <td>2</td>\n",
       "      <td>2012-09-07</td>\n",
       "      <td>blond</td>\n",
       "      <td>29.0</td>\n",
       "      <td>13.0</td>\n",
       "      <td>35207.0</td>\n",
       "      <td>M</td>\n",
       "      <td>licence</td>\n",
       "      <td>geologie</td>\n",
       "      <td>78.50</td>\n",
       "      <td>non</td>\n",
       "      <td>0</td>\n",
       "    </tr>\n",
       "    <tr>\n",
       "      <th>3</th>\n",
       "      <td>3</td>\n",
       "      <td>2011-07-01</td>\n",
       "      <td>brun</td>\n",
       "      <td>NaN</td>\n",
       "      <td>12.0</td>\n",
       "      <td>32442.0</td>\n",
       "      <td>M</td>\n",
       "      <td>licence</td>\n",
       "      <td>geologie</td>\n",
       "      <td>45.09</td>\n",
       "      <td>non</td>\n",
       "      <td>0</td>\n",
       "    </tr>\n",
       "    <tr>\n",
       "      <th>4</th>\n",
       "      <td>4</td>\n",
       "      <td>2012-08-07</td>\n",
       "      <td>roux</td>\n",
       "      <td>35.0</td>\n",
       "      <td>6.0</td>\n",
       "      <td>28533.0</td>\n",
       "      <td>F</td>\n",
       "      <td>licence</td>\n",
       "      <td>detective</td>\n",
       "      <td>81.91</td>\n",
       "      <td>non</td>\n",
       "      <td>0</td>\n",
       "    </tr>\n",
       "  </tbody>\n",
       "</table>\n",
       "</div>"
      ],
      "text/plain": [
       "   index        date cheveux   age   exp  salaire sexe  diplome specialite  \\\n",
       "0      0  2012-06-02    roux  25.0   9.0  26803.0    F  licence   geologie   \n",
       "1      1  2011-04-21   blond  35.0  13.0  38166.0    M  licence     forage   \n",
       "2      2  2012-09-07   blond  29.0  13.0  35207.0    M  licence   geologie   \n",
       "3      3  2011-07-01    brun   NaN  12.0  32442.0    M  licence   geologie   \n",
       "4      4  2012-08-07    roux  35.0   6.0  28533.0    F  licence  detective   \n",
       "\n",
       "    note dispo  embauche  \n",
       "0  97.08   non         0  \n",
       "1  63.86   non         0  \n",
       "2  78.50   non         0  \n",
       "3  45.09   non         0  \n",
       "4  81.91   non         0  "
      ]
     },
     "execution_count": 260,
     "metadata": {},
     "output_type": "execute_result"
    }
   ],
   "source": [
    "chemin=os.getcwd()\n",
    "df = pd.read_csv(chemin + \"/\" + \"data_v1.0.csv\", index_col= 0, header=0, usecols=range(0,13),encoding=\"unicode_escape\")\n",
    "df.head()"
   ]
  },
  {
   "cell_type": "code",
   "execution_count": 261,
   "metadata": {},
   "outputs": [],
   "source": [
    "df.dropna(inplace=True)"
   ]
  },
  {
   "cell_type": "code",
   "execution_count": 262,
   "metadata": {},
   "outputs": [],
   "source": [
    "# Discreet value integer encoder\n",
    "label_encoder = preprocessing.LabelEncoder()\n",
    "# sexe, diplome, specialité and dispo are strings and we want discreet integer values\n",
    "df['sexe'] = label_encoder.fit_transform(df['sexe'])\n",
    "df['diplome'] = label_encoder.fit_transform(df['diplome'])\n",
    "df['specialite'] = label_encoder.fit_transform(df['specialite'])\n",
    "df['dispo'] = label_encoder.fit_transform(df['dispo'])"
   ]
  },
  {
   "cell_type": "code",
   "execution_count": 263,
   "metadata": {},
   "outputs": [
    {
     "name": "stdout",
     "output_type": "stream",
     "text": [
      "index           int64\n",
      "date           object\n",
      "cheveux        object\n",
      "age           float64\n",
      "exp           float64\n",
      "salaire       float64\n",
      "sexe            int64\n",
      "diplome         int64\n",
      "specialite      int64\n",
      "note          float64\n",
      "dispo           int64\n",
      "embauche        int64\n",
      "dtype: object\n"
     ]
    },
    {
     "data": {
      "text/html": [
       "<div>\n",
       "<style scoped>\n",
       "    .dataframe tbody tr th:only-of-type {\n",
       "        vertical-align: middle;\n",
       "    }\n",
       "\n",
       "    .dataframe tbody tr th {\n",
       "        vertical-align: top;\n",
       "    }\n",
       "\n",
       "    .dataframe thead th {\n",
       "        text-align: right;\n",
       "    }\n",
       "</style>\n",
       "<table border=\"1\" class=\"dataframe\">\n",
       "  <thead>\n",
       "    <tr style=\"text-align: right;\">\n",
       "      <th></th>\n",
       "      <th>index</th>\n",
       "      <th>date</th>\n",
       "      <th>cheveux</th>\n",
       "      <th>age</th>\n",
       "      <th>exp</th>\n",
       "      <th>salaire</th>\n",
       "      <th>sexe</th>\n",
       "      <th>diplome</th>\n",
       "      <th>specialite</th>\n",
       "      <th>note</th>\n",
       "      <th>dispo</th>\n",
       "      <th>embauche</th>\n",
       "    </tr>\n",
       "  </thead>\n",
       "  <tbody>\n",
       "    <tr>\n",
       "      <th>0</th>\n",
       "      <td>0</td>\n",
       "      <td>2012-06-02</td>\n",
       "      <td>roux</td>\n",
       "      <td>25.0</td>\n",
       "      <td>9.0</td>\n",
       "      <td>26803.0</td>\n",
       "      <td>0</td>\n",
       "      <td>2</td>\n",
       "      <td>3</td>\n",
       "      <td>97.08</td>\n",
       "      <td>0</td>\n",
       "      <td>0</td>\n",
       "    </tr>\n",
       "    <tr>\n",
       "      <th>1</th>\n",
       "      <td>1</td>\n",
       "      <td>2011-04-21</td>\n",
       "      <td>blond</td>\n",
       "      <td>35.0</td>\n",
       "      <td>13.0</td>\n",
       "      <td>38166.0</td>\n",
       "      <td>1</td>\n",
       "      <td>2</td>\n",
       "      <td>2</td>\n",
       "      <td>63.86</td>\n",
       "      <td>0</td>\n",
       "      <td>0</td>\n",
       "    </tr>\n",
       "    <tr>\n",
       "      <th>2</th>\n",
       "      <td>2</td>\n",
       "      <td>2012-09-07</td>\n",
       "      <td>blond</td>\n",
       "      <td>29.0</td>\n",
       "      <td>13.0</td>\n",
       "      <td>35207.0</td>\n",
       "      <td>1</td>\n",
       "      <td>2</td>\n",
       "      <td>3</td>\n",
       "      <td>78.50</td>\n",
       "      <td>0</td>\n",
       "      <td>0</td>\n",
       "    </tr>\n",
       "    <tr>\n",
       "      <th>4</th>\n",
       "      <td>4</td>\n",
       "      <td>2012-08-07</td>\n",
       "      <td>roux</td>\n",
       "      <td>35.0</td>\n",
       "      <td>6.0</td>\n",
       "      <td>28533.0</td>\n",
       "      <td>0</td>\n",
       "      <td>2</td>\n",
       "      <td>1</td>\n",
       "      <td>81.91</td>\n",
       "      <td>0</td>\n",
       "      <td>0</td>\n",
       "    </tr>\n",
       "    <tr>\n",
       "      <th>5</th>\n",
       "      <td>5</td>\n",
       "      <td>2014-02-12</td>\n",
       "      <td>chatain</td>\n",
       "      <td>37.0</td>\n",
       "      <td>8.0</td>\n",
       "      <td>38558.0</td>\n",
       "      <td>1</td>\n",
       "      <td>3</td>\n",
       "      <td>3</td>\n",
       "      <td>63.46</td>\n",
       "      <td>0</td>\n",
       "      <td>1</td>\n",
       "    </tr>\n",
       "  </tbody>\n",
       "</table>\n",
       "</div>"
      ],
      "text/plain": [
       "   index        date  cheveux   age   exp  salaire  sexe  diplome  specialite  \\\n",
       "0      0  2012-06-02     roux  25.0   9.0  26803.0     0        2           3   \n",
       "1      1  2011-04-21    blond  35.0  13.0  38166.0     1        2           2   \n",
       "2      2  2012-09-07    blond  29.0  13.0  35207.0     1        2           3   \n",
       "4      4  2012-08-07     roux  35.0   6.0  28533.0     0        2           1   \n",
       "5      5  2014-02-12  chatain  37.0   8.0  38558.0     1        3           3   \n",
       "\n",
       "    note  dispo  embauche  \n",
       "0  97.08      0         0  \n",
       "1  63.86      0         0  \n",
       "2  78.50      0         0  \n",
       "4  81.91      0         0  \n",
       "5  63.46      0         1  "
      ]
     },
     "execution_count": 263,
     "metadata": {},
     "output_type": "execute_result"
    }
   ],
   "source": [
    "print (df.dtypes)\n",
    "df.head()"
   ]
  },
  {
   "cell_type": "markdown",
   "metadata": {},
   "source": [
    "#### création du vecteur de résultat"
   ]
  },
  {
   "cell_type": "code",
   "execution_count": 264,
   "metadata": {},
   "outputs": [],
   "source": [
    "y = df['embauche'].values.astype(np.int)"
   ]
  },
  {
   "cell_type": "markdown",
   "metadata": {},
   "source": [
    "#### Rejet des colonnes superflues "
   ]
  },
  {
   "cell_type": "code",
   "execution_count": 265,
   "metadata": {},
   "outputs": [],
   "source": [
    "df=df.drop(df.columns[[0]],axis='columns')\n",
    "df.drop([\"date\",\"cheveux\",\"embauche\"], axis = 1, inplace=True)"
   ]
  },
  {
   "cell_type": "markdown",
   "metadata": {},
   "source": [
    "##### Vérification dataframe final input"
   ]
  },
  {
   "cell_type": "code",
   "execution_count": 266,
   "metadata": {},
   "outputs": [
    {
     "data": {
      "text/html": [
       "<div>\n",
       "<style scoped>\n",
       "    .dataframe tbody tr th:only-of-type {\n",
       "        vertical-align: middle;\n",
       "    }\n",
       "\n",
       "    .dataframe tbody tr th {\n",
       "        vertical-align: top;\n",
       "    }\n",
       "\n",
       "    .dataframe thead th {\n",
       "        text-align: right;\n",
       "    }\n",
       "</style>\n",
       "<table border=\"1\" class=\"dataframe\">\n",
       "  <thead>\n",
       "    <tr style=\"text-align: right;\">\n",
       "      <th></th>\n",
       "      <th>age</th>\n",
       "      <th>exp</th>\n",
       "      <th>salaire</th>\n",
       "      <th>sexe</th>\n",
       "      <th>diplome</th>\n",
       "      <th>specialite</th>\n",
       "      <th>note</th>\n",
       "      <th>dispo</th>\n",
       "    </tr>\n",
       "  </thead>\n",
       "  <tbody>\n",
       "    <tr>\n",
       "      <th>0</th>\n",
       "      <td>25.0</td>\n",
       "      <td>9.0</td>\n",
       "      <td>26803.0</td>\n",
       "      <td>0</td>\n",
       "      <td>2</td>\n",
       "      <td>3</td>\n",
       "      <td>97.08</td>\n",
       "      <td>0</td>\n",
       "    </tr>\n",
       "    <tr>\n",
       "      <th>1</th>\n",
       "      <td>35.0</td>\n",
       "      <td>13.0</td>\n",
       "      <td>38166.0</td>\n",
       "      <td>1</td>\n",
       "      <td>2</td>\n",
       "      <td>2</td>\n",
       "      <td>63.86</td>\n",
       "      <td>0</td>\n",
       "    </tr>\n",
       "    <tr>\n",
       "      <th>2</th>\n",
       "      <td>29.0</td>\n",
       "      <td>13.0</td>\n",
       "      <td>35207.0</td>\n",
       "      <td>1</td>\n",
       "      <td>2</td>\n",
       "      <td>3</td>\n",
       "      <td>78.50</td>\n",
       "      <td>0</td>\n",
       "    </tr>\n",
       "    <tr>\n",
       "      <th>4</th>\n",
       "      <td>35.0</td>\n",
       "      <td>6.0</td>\n",
       "      <td>28533.0</td>\n",
       "      <td>0</td>\n",
       "      <td>2</td>\n",
       "      <td>1</td>\n",
       "      <td>81.91</td>\n",
       "      <td>0</td>\n",
       "    </tr>\n",
       "    <tr>\n",
       "      <th>5</th>\n",
       "      <td>37.0</td>\n",
       "      <td>8.0</td>\n",
       "      <td>38558.0</td>\n",
       "      <td>1</td>\n",
       "      <td>3</td>\n",
       "      <td>3</td>\n",
       "      <td>63.46</td>\n",
       "      <td>0</td>\n",
       "    </tr>\n",
       "  </tbody>\n",
       "</table>\n",
       "</div>"
      ],
      "text/plain": [
       "    age   exp  salaire  sexe  diplome  specialite   note  dispo\n",
       "0  25.0   9.0  26803.0     0        2           3  97.08      0\n",
       "1  35.0  13.0  38166.0     1        2           2  63.86      0\n",
       "2  29.0  13.0  35207.0     1        2           3  78.50      0\n",
       "4  35.0   6.0  28533.0     0        2           1  81.91      0\n",
       "5  37.0   8.0  38558.0     1        3           3  63.46      0"
      ]
     },
     "execution_count": 266,
     "metadata": {},
     "output_type": "execute_result"
    }
   ],
   "source": [
    "df.head()"
   ]
  },
  {
   "cell_type": "markdown",
   "metadata": {},
   "source": [
    "#### toutes les valeurs du dataframe sont des rééls"
   ]
  },
  {
   "cell_type": "code",
   "execution_count": 267,
   "metadata": {},
   "outputs": [],
   "source": [
    "X = df.values.astype(np.float)"
   ]
  },
  {
   "cell_type": "markdown",
   "metadata": {},
   "source": [
    "#### Mise à l'échelle des caractéristiques pour une mise à niveau des données"
   ]
  },
  {
   "cell_type": "markdown",
   "metadata": {},
   "source": [
    "###### Comme de nombreux éléments utilisés dans les fonction objectives d'un algorithme d'apprentissage (comme le noyau RBF du SVM ou les régularisateurs L1 et L2 des modèles linéaires) supposent que toutes les caractéristiques soient centrées autour de 0 et ont une variance du même ordre, il est nécessaire de normaliser (remettre à l’échelle) l’ensemble des données en les re-calculant avec une moyenne nulle et un ecart type de 1.\n",
    "##### Avec StandardScaler(), cette technique part du principe que les données sont normalement distribuées."
   ]
  },
  {
   "cell_type": "code",
   "execution_count": 268,
   "metadata": {},
   "outputs": [],
   "source": [
    "scaler = preprocessing.StandardScaler()\n",
    "X = scaler.fit_transform(X)"
   ]
  },
  {
   "cell_type": "markdown",
   "metadata": {},
   "source": [
    "###### Nous devons adopter la validation croisée stratifiée (« stratified cross validation »), car les valeurs de réponse ne sont pas équilibrées. La validation croisée va nous permettre de diviser le jeu de données en k parties (folds en anglais) tour à tour utilisée pour l’entraînement et pour la validation. Et pour éviter d'introduire des biais dans le cas d'une classification il est nécessaire de sratitifier la validation croisée. On s’efforce de créer les k folds de sorte à ce qu’elles contiennent à peu près les mêmes proportions d’exemples de chaque classe que le jeu de données complet, et éviter qu'un jeu d'entrainement ne contiennent que des exemples positifs et que le jeux de tests le contraire (source https://j.mp/3kAjedo)"
   ]
  },
  {
   "cell_type": "code",
   "execution_count": 269,
   "metadata": {},
   "outputs": [],
   "source": [
    "def stratified_cv(X, y, clf_class, shuffle=True, n_folds=10):\n",
    "    stratified_k_fold = model_selection.StratifiedKFold(n_splits=n_folds, shuffle=shuffle)\n",
    "    y_pred = y.copy()\n",
    "    # ii -> train\n",
    "    # jj -> test indices\n",
    "    for ii, jj in stratified_k_fold.split(X, y):\n",
    "        X_train, X_test = X[ii], X[jj]\n",
    "        y_train = y[ii]\n",
    "        clf = clf_class\n",
    "        clf.fit(X_train,y_train)\n",
    "        y_pred[jj] = clf.predict(X_test)\n",
    "    return y_pred"
   ]
  },
  {
   "cell_type": "markdown",
   "metadata": {},
   "source": [
    "#### Définition d'une classe timer pour calculer le temps d'exécution d'un calcul\n",
    "###### Déterminer le meilleur algorithme sur la base de ses performances de précision, doit-être rapporté au temps de calcul nécessaire à l'apprentissage. Nous utiliserons un interval timer pour calculer le temps de calcul entre 2 appels à cette class Timer"
   ]
  },
  {
   "cell_type": "code",
   "execution_count": 270,
   "metadata": {},
   "outputs": [],
   "source": [
    "class Timer(object):\n",
    "    def __enter__(self):\n",
    "        self.start()\n",
    "        # __enter__ must return an instance bound with the \"as\" keyword\n",
    "        return self\n",
    "\n",
    "    # There are other arguments to __exit__ but we don't care here\n",
    "    def __exit__(self, *args, **kwargs):\n",
    "        self.stop()\n",
    "\n",
    "    def start(self):\n",
    "        if hasattr(self, 'interval'):\n",
    "            del self.interval\n",
    "        self.start_time = time.time()\n",
    "\n",
    "    def stop(self):\n",
    "        if hasattr(self, 'start_time'):\n",
    "            self.interval = round(time.time() - self.start_time,2)\n",
    "            del self.start_time # Force timer reinit"
   ]
  },
  {
   "cell_type": "markdown",
   "metadata": {},
   "source": [
    "#### Gradient Boosting Classifier"
   ]
  },
  {
   "cell_type": "code",
   "execution_count": 271,
   "metadata": {},
   "outputs": [
    {
     "name": "stdout",
     "output_type": "stream",
     "text": [
      "Gradient Boosting Classifier:\n",
      "               precision    recall  f1-score   support\n",
      "\n",
      "           0       0.90      0.99      0.95     16842\n",
      "           1       0.80      0.16      0.26      2179\n",
      "\n",
      "    accuracy                           0.90     19021\n",
      "   macro avg       0.85      0.58      0.61     19021\n",
      "weighted avg       0.89      0.90      0.87     19021\n",
      "\n",
      "\n",
      "Temps de calcul 34.93\n"
     ]
    },
    {
     "data": {
      "image/png": "[encoded data removed]",
      "text/plain": [
       "<Figure size 432x288 with 2 Axes>"
      ]
     },
     "metadata": {
      "needs_background": "light"
     },
     "output_type": "display_data"
    }
   ],
   "source": [
    "with Timer() as timer:\n",
    "    from sklearn.ensemble import GradientBoostingClassifier\n",
    "    gradient_boost = GradientBoostingClassifier()\n",
    "    #print('Gradient Boosting Classifier:  {:.2f}'.format(metrics.accuracy_score(y, stratified_cv(X, y, gradient_boost))))\n",
    "    grad_ens_conf_matrix = metrics.confusion_matrix(y, stratified_cv(X, y, gradient_boost))\n",
    "    sns.heatmap(grad_ens_conf_matrix, annot=True,  fmt='');\n",
    "    title = 'Gradient Boosting'\n",
    "    plt.title(title);\n",
    "    print('Gradient Boosting Classifier:\\n {}\\n'.format(metrics.classification_report(y, stratified_cv(X, y, gradient_boost))))\n",
    "print ('Temps de calcul',timer.interval)"
   ]
  },
  {
   "cell_type": "markdown",
   "metadata": {},
   "source": [
    "#### Support vector machine"
   ]
  },
  {
   "cell_type": "code",
   "execution_count": 272,
   "metadata": {},
   "outputs": [
    {
     "name": "stdout",
     "output_type": "stream",
     "text": [
      "Support vector machine(SVM):\n",
      "               precision    recall  f1-score   support\n",
      "\n",
      "           0       0.91      1.00      0.95     16842\n",
      "           1       0.87      0.20      0.32      2179\n",
      "\n",
      "    accuracy                           0.90     19021\n",
      "   macro avg       0.89      0.60      0.64     19021\n",
      "weighted avg       0.90      0.90      0.88     19021\n",
      "\n",
      "\n",
      "Temps de calcul 61.68\n"
     ]
    },
    {
     "data": {
      "image/png": "[encoded data removed]",
      "text/plain": [
       "<Figure size 432x288 with 2 Axes>"
      ]
     },
     "metadata": {
      "needs_background": "light"
     },
     "output_type": "display_data"
    }
   ],
   "source": [
    "with Timer() as timer:\n",
    "    from sklearn.svm import SVC\n",
    "    svc_model = SVC(gamma='auto')\n",
    "    #print('Support vector machine(SVM):   {:.2f}'.format(metrics.accuracy_score(y, stratified_cv(X, y, svc_model))))\n",
    "    svm_svc_conf_matrix = metrics.confusion_matrix(y, stratified_cv(X, y, svc_model))\n",
    "    sns.heatmap(svm_svc_conf_matrix, annot=True,  fmt='');\n",
    "    title = 'SVM'\n",
    "    plt.title(title);\n",
    "    print('Support vector machine(SVM):\\n {}\\n'.format(metrics.classification_report(y, stratified_cv(X, y, svc_model))))\n",
    "print ('Temps de calcul',timer.interval)"
   ]
  },
  {
   "cell_type": "markdown",
   "metadata": {},
   "source": [
    "#### Random Forest Classifier"
   ]
  },
  {
   "cell_type": "code",
   "execution_count": 273,
   "metadata": {},
   "outputs": [
    {
     "name": "stdout",
     "output_type": "stream",
     "text": [
      "Random Forest Classifier:\n",
      "               precision    recall  f1-score   support\n",
      "\n",
      "           0       0.91      0.99      0.95     16842\n",
      "           1       0.70      0.27      0.39      2179\n",
      "\n",
      "    accuracy                           0.90     19021\n",
      "   macro avg       0.81      0.63      0.67     19021\n",
      "weighted avg       0.89      0.90      0.88     19021\n",
      "\n",
      "\n",
      "Temps de calcul 3.12\n"
     ]
    },
    {
     "data": {
      "image/png": "[encoded data removed]",
      "text/plain": [
       "<Figure size 432x288 with 2 Axes>"
      ]
     },
     "metadata": {
      "needs_background": "light"
     },
     "output_type": "display_data"
    }
   ],
   "source": [
    "with Timer() as timer:\n",
    "    from sklearn.ensemble import RandomForestClassifier\n",
    "    random_forest = RandomForestClassifier(n_estimators=10)\n",
    "    #print('Random Forest Classifier:      {:.2f}'.format(metrics.accuracy_score(y, stratified_cv(X, y, random_forest))))\n",
    "    Random_Forest_Classifier_matrix = metrics.confusion_matrix(y, stratified_cv(X, y, random_forest))\n",
    "    sns.heatmap(Random_Forest_Classifier_matrix, annot=True,  fmt='');\n",
    "    title = 'Random_Forest_Classifier'\n",
    "    plt.title(title);\n",
    "    print('Random Forest Classifier:\\n {}\\n'.format(metrics.classification_report(y, stratified_cv(X, y, random_forest))))\n",
    "print ('Temps de calcul',timer.interval)"
   ]
  },
  {
   "cell_type": "markdown",
   "metadata": {},
   "source": [
    "#### Logistic Regression"
   ]
  },
  {
   "cell_type": "code",
   "execution_count": 274,
   "metadata": {},
   "outputs": [
    {
     "name": "stdout",
     "output_type": "stream",
     "text": [
      "Logistic Regression:           0.89\n",
      "Temps de calcul 0.35\n"
     ]
    },
    {
     "data": {
      "image/png": "[encoded data removed]",
      "text/plain": [
       "<Figure size 432x288 with 2 Axes>"
      ]
     },
     "metadata": {
      "needs_background": "light"
     },
     "output_type": "display_data"
    }
   ],
   "source": [
    "with Timer() as timer:\n",
    "    from sklearn.linear_model import LogisticRegression\n",
    "    logistic_regression = LogisticRegression(solver='lbfgs')\n",
    "    print('Logistic Regression:           {:.2f}'.format(metrics.accuracy_score(y, stratified_cv(X, y, logistic_regression))))\n",
    "    LogisticRegression_conf_matrix = metrics.confusion_matrix(y, stratified_cv(X, y, logistic_regression))\n",
    "    sns.heatmap(LogisticRegression_conf_matrix, annot=True,  fmt='');\n",
    "    title = 'LogisticRegression'\n",
    "    plt.title(title);\n",
    "print ('Temps de calcul',timer.interval)"
   ]
  },
  {
   "cell_type": "markdown",
   "metadata": {},
   "source": [
    "#### KNeighbors Classifier"
   ]
  },
  {
   "cell_type": "code",
   "execution_count": 275,
   "metadata": {},
   "outputs": [
    {
     "name": "stdout",
     "output_type": "stream",
     "text": [
      "K_Neighbor_Classifier:\n",
      "               precision    recall  f1-score   support\n",
      "\n",
      "           0       0.92      0.98      0.95     16842\n",
      "           1       0.63      0.32      0.42      2179\n",
      "\n",
      "    accuracy                           0.90     19021\n",
      "   macro avg       0.77      0.65      0.69     19021\n",
      "weighted avg       0.88      0.90      0.89     19021\n",
      "\n",
      "\n",
      "Temps de calcul 2.26\n"
     ]
    },
    {
     "data": {
      "image/png": "[encoded data removed]",
      "text/plain": [
       "<Figure size 432x288 with 2 Axes>"
      ]
     },
     "metadata": {
      "needs_background": "light"
     },
     "output_type": "display_data"
    }
   ],
   "source": [
    "with Timer() as timer:\n",
    "    from sklearn.neighbors import KNeighborsClassifier\n",
    "    k_neighbors = KNeighborsClassifier()\n",
    "    #print('K Nearest Neighbor Classifier: {:.2f}'.format(metrics.accuracy_score(y, stratified_cv(X, y, k_neighbors))))\n",
    "    K_Neighbor_Class_matrix = metrics.confusion_matrix(y, stratified_cv(X, y, k_neighbors))\n",
    "    sns.heatmap(K_Neighbor_Class_matrix, annot=True,  fmt='');\n",
    "    title = 'K_Neighbor_Classifier'\n",
    "    plt.title(title);\n",
    "    print('K_Neighbor_Classifier:\\n {}\\n'.format(metrics.classification_report(y, stratified_cv(X, y, k_neighbors))))\n",
    "print ('Temps de calcul',timer.interval)"
   ]
  },
  {
   "cell_type": "markdown",
   "metadata": {},
   "source": [
    "##### Nous choisirons ce modèle d'apprentissage qui a de bonnes performances au regard du temps d'entraintement (2s) par rapport au SVM ou GBoosting 30x plus rapide !\n",
    "##### La Précision (des prédictions positives) est de 0,63 pour prédire une embauche.\n",
    "##### Le Rappel (sensibilité ou taux de positif réel) : Fraction des embauchés qui ont été correctement prédit est faible 0,32.\n",
    "##### Le score F1 est la moyenne pondérée de la précision et du rappel qui tient donc compte à la fois des faux positifs et des faux négatifs. F1 est généralement plus utile que la précision, surtout si la distribution des classes est inégale. La précision fonctionne mieux si les faux positifs et les faux négatifs ont un coût similaire. Si le coût des faux positifs et des faux négatifs est très différent, il est préférable d'examiner à la fois la précision et le rappel. Dans notre cas, le score F1 est de 0,90"
   ]
  },
  {
   "cell_type": "markdown",
   "metadata": {},
   "source": [
    "#### Final Model Selection"
   ]
  },
  {
   "cell_type": "code",
   "execution_count": 276,
   "metadata": {},
   "outputs": [
    {
     "data": {
      "text/plain": [
       "GradientBoostingClassifier()"
      ]
     },
     "execution_count": 276,
     "metadata": {},
     "output_type": "execute_result"
    }
   ],
   "source": [
    "gbc = ensemble.GradientBoostingClassifier()\n",
    "gbc.fit(X, y)"
   ]
  },
  {
   "cell_type": "code",
   "execution_count": 277,
   "metadata": {},
   "outputs": [
    {
     "data": {
      "text/plain": [
       "GradientBoostingClassifier()"
      ]
     },
     "execution_count": 277,
     "metadata": {},
     "output_type": "execute_result"
    }
   ],
   "source": [
    "GradientBoostingClassifier()"
   ]
  },
  {
   "cell_type": "code",
   "execution_count": 278,
   "metadata": {},
   "outputs": [
    {
     "name": "stdout",
     "output_type": "stream",
     "text": [
      "[0.00820094 0.00324923 0.09646146 0.20116025 0.12858027 0.17713755\n",
      " 0.19028152 0.19492877]\n",
      "sexe          0.201160\n",
      "dispo         0.194929\n",
      "note          0.190282\n",
      "specialite    0.177138\n",
      "diplome       0.128580\n",
      "salaire       0.096461\n",
      "age           0.008201\n",
      "exp           0.003249\n",
      "dtype: float64\n"
     ]
    },
    {
     "data": {
      "image/png": "[encoded data removed]",
      "text/plain": [
       "<Figure size 720x720 with 1 Axes>"
      ]
     },
     "metadata": {
      "needs_background": "light"
     },
     "output_type": "display_data"
    }
   ],
   "source": [
    "# Get Feature Importance from the classifier\n",
    "feature_importance = gbc.feature_importances_\n",
    "print (gbc.feature_importances_)\n",
    "feat_importances = pd.Series(gbc.feature_importances_, index=df.columns)\n",
    "feat_importances = feat_importances.nlargest(19)\n",
    "feat_importances.plot(kind='barh' , figsize=(10,10))\n",
    "print(feat_importances)\n",
    "\n"
   ]
  },
  {
   "cell_type": "code",
   "execution_count": 118,
   "metadata": {},
   "outputs": [],
   "source": [
    "##### Dans le modèle Gradient Booster, les caractéristiques qui sont les plus importantes sont le sexe, la note, la disponibilité et la disponibilité"
   ]
  },
  {
   "cell_type": "code",
   "execution_count": null,
   "metadata": {},
   "outputs": [],
   "source": []
  },
  {
   "cell_type": "code",
   "execution_count": null,
   "metadata": {},
   "outputs": [],
   "source": []
  },
  {
   "cell_type": "code",
   "execution_count": null,
   "metadata": {},
   "outputs": [],
   "source": []
  },
  {
   "cell_type": "code",
   "execution_count": null,
   "metadata": {},
   "outputs": [],
   "source": []
  },
  {
   "cell_type": "code",
   "execution_count": null,
   "metadata": {},
   "outputs": [],
   "source": []
  }
 ],
 "metadata": {
  "kernelspec": {
   "display_name": "Python 3",
   "language": "python",
   "name": "python3"
  },
  "language_info": {
   "codemirror_mode": {
    "name": "ipython",
    "version": 3
   },
   "file_extension": ".py",
   "mimetype": "text/x-python",
   "name": "python",
   "nbconvert_exporter": "python",
   "pygments_lexer": "ipython3",
   "version": "3.8.3"
  }
 },
 "nbformat": 4,
 "nbformat_minor": 4
}

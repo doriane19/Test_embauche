{
 "cells": [
  {
   "cell_type": "markdown",
   "metadata": {},
   "source": [
    "Enoncé\n",
    "Le jeu de données contenu dans data.csv décrit des candidatures au poste de chercheur\n",
    "d’or chez OrFée. Votre objectif consiste à prédire le succès ou l’échec d’une candidature.\n",
    "\n",
    "Le jeu de données comporte 11 colonnes :\n",
    "1. date – date de la candidature\n",
    "2. age – âge du candidat\n",
    "3. diplome – plus haut diplôme obtenu (bac, licence, master, doctorat)\n",
    "4. specialite – spécialité du diplôme (géologie, forage, détective, archéologie, . . . )\n",
    "5. salaire – salaire demandé\n",
    "6. dispo – oui : disponibilité immédiate, non : pas disponible immédiatement\n",
    "7. sexe – féminin (F) ou masculin (M)\n",
    "8. exp – nombre d’années d’expérience\n",
    "9. cheveux – couleur des cheveux (châtain, brun, blond, roux)\n",
    "10. note – note (sur 100) obtenue à l’exercice de recherche d’or\n",
    "11. embauche – le candidat a-t-il été embauché ? (0 : non, 1 : oui)\n",
    "\n",
    "\n",
    "\n",
    "\n",
    "\n",
    "1. Statistiques descriptives\n",
    "1. Décrivez le jeu de données. Présentez seulement les analyses et éventuels retraitements qui vous paraissent les plus pertinents et faites une première conclusion sur les variables à sélectionner en vue de la prédiction du succès ou de l’échec d’une candidature.\n",
    "\n",
    "2. Y a-t-il une dépendance statistiquement significative entre :\n",
    "(a) La spécialité et le sexe ?\n",
    "(b) La couleur de cheveux et le salaire demandé ?\n",
    "(c) Le nombre d’années d’expérience et la note à l’exercice ?\n",
    "\n",
    "2. Machine Learning\n",
    "1. Concevez un modèle permettant de prédire la variable embauche et expliquez votre choix d’algorithme. Si votre modèle comporte des spécificités de paramétrage, justifiez également vos choix de paramètres.\n",
    "2. Quelles sont les variables les plus importantes de votre modèle? Commentez.\n",
    "3. Décrivez et justifiez le critère de performance utilisé.\n",
    "4. Proposez deux à trois pistes d’amélioration de votre modèle"
   ]
  },
  {
   "cell_type": "code",
   "execution_count": 1,
   "metadata": {},
   "outputs": [],
   "source": [
    "import pandas as pd\n",
    "import numpy as np\n",
    "import matplotlib\n",
    "import numpy as np\n",
    "import matplotlib.pyplot as plt\n",
    "%matplotlib inline "
   ]
  },
  {
   "cell_type": "code",
   "execution_count": 2,
   "metadata": {},
   "outputs": [],
   "source": [
    "df = pd.read_csv(\"data_profile.csv\")"
   ]
  },
  {
   "cell_type": "code",
   "execution_count": 3,
   "metadata": {},
   "outputs": [
    {
     "data": {
      "text/html": [
       "<div>\n",
       "<style scoped>\n",
       "    .dataframe tbody tr th:only-of-type {\n",
       "        vertical-align: middle;\n",
       "    }\n",
       "\n",
       "    .dataframe tbody tr th {\n",
       "        vertical-align: top;\n",
       "    }\n",
       "\n",
       "    .dataframe thead th {\n",
       "        text-align: right;\n",
       "    }\n",
       "</style>\n",
       "<table border=\"1\" class=\"dataframe\">\n",
       "  <thead>\n",
       "    <tr style=\"text-align: right;\">\n",
       "      <th></th>\n",
       "      <th>Unnamed: 0</th>\n",
       "      <th>index</th>\n",
       "      <th>date</th>\n",
       "      <th>cheveux</th>\n",
       "      <th>age</th>\n",
       "      <th>exp</th>\n",
       "      <th>salaire</th>\n",
       "      <th>sexe</th>\n",
       "      <th>diplome</th>\n",
       "      <th>specialite</th>\n",
       "      <th>note</th>\n",
       "      <th>dispo</th>\n",
       "      <th>embauche</th>\n",
       "    </tr>\n",
       "  </thead>\n",
       "  <tbody>\n",
       "    <tr>\n",
       "      <th>0</th>\n",
       "      <td>0</td>\n",
       "      <td>0</td>\n",
       "      <td>2012-06-02</td>\n",
       "      <td>roux</td>\n",
       "      <td>25.0</td>\n",
       "      <td>9.0</td>\n",
       "      <td>26803.0</td>\n",
       "      <td>F</td>\n",
       "      <td>licence</td>\n",
       "      <td>geologie</td>\n",
       "      <td>97.08</td>\n",
       "      <td>non</td>\n",
       "      <td>0</td>\n",
       "    </tr>\n",
       "    <tr>\n",
       "      <th>1</th>\n",
       "      <td>1</td>\n",
       "      <td>1</td>\n",
       "      <td>2011-04-21</td>\n",
       "      <td>blond</td>\n",
       "      <td>35.0</td>\n",
       "      <td>13.0</td>\n",
       "      <td>38166.0</td>\n",
       "      <td>M</td>\n",
       "      <td>licence</td>\n",
       "      <td>forage</td>\n",
       "      <td>63.86</td>\n",
       "      <td>non</td>\n",
       "      <td>0</td>\n",
       "    </tr>\n",
       "    <tr>\n",
       "      <th>2</th>\n",
       "      <td>2</td>\n",
       "      <td>2</td>\n",
       "      <td>2012-09-07</td>\n",
       "      <td>blond</td>\n",
       "      <td>29.0</td>\n",
       "      <td>13.0</td>\n",
       "      <td>35207.0</td>\n",
       "      <td>M</td>\n",
       "      <td>licence</td>\n",
       "      <td>geologie</td>\n",
       "      <td>78.50</td>\n",
       "      <td>non</td>\n",
       "      <td>0</td>\n",
       "    </tr>\n",
       "    <tr>\n",
       "      <th>3</th>\n",
       "      <td>3</td>\n",
       "      <td>3</td>\n",
       "      <td>2011-07-01</td>\n",
       "      <td>brun</td>\n",
       "      <td>NaN</td>\n",
       "      <td>12.0</td>\n",
       "      <td>32442.0</td>\n",
       "      <td>M</td>\n",
       "      <td>licence</td>\n",
       "      <td>geologie</td>\n",
       "      <td>45.09</td>\n",
       "      <td>non</td>\n",
       "      <td>0</td>\n",
       "    </tr>\n",
       "    <tr>\n",
       "      <th>4</th>\n",
       "      <td>4</td>\n",
       "      <td>4</td>\n",
       "      <td>2012-08-07</td>\n",
       "      <td>roux</td>\n",
       "      <td>35.0</td>\n",
       "      <td>6.0</td>\n",
       "      <td>28533.0</td>\n",
       "      <td>F</td>\n",
       "      <td>licence</td>\n",
       "      <td>detective</td>\n",
       "      <td>81.91</td>\n",
       "      <td>non</td>\n",
       "      <td>0</td>\n",
       "    </tr>\n",
       "  </tbody>\n",
       "</table>\n",
       "</div>"
      ],
      "text/plain": [
       "   Unnamed: 0  index        date cheveux   age   exp  salaire sexe  diplome  \\\n",
       "0           0      0  2012-06-02    roux  25.0   9.0  26803.0    F  licence   \n",
       "1           1      1  2011-04-21   blond  35.0  13.0  38166.0    M  licence   \n",
       "2           2      2  2012-09-07   blond  29.0  13.0  35207.0    M  licence   \n",
       "3           3      3  2011-07-01    brun   NaN  12.0  32442.0    M  licence   \n",
       "4           4      4  2012-08-07    roux  35.0   6.0  28533.0    F  licence   \n",
       "\n",
       "  specialite   note dispo  embauche  \n",
       "0   geologie  97.08   non         0  \n",
       "1     forage  63.86   non         0  \n",
       "2   geologie  78.50   non         0  \n",
       "3   geologie  45.09   non         0  \n",
       "4  detective  81.91   non         0  "
      ]
     },
     "execution_count": 3,
     "metadata": {},
     "output_type": "execute_result"
    }
   ],
   "source": [
    "df.head()"
   ]
  },
  {
   "cell_type": "markdown",
   "metadata": {},
   "source": [
    "### drop unused columns"
   ]
  },
  {
   "cell_type": "code",
   "execution_count": 4,
   "metadata": {},
   "outputs": [],
   "source": [
    "df.drop([\"Unnamed: 0\", \"index\"], axis=1, inplace=True)"
   ]
  },
  {
   "cell_type": "code",
   "execution_count": 5,
   "metadata": {},
   "outputs": [
    {
     "data": {
      "text/html": [
       "<div>\n",
       "<style scoped>\n",
       "    .dataframe tbody tr th:only-of-type {\n",
       "        vertical-align: middle;\n",
       "    }\n",
       "\n",
       "    .dataframe tbody tr th {\n",
       "        vertical-align: top;\n",
       "    }\n",
       "\n",
       "    .dataframe thead th {\n",
       "        text-align: right;\n",
       "    }\n",
       "</style>\n",
       "<table border=\"1\" class=\"dataframe\">\n",
       "  <thead>\n",
       "    <tr style=\"text-align: right;\">\n",
       "      <th></th>\n",
       "      <th>date</th>\n",
       "      <th>cheveux</th>\n",
       "      <th>age</th>\n",
       "      <th>exp</th>\n",
       "      <th>salaire</th>\n",
       "      <th>sexe</th>\n",
       "      <th>diplome</th>\n",
       "      <th>specialite</th>\n",
       "      <th>note</th>\n",
       "      <th>dispo</th>\n",
       "      <th>embauche</th>\n",
       "    </tr>\n",
       "  </thead>\n",
       "  <tbody>\n",
       "    <tr>\n",
       "      <th>0</th>\n",
       "      <td>2012-06-02</td>\n",
       "      <td>roux</td>\n",
       "      <td>25.0</td>\n",
       "      <td>9.0</td>\n",
       "      <td>26803.0</td>\n",
       "      <td>F</td>\n",
       "      <td>licence</td>\n",
       "      <td>geologie</td>\n",
       "      <td>97.08</td>\n",
       "      <td>non</td>\n",
       "      <td>0</td>\n",
       "    </tr>\n",
       "    <tr>\n",
       "      <th>1</th>\n",
       "      <td>2011-04-21</td>\n",
       "      <td>blond</td>\n",
       "      <td>35.0</td>\n",
       "      <td>13.0</td>\n",
       "      <td>38166.0</td>\n",
       "      <td>M</td>\n",
       "      <td>licence</td>\n",
       "      <td>forage</td>\n",
       "      <td>63.86</td>\n",
       "      <td>non</td>\n",
       "      <td>0</td>\n",
       "    </tr>\n",
       "    <tr>\n",
       "      <th>2</th>\n",
       "      <td>2012-09-07</td>\n",
       "      <td>blond</td>\n",
       "      <td>29.0</td>\n",
       "      <td>13.0</td>\n",
       "      <td>35207.0</td>\n",
       "      <td>M</td>\n",
       "      <td>licence</td>\n",
       "      <td>geologie</td>\n",
       "      <td>78.50</td>\n",
       "      <td>non</td>\n",
       "      <td>0</td>\n",
       "    </tr>\n",
       "    <tr>\n",
       "      <th>3</th>\n",
       "      <td>2011-07-01</td>\n",
       "      <td>brun</td>\n",
       "      <td>NaN</td>\n",
       "      <td>12.0</td>\n",
       "      <td>32442.0</td>\n",
       "      <td>M</td>\n",
       "      <td>licence</td>\n",
       "      <td>geologie</td>\n",
       "      <td>45.09</td>\n",
       "      <td>non</td>\n",
       "      <td>0</td>\n",
       "    </tr>\n",
       "    <tr>\n",
       "      <th>4</th>\n",
       "      <td>2012-08-07</td>\n",
       "      <td>roux</td>\n",
       "      <td>35.0</td>\n",
       "      <td>6.0</td>\n",
       "      <td>28533.0</td>\n",
       "      <td>F</td>\n",
       "      <td>licence</td>\n",
       "      <td>detective</td>\n",
       "      <td>81.91</td>\n",
       "      <td>non</td>\n",
       "      <td>0</td>\n",
       "    </tr>\n",
       "  </tbody>\n",
       "</table>\n",
       "</div>"
      ],
      "text/plain": [
       "         date cheveux   age   exp  salaire sexe  diplome specialite   note  \\\n",
       "0  2012-06-02    roux  25.0   9.0  26803.0    F  licence   geologie  97.08   \n",
       "1  2011-04-21   blond  35.0  13.0  38166.0    M  licence     forage  63.86   \n",
       "2  2012-09-07   blond  29.0  13.0  35207.0    M  licence   geologie  78.50   \n",
       "3  2011-07-01    brun   NaN  12.0  32442.0    M  licence   geologie  45.09   \n",
       "4  2012-08-07    roux  35.0   6.0  28533.0    F  licence  detective  81.91   \n",
       "\n",
       "  dispo  embauche  \n",
       "0   non         0  \n",
       "1   non         0  \n",
       "2   non         0  \n",
       "3   non         0  \n",
       "4   non         0  "
      ]
     },
     "execution_count": 5,
     "metadata": {},
     "output_type": "execute_result"
    }
   ],
   "source": [
    "df.head()"
   ]
  },
  {
   "cell_type": "code",
   "execution_count": 9,
   "metadata": {},
   "outputs": [
    {
     "data": {
      "text/plain": [
       "<matplotlib.axes._subplots.AxesSubplot at 0x7fe71ddae438>"
      ]
     },
     "execution_count": 9,
     "metadata": {},
     "output_type": "execute_result"
    },
    {
     "data": {
      "image/png": "[encoded data removed]",
      "text/plain": [
       "<Figure size 1008x720 with 1 Axes>"
      ]
     },
     "metadata": {
      "needs_background": "light"
     },
     "output_type": "display_data"
    }
   ],
   "source": [
    "df.head(50).plot(x=\"date\",y=\"embauche\", kind=\"bar\", figsize=(14,10))"
   ]
  },
  {
   "cell_type": "markdown",
   "metadata": {},
   "source": [
    "### Count values labels (to deal with unbalanced labels, statistics on labels)"
   ]
  },
  {
   "cell_type": "code",
   "execution_count": 10,
   "metadata": {},
   "outputs": [
    {
     "data": {
      "text/plain": [
       "0    17708\n",
       "1     2292\n",
       "Name: embauche, dtype: int64"
      ]
     },
     "execution_count": 10,
     "metadata": {},
     "output_type": "execute_result"
    }
   ],
   "source": [
    "df[\"embauche\"].value_counts()"
   ]
  },
  {
   "cell_type": "markdown",
   "metadata": {},
   "source": [
    "### Data type"
   ]
  },
  {
   "cell_type": "code",
   "execution_count": 97,
   "metadata": {},
   "outputs": [
    {
     "data": {
      "text/plain": [
       "date           object\n",
       "cheveux        object\n",
       "age           float64\n",
       "exp           float64\n",
       "salaire       float64\n",
       "sexe           object\n",
       "diplome        object\n",
       "specialite     object\n",
       "note          float64\n",
       "dispo          object\n",
       "embauche        int64\n",
       "dtype: object"
      ]
     },
     "execution_count": 97,
     "metadata": {},
     "output_type": "execute_result"
    }
   ],
   "source": [
    "df.dtypes"
   ]
  },
  {
   "cell_type": "markdown",
   "metadata": {},
   "source": [
    "### Descriptive stats on countinous columns"
   ]
  },
  {
   "cell_type": "code",
   "execution_count": 12,
   "metadata": {},
   "outputs": [
    {
     "data": {
      "text/html": [
       "<div>\n",
       "<style scoped>\n",
       "    .dataframe tbody tr th:only-of-type {\n",
       "        vertical-align: middle;\n",
       "    }\n",
       "\n",
       "    .dataframe tbody tr th {\n",
       "        vertical-align: top;\n",
       "    }\n",
       "\n",
       "    .dataframe thead th {\n",
       "        text-align: right;\n",
       "    }\n",
       "</style>\n",
       "<table border=\"1\" class=\"dataframe\">\n",
       "  <thead>\n",
       "    <tr style=\"text-align: right;\">\n",
       "      <th></th>\n",
       "      <th>age</th>\n",
       "      <th>exp</th>\n",
       "      <th>salaire</th>\n",
       "      <th>note</th>\n",
       "      <th>embauche</th>\n",
       "    </tr>\n",
       "  </thead>\n",
       "  <tbody>\n",
       "    <tr>\n",
       "      <th>count</th>\n",
       "      <td>19909.000000</td>\n",
       "      <td>19904.000000</td>\n",
       "      <td>19905.000000</td>\n",
       "      <td>19886.000000</td>\n",
       "      <td>20000.000000</td>\n",
       "    </tr>\n",
       "    <tr>\n",
       "      <th>mean</th>\n",
       "      <td>35.004521</td>\n",
       "      <td>9.500352</td>\n",
       "      <td>34974.343934</td>\n",
       "      <td>75.168762</td>\n",
       "      <td>0.114600</td>\n",
       "    </tr>\n",
       "    <tr>\n",
       "      <th>std</th>\n",
       "      <td>9.609169</td>\n",
       "      <td>3.012109</td>\n",
       "      <td>5003.099616</td>\n",
       "      <td>17.095926</td>\n",
       "      <td>0.318547</td>\n",
       "    </tr>\n",
       "    <tr>\n",
       "      <th>min</th>\n",
       "      <td>-3.000000</td>\n",
       "      <td>-2.000000</td>\n",
       "      <td>14128.000000</td>\n",
       "      <td>8.680000</td>\n",
       "      <td>0.000000</td>\n",
       "    </tr>\n",
       "    <tr>\n",
       "      <th>25%</th>\n",
       "      <td>29.000000</td>\n",
       "      <td>7.000000</td>\n",
       "      <td>31596.000000</td>\n",
       "      <td>63.720000</td>\n",
       "      <td>0.000000</td>\n",
       "    </tr>\n",
       "    <tr>\n",
       "      <th>50%</th>\n",
       "      <td>35.000000</td>\n",
       "      <td>9.000000</td>\n",
       "      <td>34979.000000</td>\n",
       "      <td>75.080000</td>\n",
       "      <td>0.000000</td>\n",
       "    </tr>\n",
       "    <tr>\n",
       "      <th>75%</th>\n",
       "      <td>41.000000</td>\n",
       "      <td>12.000000</td>\n",
       "      <td>38358.000000</td>\n",
       "      <td>86.617500</td>\n",
       "      <td>0.000000</td>\n",
       "    </tr>\n",
       "    <tr>\n",
       "      <th>max</th>\n",
       "      <td>74.000000</td>\n",
       "      <td>23.000000</td>\n",
       "      <td>53977.000000</td>\n",
       "      <td>143.220000</td>\n",
       "      <td>1.000000</td>\n",
       "    </tr>\n",
       "  </tbody>\n",
       "</table>\n",
       "</div>"
      ],
      "text/plain": [
       "                age           exp       salaire          note      embauche\n",
       "count  19909.000000  19904.000000  19905.000000  19886.000000  20000.000000\n",
       "mean      35.004521      9.500352  34974.343934     75.168762      0.114600\n",
       "std        9.609169      3.012109   5003.099616     17.095926      0.318547\n",
       "min       -3.000000     -2.000000  14128.000000      8.680000      0.000000\n",
       "25%       29.000000      7.000000  31596.000000     63.720000      0.000000\n",
       "50%       35.000000      9.000000  34979.000000     75.080000      0.000000\n",
       "75%       41.000000     12.000000  38358.000000     86.617500      0.000000\n",
       "max       74.000000     23.000000  53977.000000    143.220000      1.000000"
      ]
     },
     "execution_count": 12,
     "metadata": {},
     "output_type": "execute_result"
    }
   ],
   "source": [
    "df.describe()"
   ]
  },
  {
   "cell_type": "markdown",
   "metadata": {},
   "source": [
    "# Values counts on countinous data"
   ]
  },
  {
   "cell_type": "code",
   "execution_count": 13,
   "metadata": {},
   "outputs": [
    {
     "name": "stdout",
     "output_type": "stream",
     "text": [
      "#########  cheveux ###########\n",
      "chatain    6022\n",
      "brun       5991\n",
      "blond      5929\n",
      "roux       1955\n",
      "Name: cheveux, dtype: int64\n",
      "#########  sexe ###########\n",
      "M    11889\n",
      "F     8011\n",
      "Name: sexe, dtype: int64\n",
      "#########  diplome ###########\n",
      "master      7513\n",
      "licence     7377\n",
      "doctorat    2547\n",
      "bac         2453\n",
      "Name: diplome, dtype: int64\n",
      "#########  specialite ###########\n",
      "geologie       10028\n",
      "forage          4340\n",
      "detective       4155\n",
      "archeologie     1384\n",
      "Name: specialite, dtype: int64\n",
      "#########  dispo ###########\n",
      "non    11848\n",
      "oui     8046\n",
      "Name: dispo, dtype: int64\n"
     ]
    }
   ],
   "source": [
    "print(\"#########  cheveux ###########\")\n",
    "print(df[\"cheveux\"].value_counts())\n",
    "print(\"#########  sexe ###########\")\n",
    "print(df[\"sexe\"].value_counts())\n",
    "print(\"#########  diplome ###########\")\n",
    "print(df[\"diplome\"].value_counts())\n",
    "print(\"#########  specialite ###########\")\n",
    "print(df[\"specialite\"].value_counts())\n",
    "print(\"#########  dispo ###########\")\n",
    "print(df[\"dispo\"].value_counts())"
   ]
  },
  {
   "cell_type": "code",
   "execution_count": 14,
   "metadata": {},
   "outputs": [
    {
     "data": {
      "text/plain": [
       "<matplotlib.axes._subplots.AxesSubplot at 0x7fe71d320d30>"
      ]
     },
     "execution_count": 14,
     "metadata": {},
     "output_type": "execute_result"
    },
    {
     "data": {
      "image/png": "[encoded data removed]",
      "text/plain": [
       "<Figure size 432x288 with 1 Axes>"
      ]
     },
     "metadata": {
      "needs_background": "light"
     },
     "output_type": "display_data"
    }
   ],
   "source": [
    "df[\"diplome\"].value_counts().plot(kind=\"bar\")"
   ]
  },
  {
   "cell_type": "markdown",
   "metadata": {},
   "source": [
    "### Stats on NAN per column"
   ]
  },
  {
   "cell_type": "code",
   "execution_count": 15,
   "metadata": {},
   "outputs": [
    {
     "data": {
      "text/plain": [
       "date           91\n",
       "cheveux       103\n",
       "age            91\n",
       "exp            96\n",
       "salaire        95\n",
       "sexe          100\n",
       "diplome       110\n",
       "specialite     93\n",
       "note          114\n",
       "dispo         106\n",
       "embauche        0\n",
       "dtype: int64"
      ]
     },
     "execution_count": 15,
     "metadata": {},
     "output_type": "execute_result"
    }
   ],
   "source": [
    "df.isnull().sum(axis = 0)"
   ]
  },
  {
   "cell_type": "markdown",
   "metadata": {},
   "source": [
    "## overall correlation analysis"
   ]
  },
  {
   "cell_type": "code",
   "execution_count": 99,
   "metadata": {},
   "outputs": [],
   "source": [
    "df_objects = df.select_dtypes(include=['object']) # select object type columns only\n",
    "df_bar_objects = df.select_dtypes(exclude=['object']) # excluding object type column."
   ]
  },
  {
   "cell_type": "code",
   "execution_count": 106,
   "metadata": {},
   "outputs": [],
   "source": [
    "df_objects = df_objects.apply(lambda x : pd.factorize(x)[0]) # Vectorization -> Categorical variable converted into countinous variable through integer vector. \n",
    "\n",
    "df_final = df_bar_objects.join(df_objects) # Join both dataframes"
   ]
  },
  {
   "cell_type": "code",
   "execution_count": 107,
   "metadata": {},
   "outputs": [
    {
     "data": {
      "text/html": [
       "<div>\n",
       "<style scoped>\n",
       "    .dataframe tbody tr th:only-of-type {\n",
       "        vertical-align: middle;\n",
       "    }\n",
       "\n",
       "    .dataframe tbody tr th {\n",
       "        vertical-align: top;\n",
       "    }\n",
       "\n",
       "    .dataframe thead th {\n",
       "        text-align: right;\n",
       "    }\n",
       "</style>\n",
       "<table border=\"1\" class=\"dataframe\">\n",
       "  <thead>\n",
       "    <tr style=\"text-align: right;\">\n",
       "      <th></th>\n",
       "      <th>age</th>\n",
       "      <th>exp</th>\n",
       "      <th>salaire</th>\n",
       "      <th>note</th>\n",
       "      <th>date</th>\n",
       "      <th>cheveux</th>\n",
       "      <th>sexe</th>\n",
       "      <th>diplome</th>\n",
       "      <th>specialite</th>\n",
       "      <th>dispo</th>\n",
       "    </tr>\n",
       "  </thead>\n",
       "  <tbody>\n",
       "    <tr>\n",
       "      <th>age</th>\n",
       "      <td>1.000000</td>\n",
       "      <td>-0.002786</td>\n",
       "      <td>0.001161</td>\n",
       "      <td>-0.007534</td>\n",
       "      <td>0.005451</td>\n",
       "      <td>-0.004039</td>\n",
       "      <td>0.001347</td>\n",
       "      <td>-0.010374</td>\n",
       "      <td>-0.020558</td>\n",
       "      <td>-0.011681</td>\n",
       "    </tr>\n",
       "    <tr>\n",
       "      <th>exp</th>\n",
       "      <td>-0.002786</td>\n",
       "      <td>1.000000</td>\n",
       "      <td>0.009709</td>\n",
       "      <td>-0.012195</td>\n",
       "      <td>-0.003082</td>\n",
       "      <td>0.004122</td>\n",
       "      <td>0.006159</td>\n",
       "      <td>-0.001190</td>\n",
       "      <td>0.002633</td>\n",
       "      <td>-0.002732</td>\n",
       "    </tr>\n",
       "    <tr>\n",
       "      <th>salaire</th>\n",
       "      <td>0.001161</td>\n",
       "      <td>0.009709</td>\n",
       "      <td>1.000000</td>\n",
       "      <td>-0.448422</td>\n",
       "      <td>0.012430</td>\n",
       "      <td>0.065629</td>\n",
       "      <td>0.132080</td>\n",
       "      <td>-0.012602</td>\n",
       "      <td>0.121291</td>\n",
       "      <td>0.172362</td>\n",
       "    </tr>\n",
       "    <tr>\n",
       "      <th>note</th>\n",
       "      <td>-0.007534</td>\n",
       "      <td>-0.012195</td>\n",
       "      <td>-0.448422</td>\n",
       "      <td>1.000000</td>\n",
       "      <td>-0.010365</td>\n",
       "      <td>0.052955</td>\n",
       "      <td>-0.263256</td>\n",
       "      <td>-0.003401</td>\n",
       "      <td>0.167505</td>\n",
       "      <td>0.335502</td>\n",
       "    </tr>\n",
       "    <tr>\n",
       "      <th>date</th>\n",
       "      <td>0.005451</td>\n",
       "      <td>-0.003082</td>\n",
       "      <td>0.012430</td>\n",
       "      <td>-0.010365</td>\n",
       "      <td>1.000000</td>\n",
       "      <td>-0.006587</td>\n",
       "      <td>0.010366</td>\n",
       "      <td>-0.001427</td>\n",
       "      <td>0.006483</td>\n",
       "      <td>-0.002748</td>\n",
       "    </tr>\n",
       "    <tr>\n",
       "      <th>cheveux</th>\n",
       "      <td>-0.004039</td>\n",
       "      <td>0.004122</td>\n",
       "      <td>0.065629</td>\n",
       "      <td>0.052955</td>\n",
       "      <td>-0.006587</td>\n",
       "      <td>1.000000</td>\n",
       "      <td>-0.283791</td>\n",
       "      <td>-0.021162</td>\n",
       "      <td>0.147810</td>\n",
       "      <td>0.116078</td>\n",
       "    </tr>\n",
       "    <tr>\n",
       "      <th>sexe</th>\n",
       "      <td>0.001347</td>\n",
       "      <td>0.006159</td>\n",
       "      <td>0.132080</td>\n",
       "      <td>-0.263256</td>\n",
       "      <td>0.010366</td>\n",
       "      <td>-0.283791</td>\n",
       "      <td>1.000000</td>\n",
       "      <td>-0.003288</td>\n",
       "      <td>-0.352848</td>\n",
       "      <td>0.062430</td>\n",
       "    </tr>\n",
       "    <tr>\n",
       "      <th>diplome</th>\n",
       "      <td>-0.010374</td>\n",
       "      <td>-0.001190</td>\n",
       "      <td>-0.012602</td>\n",
       "      <td>-0.003401</td>\n",
       "      <td>-0.001427</td>\n",
       "      <td>-0.021162</td>\n",
       "      <td>-0.003288</td>\n",
       "      <td>1.000000</td>\n",
       "      <td>-0.003897</td>\n",
       "      <td>0.056388</td>\n",
       "    </tr>\n",
       "    <tr>\n",
       "      <th>specialite</th>\n",
       "      <td>-0.020558</td>\n",
       "      <td>0.002633</td>\n",
       "      <td>0.121291</td>\n",
       "      <td>0.167505</td>\n",
       "      <td>0.006483</td>\n",
       "      <td>0.147810</td>\n",
       "      <td>-0.352848</td>\n",
       "      <td>-0.003897</td>\n",
       "      <td>1.000000</td>\n",
       "      <td>0.362680</td>\n",
       "    </tr>\n",
       "    <tr>\n",
       "      <th>dispo</th>\n",
       "      <td>-0.011681</td>\n",
       "      <td>-0.002732</td>\n",
       "      <td>0.172362</td>\n",
       "      <td>0.335502</td>\n",
       "      <td>-0.002748</td>\n",
       "      <td>0.116078</td>\n",
       "      <td>0.062430</td>\n",
       "      <td>0.056388</td>\n",
       "      <td>0.362680</td>\n",
       "      <td>1.000000</td>\n",
       "    </tr>\n",
       "  </tbody>\n",
       "</table>\n",
       "</div>"
      ],
      "text/plain": [
       "                 age       exp   salaire      note      date   cheveux  \\\n",
       "age         1.000000 -0.002786  0.001161 -0.007534  0.005451 -0.004039   \n",
       "exp        -0.002786  1.000000  0.009709 -0.012195 -0.003082  0.004122   \n",
       "salaire     0.001161  0.009709  1.000000 -0.448422  0.012430  0.065629   \n",
       "note       -0.007534 -0.012195 -0.448422  1.000000 -0.010365  0.052955   \n",
       "date        0.005451 -0.003082  0.012430 -0.010365  1.000000 -0.006587   \n",
       "cheveux    -0.004039  0.004122  0.065629  0.052955 -0.006587  1.000000   \n",
       "sexe        0.001347  0.006159  0.132080 -0.263256  0.010366 -0.283791   \n",
       "diplome    -0.010374 -0.001190 -0.012602 -0.003401 -0.001427 -0.021162   \n",
       "specialite -0.020558  0.002633  0.121291  0.167505  0.006483  0.147810   \n",
       "dispo      -0.011681 -0.002732  0.172362  0.335502 -0.002748  0.116078   \n",
       "\n",
       "                sexe   diplome  specialite     dispo  \n",
       "age         0.001347 -0.010374   -0.020558 -0.011681  \n",
       "exp         0.006159 -0.001190    0.002633 -0.002732  \n",
       "salaire     0.132080 -0.012602    0.121291  0.172362  \n",
       "note       -0.263256 -0.003401    0.167505  0.335502  \n",
       "date        0.010366 -0.001427    0.006483 -0.002748  \n",
       "cheveux    -0.283791 -0.021162    0.147810  0.116078  \n",
       "sexe        1.000000 -0.003288   -0.352848  0.062430  \n",
       "diplome    -0.003288  1.000000   -0.003897  0.056388  \n",
       "specialite -0.352848 -0.003897    1.000000  0.362680  \n",
       "dispo       0.062430  0.056388    0.362680  1.000000  "
      ]
     },
     "execution_count": 107,
     "metadata": {},
     "output_type": "execute_result"
    }
   ],
   "source": [
    "# pearson : standard correlation coefficient (linear corr)\n",
    "#df.corr(method='pearson')\n",
    "\n",
    "df_filter = df_final.drop([\"embauche\"], axis=1).copy()\n",
    "df_filter.corr(method='pearson', min_periods=1)"
   ]
  },
  {
   "cell_type": "code",
   "execution_count": 108,
   "metadata": {},
   "outputs": [
    {
     "data": {
      "text/html": [
       "<div>\n",
       "<style scoped>\n",
       "    .dataframe tbody tr th:only-of-type {\n",
       "        vertical-align: middle;\n",
       "    }\n",
       "\n",
       "    .dataframe tbody tr th {\n",
       "        vertical-align: top;\n",
       "    }\n",
       "\n",
       "    .dataframe thead th {\n",
       "        text-align: right;\n",
       "    }\n",
       "</style>\n",
       "<table border=\"1\" class=\"dataframe\">\n",
       "  <thead>\n",
       "    <tr style=\"text-align: right;\">\n",
       "      <th></th>\n",
       "      <th>age</th>\n",
       "      <th>exp</th>\n",
       "      <th>salaire</th>\n",
       "      <th>note</th>\n",
       "      <th>date</th>\n",
       "      <th>cheveux</th>\n",
       "      <th>sexe</th>\n",
       "      <th>diplome</th>\n",
       "      <th>specialite</th>\n",
       "      <th>dispo</th>\n",
       "    </tr>\n",
       "  </thead>\n",
       "  <tbody>\n",
       "    <tr>\n",
       "      <th>age</th>\n",
       "      <td>1.000000</td>\n",
       "      <td>-0.003188</td>\n",
       "      <td>-0.000251</td>\n",
       "      <td>-0.005510</td>\n",
       "      <td>0.003264</td>\n",
       "      <td>-0.001688</td>\n",
       "      <td>0.001501</td>\n",
       "      <td>-0.012635</td>\n",
       "      <td>-0.013183</td>\n",
       "      <td>-0.008237</td>\n",
       "    </tr>\n",
       "    <tr>\n",
       "      <th>exp</th>\n",
       "      <td>-0.003188</td>\n",
       "      <td>1.000000</td>\n",
       "      <td>0.004014</td>\n",
       "      <td>-0.009465</td>\n",
       "      <td>-0.002493</td>\n",
       "      <td>0.003987</td>\n",
       "      <td>0.004246</td>\n",
       "      <td>-0.002107</td>\n",
       "      <td>-0.000041</td>\n",
       "      <td>-0.004145</td>\n",
       "    </tr>\n",
       "    <tr>\n",
       "      <th>salaire</th>\n",
       "      <td>-0.000251</td>\n",
       "      <td>0.004014</td>\n",
       "      <td>1.000000</td>\n",
       "      <td>-0.293465</td>\n",
       "      <td>0.008233</td>\n",
       "      <td>0.048147</td>\n",
       "      <td>0.106738</td>\n",
       "      <td>-0.070255</td>\n",
       "      <td>0.092114</td>\n",
       "      <td>0.144235</td>\n",
       "    </tr>\n",
       "    <tr>\n",
       "      <th>note</th>\n",
       "      <td>-0.005510</td>\n",
       "      <td>-0.009465</td>\n",
       "      <td>-0.293465</td>\n",
       "      <td>1.000000</td>\n",
       "      <td>-0.006573</td>\n",
       "      <td>0.034376</td>\n",
       "      <td>-0.209978</td>\n",
       "      <td>0.095924</td>\n",
       "      <td>0.125810</td>\n",
       "      <td>0.276257</td>\n",
       "    </tr>\n",
       "    <tr>\n",
       "      <th>date</th>\n",
       "      <td>0.003264</td>\n",
       "      <td>-0.002493</td>\n",
       "      <td>0.008233</td>\n",
       "      <td>-0.006573</td>\n",
       "      <td>1.000000</td>\n",
       "      <td>-0.004754</td>\n",
       "      <td>0.008677</td>\n",
       "      <td>-0.004707</td>\n",
       "      <td>0.005796</td>\n",
       "      <td>-0.001865</td>\n",
       "    </tr>\n",
       "    <tr>\n",
       "      <th>cheveux</th>\n",
       "      <td>-0.001688</td>\n",
       "      <td>0.003987</td>\n",
       "      <td>0.048147</td>\n",
       "      <td>0.034376</td>\n",
       "      <td>-0.004754</td>\n",
       "      <td>1.000000</td>\n",
       "      <td>-0.265782</td>\n",
       "      <td>0.090938</td>\n",
       "      <td>0.129156</td>\n",
       "      <td>0.109680</td>\n",
       "    </tr>\n",
       "    <tr>\n",
       "      <th>sexe</th>\n",
       "      <td>0.001501</td>\n",
       "      <td>0.004246</td>\n",
       "      <td>0.106738</td>\n",
       "      <td>-0.209978</td>\n",
       "      <td>0.008677</td>\n",
       "      <td>-0.265782</td>\n",
       "      <td>1.000000</td>\n",
       "      <td>-0.013739</td>\n",
       "      <td>-0.334671</td>\n",
       "      <td>0.064512</td>\n",
       "    </tr>\n",
       "    <tr>\n",
       "      <th>diplome</th>\n",
       "      <td>-0.012635</td>\n",
       "      <td>-0.002107</td>\n",
       "      <td>-0.070255</td>\n",
       "      <td>0.095924</td>\n",
       "      <td>-0.004707</td>\n",
       "      <td>0.090938</td>\n",
       "      <td>-0.013739</td>\n",
       "      <td>1.000000</td>\n",
       "      <td>0.011551</td>\n",
       "      <td>0.133466</td>\n",
       "    </tr>\n",
       "    <tr>\n",
       "      <th>specialite</th>\n",
       "      <td>-0.013183</td>\n",
       "      <td>-0.000041</td>\n",
       "      <td>0.092114</td>\n",
       "      <td>0.125810</td>\n",
       "      <td>0.005796</td>\n",
       "      <td>0.129156</td>\n",
       "      <td>-0.334671</td>\n",
       "      <td>0.011551</td>\n",
       "      <td>1.000000</td>\n",
       "      <td>0.349334</td>\n",
       "    </tr>\n",
       "    <tr>\n",
       "      <th>dispo</th>\n",
       "      <td>-0.008237</td>\n",
       "      <td>-0.004145</td>\n",
       "      <td>0.144235</td>\n",
       "      <td>0.276257</td>\n",
       "      <td>-0.001865</td>\n",
       "      <td>0.109680</td>\n",
       "      <td>0.064512</td>\n",
       "      <td>0.133466</td>\n",
       "      <td>0.349334</td>\n",
       "      <td>1.000000</td>\n",
       "    </tr>\n",
       "  </tbody>\n",
       "</table>\n",
       "</div>"
      ],
      "text/plain": [
       "                 age       exp   salaire      note      date   cheveux  \\\n",
       "age         1.000000 -0.003188 -0.000251 -0.005510  0.003264 -0.001688   \n",
       "exp        -0.003188  1.000000  0.004014 -0.009465 -0.002493  0.003987   \n",
       "salaire    -0.000251  0.004014  1.000000 -0.293465  0.008233  0.048147   \n",
       "note       -0.005510 -0.009465 -0.293465  1.000000 -0.006573  0.034376   \n",
       "date        0.003264 -0.002493  0.008233 -0.006573  1.000000 -0.004754   \n",
       "cheveux    -0.001688  0.003987  0.048147  0.034376 -0.004754  1.000000   \n",
       "sexe        0.001501  0.004246  0.106738 -0.209978  0.008677 -0.265782   \n",
       "diplome    -0.012635 -0.002107 -0.070255  0.095924 -0.004707  0.090938   \n",
       "specialite -0.013183 -0.000041  0.092114  0.125810  0.005796  0.129156   \n",
       "dispo      -0.008237 -0.004145  0.144235  0.276257 -0.001865  0.109680   \n",
       "\n",
       "                sexe   diplome  specialite     dispo  \n",
       "age         0.001501 -0.012635   -0.013183 -0.008237  \n",
       "exp         0.004246 -0.002107   -0.000041 -0.004145  \n",
       "salaire     0.106738 -0.070255    0.092114  0.144235  \n",
       "note       -0.209978  0.095924    0.125810  0.276257  \n",
       "date        0.008677 -0.004707    0.005796 -0.001865  \n",
       "cheveux    -0.265782  0.090938    0.129156  0.109680  \n",
       "sexe        1.000000 -0.013739   -0.334671  0.064512  \n",
       "diplome    -0.013739  1.000000    0.011551  0.133466  \n",
       "specialite -0.334671  0.011551    1.000000  0.349334  \n",
       "dispo       0.064512  0.133466    0.349334  1.000000  "
      ]
     },
     "execution_count": 108,
     "metadata": {},
     "output_type": "execute_result"
    }
   ],
   "source": [
    "# kendall : Kendall Tau correlation coefficient (rank)\n",
    "#df.corr(method='kendall')\n",
    "\n",
    "df_filter.corr(method='kendall', min_periods=1)"
   ]
  },
  {
   "cell_type": "code",
   "execution_count": 109,
   "metadata": {},
   "outputs": [
    {
     "data": {
      "text/html": [
       "<div>\n",
       "<style scoped>\n",
       "    .dataframe tbody tr th:only-of-type {\n",
       "        vertical-align: middle;\n",
       "    }\n",
       "\n",
       "    .dataframe tbody tr th {\n",
       "        vertical-align: top;\n",
       "    }\n",
       "\n",
       "    .dataframe thead th {\n",
       "        text-align: right;\n",
       "    }\n",
       "</style>\n",
       "<table border=\"1\" class=\"dataframe\">\n",
       "  <thead>\n",
       "    <tr style=\"text-align: right;\">\n",
       "      <th></th>\n",
       "      <th>age</th>\n",
       "      <th>exp</th>\n",
       "      <th>salaire</th>\n",
       "      <th>note</th>\n",
       "      <th>date</th>\n",
       "      <th>cheveux</th>\n",
       "      <th>sexe</th>\n",
       "      <th>diplome</th>\n",
       "      <th>specialite</th>\n",
       "      <th>dispo</th>\n",
       "    </tr>\n",
       "  </thead>\n",
       "  <tbody>\n",
       "    <tr>\n",
       "      <th>age</th>\n",
       "      <td>1.000000</td>\n",
       "      <td>-0.004490</td>\n",
       "      <td>-0.000377</td>\n",
       "      <td>-0.008133</td>\n",
       "      <td>0.004801</td>\n",
       "      <td>-0.002212</td>\n",
       "      <td>0.001816</td>\n",
       "      <td>-0.016422</td>\n",
       "      <td>-0.017055</td>\n",
       "      <td>-0.009958</td>\n",
       "    </tr>\n",
       "    <tr>\n",
       "      <th>exp</th>\n",
       "      <td>-0.004490</td>\n",
       "      <td>1.000000</td>\n",
       "      <td>0.005762</td>\n",
       "      <td>-0.013582</td>\n",
       "      <td>-0.003531</td>\n",
       "      <td>0.005045</td>\n",
       "      <td>0.004991</td>\n",
       "      <td>-0.002648</td>\n",
       "      <td>-0.000070</td>\n",
       "      <td>-0.004876</td>\n",
       "    </tr>\n",
       "    <tr>\n",
       "      <th>salaire</th>\n",
       "      <td>-0.000377</td>\n",
       "      <td>0.005762</td>\n",
       "      <td>1.000000</td>\n",
       "      <td>-0.424889</td>\n",
       "      <td>0.012400</td>\n",
       "      <td>0.063906</td>\n",
       "      <td>0.131022</td>\n",
       "      <td>-0.086273</td>\n",
       "      <td>0.120687</td>\n",
       "      <td>0.177072</td>\n",
       "    </tr>\n",
       "    <tr>\n",
       "      <th>note</th>\n",
       "      <td>-0.008133</td>\n",
       "      <td>-0.013582</td>\n",
       "      <td>-0.424889</td>\n",
       "      <td>1.000000</td>\n",
       "      <td>-0.009848</td>\n",
       "      <td>0.045575</td>\n",
       "      <td>-0.257718</td>\n",
       "      <td>0.107047</td>\n",
       "      <td>0.164490</td>\n",
       "      <td>0.339150</td>\n",
       "    </tr>\n",
       "    <tr>\n",
       "      <th>date</th>\n",
       "      <td>0.004801</td>\n",
       "      <td>-0.003531</td>\n",
       "      <td>0.012400</td>\n",
       "      <td>-0.009848</td>\n",
       "      <td>1.000000</td>\n",
       "      <td>-0.006319</td>\n",
       "      <td>0.010648</td>\n",
       "      <td>-0.006225</td>\n",
       "      <td>0.007601</td>\n",
       "      <td>-0.002285</td>\n",
       "    </tr>\n",
       "    <tr>\n",
       "      <th>cheveux</th>\n",
       "      <td>-0.002212</td>\n",
       "      <td>0.005045</td>\n",
       "      <td>0.063906</td>\n",
       "      <td>0.045575</td>\n",
       "      <td>-0.006319</td>\n",
       "      <td>1.000000</td>\n",
       "      <td>-0.289307</td>\n",
       "      <td>0.093330</td>\n",
       "      <td>0.150007</td>\n",
       "      <td>0.119406</td>\n",
       "    </tr>\n",
       "    <tr>\n",
       "      <th>sexe</th>\n",
       "      <td>0.001816</td>\n",
       "      <td>0.004991</td>\n",
       "      <td>0.131022</td>\n",
       "      <td>-0.257718</td>\n",
       "      <td>0.010648</td>\n",
       "      <td>-0.289307</td>\n",
       "      <td>1.000000</td>\n",
       "      <td>-0.014830</td>\n",
       "      <td>-0.359393</td>\n",
       "      <td>0.064840</td>\n",
       "    </tr>\n",
       "    <tr>\n",
       "      <th>diplome</th>\n",
       "      <td>-0.016422</td>\n",
       "      <td>-0.002648</td>\n",
       "      <td>-0.086273</td>\n",
       "      <td>0.107047</td>\n",
       "      <td>-0.006225</td>\n",
       "      <td>0.093330</td>\n",
       "      <td>-0.014830</td>\n",
       "      <td>1.000000</td>\n",
       "      <td>0.012811</td>\n",
       "      <td>0.144120</td>\n",
       "    </tr>\n",
       "    <tr>\n",
       "      <th>specialite</th>\n",
       "      <td>-0.017055</td>\n",
       "      <td>-0.000070</td>\n",
       "      <td>0.120687</td>\n",
       "      <td>0.164490</td>\n",
       "      <td>0.007601</td>\n",
       "      <td>0.150007</td>\n",
       "      <td>-0.359393</td>\n",
       "      <td>0.012811</td>\n",
       "      <td>1.000000</td>\n",
       "      <td>0.375173</td>\n",
       "    </tr>\n",
       "    <tr>\n",
       "      <th>dispo</th>\n",
       "      <td>-0.009958</td>\n",
       "      <td>-0.004876</td>\n",
       "      <td>0.177072</td>\n",
       "      <td>0.339150</td>\n",
       "      <td>-0.002285</td>\n",
       "      <td>0.119406</td>\n",
       "      <td>0.064840</td>\n",
       "      <td>0.144120</td>\n",
       "      <td>0.375173</td>\n",
       "      <td>1.000000</td>\n",
       "    </tr>\n",
       "  </tbody>\n",
       "</table>\n",
       "</div>"
      ],
      "text/plain": [
       "                 age       exp   salaire      note      date   cheveux  \\\n",
       "age         1.000000 -0.004490 -0.000377 -0.008133  0.004801 -0.002212   \n",
       "exp        -0.004490  1.000000  0.005762 -0.013582 -0.003531  0.005045   \n",
       "salaire    -0.000377  0.005762  1.000000 -0.424889  0.012400  0.063906   \n",
       "note       -0.008133 -0.013582 -0.424889  1.000000 -0.009848  0.045575   \n",
       "date        0.004801 -0.003531  0.012400 -0.009848  1.000000 -0.006319   \n",
       "cheveux    -0.002212  0.005045  0.063906  0.045575 -0.006319  1.000000   \n",
       "sexe        0.001816  0.004991  0.131022 -0.257718  0.010648 -0.289307   \n",
       "diplome    -0.016422 -0.002648 -0.086273  0.107047 -0.006225  0.093330   \n",
       "specialite -0.017055 -0.000070  0.120687  0.164490  0.007601  0.150007   \n",
       "dispo      -0.009958 -0.004876  0.177072  0.339150 -0.002285  0.119406   \n",
       "\n",
       "                sexe   diplome  specialite     dispo  \n",
       "age         0.001816 -0.016422   -0.017055 -0.009958  \n",
       "exp         0.004991 -0.002648   -0.000070 -0.004876  \n",
       "salaire     0.131022 -0.086273    0.120687  0.177072  \n",
       "note       -0.257718  0.107047    0.164490  0.339150  \n",
       "date        0.010648 -0.006225    0.007601 -0.002285  \n",
       "cheveux    -0.289307  0.093330    0.150007  0.119406  \n",
       "sexe        1.000000 -0.014830   -0.359393  0.064840  \n",
       "diplome    -0.014830  1.000000    0.012811  0.144120  \n",
       "specialite -0.359393  0.012811    1.000000  0.375173  \n",
       "dispo       0.064840  0.144120    0.375173  1.000000  "
      ]
     },
     "execution_count": 109,
     "metadata": {},
     "output_type": "execute_result"
    }
   ],
   "source": [
    "# spearman : Spearman rank correlation (non linear corr)\n",
    "#df.corr(method='spearman')\n",
    "df_filter.corr(method='spearman', min_periods=1)"
   ]
  },
  {
   "cell_type": "code",
   "execution_count": 110,
   "metadata": {},
   "outputs": [],
   "source": [
    "df_tmp = df[[\"age\",\"exp\"]].dropna()\n",
    "\n",
    "X = df_tmp[\"age\"].values\n",
    "Y = df_tmp[\"exp\"].values\n",
    "rho = np.cov(X,Y) / (np.std(X)*np.std(Y))\n",
    "print(rho)"
   ]
  },
  {
   "cell_type": "markdown",
   "metadata": {},
   "source": [
    "### Plot corr. with categorical variables"
   ]
  },
  {
   "cell_type": "code",
   "execution_count": 112,
   "metadata": {},
   "outputs": [
    {
     "data": {
      "image/png": "[encoded data removed]",
      "text/plain": [
       "<Figure size 720x720 with 2 Axes>"
      ]
     },
     "metadata": {
      "needs_background": "light"
     },
     "output_type": "display_data"
    }
   ],
   "source": [
    "import seaborn as sns\n",
    "corr = df_filter.corr(method='spearman', min_periods=1)\n",
    "\n",
    "fig, ax = plt.subplots(figsize=(10,10))  \n",
    "sns.heatmap(\n",
    "    corr, \n",
    "    vmin=-1, vmax=1, center=0,\n",
    "    cmap=sns.diverging_palette(20, 220, n=200),\n",
    "    square=True,\n",
    "    ax = ax\n",
    ")\n",
    "ax.set_xticklabels(\n",
    "    ax.get_xticklabels(),\n",
    "    rotation=45,\n",
    "    horizontalalignment='right'\n",
    ");"
   ]
  },
  {
   "cell_type": "markdown",
   "metadata": {},
   "source": [
    "1. both salary and note exhibit little correlation (see graph below)\n",
    "2. both hair and sex are slighly correlated\n",
    "3. sex and speciality .....\n",
    "4. note and sex ....."
   ]
  },
  {
   "cell_type": "markdown",
   "metadata": {},
   "source": [
    "### PCA on Mixed data type (both categorical and continous variable)"
   ]
  },
  {
   "cell_type": "markdown",
   "metadata": {},
   "source": [
    "You can not use PCA, or at least it is not recommended, for mixed data. It is best to use Factor analysis of mixed data. You are lucky that Prince is a Python package that covers all data scenarios, borrowing from its explanation:\n",
    "\n",
    "    \n",
    "1. All your variables are numeric: use principal component analysis (prince.PCA)\n",
    "2. You have a contingency table: use correspondence analysis (prince.CA)\n",
    "3. You have more than 2 variables and they are all categorical: use multiple correspondence analysis (prince.MCA)\n",
    "4. You have groups of categorical or numerical variables: use multiple factor analysis (prince.MFA)\n",
    "5. You have both categorical and numerical variables: use factor analysis of mixed data (prince.FAMD)\n",
    "\n"
   ]
  },
  {
   "cell_type": "code",
   "execution_count": 89,
   "metadata": {},
   "outputs": [
    {
     "name": "stdout",
     "output_type": "stream",
     "text": [
      "Requirement already satisfied: prince in /home/andromede/anaconda3/lib/python3.6/site-packages (0.6.3)\n",
      "Requirement already satisfied: matplotlib>=3.0.2 in /home/andromede/anaconda3/lib/python3.6/site-packages (from prince) (3.1.3)\n",
      "Requirement already satisfied: pandas>=0.24.0 in /home/andromede/anaconda3/lib/python3.6/site-packages (from prince) (0.24.2)\n",
      "Requirement already satisfied: numpy>=1.16.1 in /home/andromede/anaconda3/lib/python3.6/site-packages (from prince) (1.16.2)\n",
      "Requirement already satisfied: scikit-learn>=0.20.1 in /home/andromede/anaconda3/lib/python3.6/site-packages (from prince) (0.20.2)\n",
      "Requirement already satisfied: scipy>=1.1.0 in /home/andromede/anaconda3/lib/python3.6/site-packages (from prince) (1.2.1)\n",
      "Requirement already satisfied: kiwisolver>=1.0.1 in /home/andromede/anaconda3/lib/python3.6/site-packages (from matplotlib>=3.0.2->prince) (1.0.1)\n",
      "Requirement already satisfied: python-dateutil>=2.1 in /home/andromede/anaconda3/lib/python3.6/site-packages (from matplotlib>=3.0.2->prince) (2.7.3)\n",
      "Requirement already satisfied: pyparsing!=2.0.4,!=2.1.2,!=2.1.6,>=2.0.1 in /home/andromede/anaconda3/lib/python3.6/site-packages (from matplotlib>=3.0.2->prince) (2.2.0)\n",
      "Requirement already satisfied: cycler>=0.10 in /home/andromede/anaconda3/lib/python3.6/site-packages (from matplotlib>=3.0.2->prince) (0.10.0)\n",
      "Requirement already satisfied: pytz>=2011k in /home/andromede/anaconda3/lib/python3.6/site-packages (from pandas>=0.24.0->prince) (2018.4)\n",
      "Requirement already satisfied: setuptools in /home/andromede/anaconda3/lib/python3.6/site-packages (from kiwisolver>=1.0.1->matplotlib>=3.0.2->prince) (41.0.1)\n",
      "Requirement already satisfied: six>=1.5 in /home/andromede/anaconda3/lib/python3.6/site-packages (from python-dateutil>=2.1->matplotlib>=3.0.2->prince) (1.11.0)\n",
      "\u001b[33mWARNING: You are using pip version 19.1, however version 20.0.2 is available.\n",
      "You should consider upgrading via the 'pip install --upgrade pip' command.\u001b[0m\n"
     ]
    }
   ],
   "source": [
    "!pip install prince "
   ]
  },
  {
   "cell_type": "markdown",
   "metadata": {},
   "source": [
    "Analyse de la dependance entre les variables continues et categorielles"
   ]
  },
  {
   "cell_type": "markdown",
   "metadata": {},
   "source": [
    "### FAMD   (Factor Analysis of Mixed Data --> Including both categorial and continous variables)"
   ]
  },
  {
   "cell_type": "code",
   "execution_count": 113,
   "metadata": {},
   "outputs": [],
   "source": [
    "import prince "
   ]
  },
  {
   "cell_type": "code",
   "execution_count": 24,
   "metadata": {},
   "outputs": [
    {
     "name": "stdout",
     "output_type": "stream",
     "text": [
      "len df 20000\n",
      "len df after dropping na 19021\n"
     ]
    }
   ],
   "source": [
    "df_drop_embauche = df.drop([\"embauche\"], axis=1)\n",
    "\n",
    "print(\"len df\", len(df_drop_embauche))\n",
    "df_drop_embauche = df_drop_embauche.dropna()\n",
    "print(\"len df after dropping na\", len(df_drop_embauche))"
   ]
  },
  {
   "cell_type": "code",
   "execution_count": 59,
   "metadata": {},
   "outputs": [],
   "source": [
    "n_components = 3\n",
    "famd = prince.FAMD(n_components=n_components,\n",
    "                   n_iter=10,\n",
    "                   copy=True,\n",
    "                   check_input=True, \n",
    "                   engine='auto',\n",
    "                   random_state=42)\n",
    "\n",
    "famd = famd.fit(df_drop_embauche) "
   ]
  },
  {
   "cell_type": "code",
   "execution_count": 60,
   "metadata": {},
   "outputs": [
    {
     "data": {
      "text/html": [
       "<div>\n",
       "<style scoped>\n",
       "    .dataframe tbody tr th:only-of-type {\n",
       "        vertical-align: middle;\n",
       "    }\n",
       "\n",
       "    .dataframe tbody tr th {\n",
       "        vertical-align: top;\n",
       "    }\n",
       "\n",
       "    .dataframe thead th {\n",
       "        text-align: right;\n",
       "    }\n",
       "</style>\n",
       "<table border=\"1\" class=\"dataframe\">\n",
       "  <thead>\n",
       "    <tr style=\"text-align: right;\">\n",
       "      <th></th>\n",
       "      <th>date</th>\n",
       "      <th>cheveux</th>\n",
       "      <th>age</th>\n",
       "      <th>exp</th>\n",
       "      <th>salaire</th>\n",
       "      <th>sexe</th>\n",
       "      <th>diplome</th>\n",
       "      <th>specialite</th>\n",
       "      <th>note</th>\n",
       "      <th>dispo</th>\n",
       "    </tr>\n",
       "  </thead>\n",
       "  <tbody>\n",
       "    <tr>\n",
       "      <th>0</th>\n",
       "      <td>2012-06-02</td>\n",
       "      <td>roux</td>\n",
       "      <td>25.0</td>\n",
       "      <td>9.0</td>\n",
       "      <td>26803.0</td>\n",
       "      <td>F</td>\n",
       "      <td>licence</td>\n",
       "      <td>geologie</td>\n",
       "      <td>97.08</td>\n",
       "      <td>non</td>\n",
       "    </tr>\n",
       "    <tr>\n",
       "      <th>1</th>\n",
       "      <td>2011-04-21</td>\n",
       "      <td>blond</td>\n",
       "      <td>35.0</td>\n",
       "      <td>13.0</td>\n",
       "      <td>38166.0</td>\n",
       "      <td>M</td>\n",
       "      <td>licence</td>\n",
       "      <td>forage</td>\n",
       "      <td>63.86</td>\n",
       "      <td>non</td>\n",
       "    </tr>\n",
       "    <tr>\n",
       "      <th>2</th>\n",
       "      <td>2012-09-07</td>\n",
       "      <td>blond</td>\n",
       "      <td>29.0</td>\n",
       "      <td>13.0</td>\n",
       "      <td>35207.0</td>\n",
       "      <td>M</td>\n",
       "      <td>licence</td>\n",
       "      <td>geologie</td>\n",
       "      <td>78.50</td>\n",
       "      <td>non</td>\n",
       "    </tr>\n",
       "    <tr>\n",
       "      <th>4</th>\n",
       "      <td>2012-08-07</td>\n",
       "      <td>roux</td>\n",
       "      <td>35.0</td>\n",
       "      <td>6.0</td>\n",
       "      <td>28533.0</td>\n",
       "      <td>F</td>\n",
       "      <td>licence</td>\n",
       "      <td>detective</td>\n",
       "      <td>81.91</td>\n",
       "      <td>non</td>\n",
       "    </tr>\n",
       "    <tr>\n",
       "      <th>5</th>\n",
       "      <td>2014-02-12</td>\n",
       "      <td>chatain</td>\n",
       "      <td>37.0</td>\n",
       "      <td>8.0</td>\n",
       "      <td>38558.0</td>\n",
       "      <td>M</td>\n",
       "      <td>master</td>\n",
       "      <td>geologie</td>\n",
       "      <td>63.46</td>\n",
       "      <td>non</td>\n",
       "    </tr>\n",
       "  </tbody>\n",
       "</table>\n",
       "</div>"
      ],
      "text/plain": [
       "         date  cheveux   age   exp  salaire sexe  diplome specialite   note  \\\n",
       "0  2012-06-02     roux  25.0   9.0  26803.0    F  licence   geologie  97.08   \n",
       "1  2011-04-21    blond  35.0  13.0  38166.0    M  licence     forage  63.86   \n",
       "2  2012-09-07    blond  29.0  13.0  35207.0    M  licence   geologie  78.50   \n",
       "4  2012-08-07     roux  35.0   6.0  28533.0    F  licence  detective  81.91   \n",
       "5  2014-02-12  chatain  37.0   8.0  38558.0    M   master   geologie  63.46   \n",
       "\n",
       "  dispo  \n",
       "0   non  \n",
       "1   non  \n",
       "2   non  \n",
       "4   non  \n",
       "5   non  "
      ]
     },
     "execution_count": 60,
     "metadata": {},
     "output_type": "execute_result"
    }
   ],
   "source": [
    "df_drop_embauche.head()"
   ]
  },
  {
   "cell_type": "code",
   "execution_count": 65,
   "metadata": {},
   "outputs": [
    {
     "name": "stdout",
     "output_type": "stream",
     "text": [
      "             0           1           2\n",
      "0   328.346394 -126.835816  233.409992\n",
      "1   348.956536 -156.823867   -1.030893\n",
      "2   409.034040 -255.604012  -34.341104\n",
      "4   264.635792   -1.326958  269.898509\n",
      "5   401.487614  -34.363705  -44.814653\n",
      "6   358.629418  103.202180 -250.261624\n",
      "7   267.278261   52.312033 -162.758004\n",
      "8   357.361487  -71.444891  -28.555249\n",
      "9   341.330594   64.370220  -11.432106\n",
      "10  362.030489  -96.452918  243.382237\n"
     ]
    },
    {
     "data": {
      "text/plain": [
       "<matplotlib.axes._subplots.AxesSubplot at 0x7fe702fbaac8>"
      ]
     },
     "execution_count": 65,
     "metadata": {},
     "output_type": "execute_result"
    },
    {
     "data": {
      "image/png": "[encoded data removed]",
      "text/plain": [
       "<Figure size 432x288 with 1 Axes>"
      ]
     },
     "metadata": {
      "needs_background": "light"
     },
     "output_type": "display_data"
    }
   ],
   "source": [
    "dim_reduction = famd.row_coordinates(df_drop_embauche)\n",
    "print(dim_reduction.head(10))\n",
    "dim_reduction.plot(x=0, y=1, kind=\"scatter\")"
   ]
  },
  {
   "cell_type": "code",
   "execution_count": 66,
   "metadata": {},
   "outputs": [
    {
     "name": "stdout",
     "output_type": "stream",
     "text": [
      "variance explained is 0.5369156553153502 with 3 principal components\n"
     ]
    }
   ],
   "source": [
    "print( \"variance explained is %s with %s principal components\" %(str(np.sum(famd.explained_inertia_)),str(n_components)))"
   ]
  },
  {
   "cell_type": "markdown",
   "metadata": {},
   "source": [
    "### PCA (Principal Component Analysis  --> Only countinuous variables : Categorical variables have been vectorized)"
   ]
  },
  {
   "cell_type": "code",
   "execution_count": 114,
   "metadata": {},
   "outputs": [
    {
     "name": "stdout",
     "output_type": "stream",
     "text": [
      "len df 20000\n",
      "len df after dropping na 19606\n"
     ]
    }
   ],
   "source": [
    "print(\"len df after dropping embauche\", len(df_filter))\n",
    "df_filter = df_filter.dropna()\n",
    "print(\"len df after dropping na and embauche\", len(df_filter))"
   ]
  },
  {
   "cell_type": "code",
   "execution_count": 116,
   "metadata": {},
   "outputs": [
    {
     "name": "stdout",
     "output_type": "stream",
     "text": [
      "           0         1         2\n",
      "0   0.201631 -2.855335  0.021649\n",
      "1  -1.330793  0.372795 -0.212793\n",
      "2  -1.275335 -0.735152  0.116275\n",
      "4   0.665396 -1.613086 -0.304903\n",
      "5  -1.180542  0.474542 -0.906084\n",
      "6  -1.155228  1.460260  0.455318\n",
      "7  -1.047451  1.493478  1.387979\n",
      "8  -0.800753 -1.000488 -0.583240\n",
      "9  -0.368350 -0.103742 -0.759903\n",
      "10 -0.758941  0.162218 -1.914630\n",
      "variance explained is 0.44244849428972877 with 3 principal components\n"
     ]
    },
    {
     "data": {
      "image/png": "[encoded data removed]",
      "text/plain": [
       "<Figure size 432x288 with 1 Axes>"
      ]
     },
     "metadata": {
      "needs_background": "light"
     },
     "output_type": "display_data"
    }
   ],
   "source": [
    "pca = prince.PCA(n_components=n_components,\n",
    "                   n_iter=10,\n",
    "                   copy=True,\n",
    "                   check_input=True, \n",
    "                   engine='auto',\n",
    "                   random_state=42)\n",
    "\n",
    "pca = pca.fit(df_filter) \n",
    "\n",
    "dim_reduction = pca.row_coordinates(df_filter)\n",
    "print(dim_reduction.head(10))\n",
    "dim_reduction.plot(x=0, y=1, kind=\"scatter\")\n",
    "print( \"variance explained is %s with %s principal components\" %(str(np.sum(pca.explained_inertia_)),str(n_components)))"
   ]
  },
  {
   "cell_type": "markdown",
   "metadata": {},
   "source": [
    "## Machine Learning"
   ]
  },
  {
   "cell_type": "code",
   "execution_count": 70,
   "metadata": {},
   "outputs": [],
   "source": [
    "from sklearn import tree\n",
    "\n",
    "from sklearn.metrics import roc_curve, auc\n",
    "from sklearn.model_selection import train_test_split\n",
    "from sklearn.preprocessing import label_binarize"
   ]
  },
  {
   "cell_type": "code",
   "execution_count": 118,
   "metadata": {},
   "outputs": [],
   "source": [
    "df_copy = df_final.copy()\n",
    "df_copy_drop_na = df_copy.dropna()"
   ]
  },
  {
   "cell_type": "code",
   "execution_count": 119,
   "metadata": {},
   "outputs": [
    {
     "data": {
      "text/html": [
       "<div>\n",
       "<style scoped>\n",
       "    .dataframe tbody tr th:only-of-type {\n",
       "        vertical-align: middle;\n",
       "    }\n",
       "\n",
       "    .dataframe tbody tr th {\n",
       "        vertical-align: top;\n",
       "    }\n",
       "\n",
       "    .dataframe thead th {\n",
       "        text-align: right;\n",
       "    }\n",
       "</style>\n",
       "<table border=\"1\" class=\"dataframe\">\n",
       "  <thead>\n",
       "    <tr style=\"text-align: right;\">\n",
       "      <th></th>\n",
       "      <th>age</th>\n",
       "      <th>exp</th>\n",
       "      <th>salaire</th>\n",
       "      <th>note</th>\n",
       "      <th>embauche</th>\n",
       "      <th>date</th>\n",
       "      <th>cheveux</th>\n",
       "      <th>sexe</th>\n",
       "      <th>diplome</th>\n",
       "      <th>specialite</th>\n",
       "      <th>dispo</th>\n",
       "    </tr>\n",
       "  </thead>\n",
       "  <tbody>\n",
       "    <tr>\n",
       "      <th>0</th>\n",
       "      <td>25.0</td>\n",
       "      <td>9.0</td>\n",
       "      <td>26803.0</td>\n",
       "      <td>97.08</td>\n",
       "      <td>0</td>\n",
       "      <td>0</td>\n",
       "      <td>0</td>\n",
       "      <td>0</td>\n",
       "      <td>0</td>\n",
       "      <td>0</td>\n",
       "      <td>0</td>\n",
       "    </tr>\n",
       "    <tr>\n",
       "      <th>1</th>\n",
       "      <td>35.0</td>\n",
       "      <td>13.0</td>\n",
       "      <td>38166.0</td>\n",
       "      <td>63.86</td>\n",
       "      <td>0</td>\n",
       "      <td>1</td>\n",
       "      <td>1</td>\n",
       "      <td>1</td>\n",
       "      <td>0</td>\n",
       "      <td>1</td>\n",
       "      <td>0</td>\n",
       "    </tr>\n",
       "    <tr>\n",
       "      <th>2</th>\n",
       "      <td>29.0</td>\n",
       "      <td>13.0</td>\n",
       "      <td>35207.0</td>\n",
       "      <td>78.50</td>\n",
       "      <td>0</td>\n",
       "      <td>2</td>\n",
       "      <td>1</td>\n",
       "      <td>1</td>\n",
       "      <td>0</td>\n",
       "      <td>0</td>\n",
       "      <td>0</td>\n",
       "    </tr>\n",
       "    <tr>\n",
       "      <th>4</th>\n",
       "      <td>35.0</td>\n",
       "      <td>6.0</td>\n",
       "      <td>28533.0</td>\n",
       "      <td>81.91</td>\n",
       "      <td>0</td>\n",
       "      <td>4</td>\n",
       "      <td>0</td>\n",
       "      <td>0</td>\n",
       "      <td>0</td>\n",
       "      <td>2</td>\n",
       "      <td>0</td>\n",
       "    </tr>\n",
       "    <tr>\n",
       "      <th>5</th>\n",
       "      <td>37.0</td>\n",
       "      <td>8.0</td>\n",
       "      <td>38558.0</td>\n",
       "      <td>63.46</td>\n",
       "      <td>1</td>\n",
       "      <td>5</td>\n",
       "      <td>3</td>\n",
       "      <td>1</td>\n",
       "      <td>1</td>\n",
       "      <td>0</td>\n",
       "      <td>0</td>\n",
       "    </tr>\n",
       "  </tbody>\n",
       "</table>\n",
       "</div>"
      ],
      "text/plain": [
       "    age   exp  salaire   note  embauche  date  cheveux  sexe  diplome  \\\n",
       "0  25.0   9.0  26803.0  97.08         0     0        0     0        0   \n",
       "1  35.0  13.0  38166.0  63.86         0     1        1     1        0   \n",
       "2  29.0  13.0  35207.0  78.50         0     2        1     1        0   \n",
       "4  35.0   6.0  28533.0  81.91         0     4        0     0        0   \n",
       "5  37.0   8.0  38558.0  63.46         1     5        3     1        1   \n",
       "\n",
       "   specialite  dispo  \n",
       "0           0      0  \n",
       "1           1      0  \n",
       "2           0      0  \n",
       "4           2      0  \n",
       "5           0      0  "
      ]
     },
     "execution_count": 119,
     "metadata": {},
     "output_type": "execute_result"
    }
   ],
   "source": [
    "df_copy_drop_na.head()"
   ]
  },
  {
   "cell_type": "code",
   "execution_count": 120,
   "metadata": {},
   "outputs": [
    {
     "data": {
      "text/plain": [
       "array([[2.5000e+01, 0.0000e+00, 0.0000e+00, ..., 2.6803e+04, 0.0000e+00,\n",
       "        0.0000e+00],\n",
       "       [3.5000e+01, 1.0000e+00, 1.0000e+00, ..., 3.8166e+04, 1.0000e+00,\n",
       "        1.0000e+00],\n",
       "       [2.9000e+01, 1.0000e+00, 2.0000e+00, ..., 3.5207e+04, 1.0000e+00,\n",
       "        0.0000e+00],\n",
       "       ...,\n",
       "       [2.3000e+01, 3.0000e+00, 6.7600e+02, ..., 3.3751e+04, 0.0000e+00,\n",
       "        2.0000e+00],\n",
       "       [3.3000e+01, 3.0000e+00, 1.2020e+03, ..., 3.4167e+04, 0.0000e+00,\n",
       "        2.0000e+00],\n",
       "       [3.5000e+01, 2.0000e+00, 1.3900e+03, ..., 4.4499e+04, 1.0000e+00,\n",
       "        0.0000e+00]])"
      ]
     },
     "execution_count": 120,
     "metadata": {},
     "output_type": "execute_result"
    }
   ],
   "source": [
    "columns_X = df_copy_drop_na.columns.difference(['embauche'])\n",
    "X = df_copy_drop_na[columns_X].values\n",
    "X"
   ]
  },
  {
   "cell_type": "code",
   "execution_count": 121,
   "metadata": {},
   "outputs": [
    {
     "data": {
      "text/plain": [
       "array([0, 0, 0, ..., 0, 0, 0])"
      ]
     },
     "execution_count": 121,
     "metadata": {},
     "output_type": "execute_result"
    }
   ],
   "source": [
    "Y = df_copy_drop_na['embauche'].values\n",
    "Y"
   ]
  },
  {
   "cell_type": "code",
   "execution_count": 122,
   "metadata": {},
   "outputs": [],
   "source": [
    "train_x, test_x, train_y, test_y = train_test_split(X, Y,\n",
    "                                                   test_size=0.2, random_state=42)\n",
    "# binarize class labels to plot ROC\n",
    "train_y = label_binarize(train_y, classes=[0, 1])\n",
    "test_y = label_binarize(test_y, classes=[0, 1])"
   ]
  },
  {
   "cell_type": "code",
   "execution_count": 166,
   "metadata": {},
   "outputs": [],
   "source": [
    "# lenght of distinct values len(set(Y))\n",
    "n_classes = len(set(Y))\n",
    "\n",
    "classifier = tree.DecisionTreeClassifier()\n",
    "\n",
    "# train classifier\n",
    "classifier.fit(train_x, train_y)\n",
    "\n",
    "# predict on test set\n",
    "y_score = classifier.predict(test_x)\n"
   ]
  },
  {
   "cell_type": "code",
   "execution_count": 167,
   "metadata": {},
   "outputs": [
    {
     "data": {
      "text/plain": [
       "array([0.0788463 , 0.07459372, 0.11527489, 0.03847261, 0.08270654,\n",
       "       0.06178256, 0.26718933, 0.19746381, 0.05053456, 0.03313569])"
      ]
     },
     "execution_count": 167,
     "metadata": {},
     "output_type": "execute_result"
    }
   ],
   "source": [
    "classifier.feature_importances_"
   ]
  },
  {
   "cell_type": "code",
   "execution_count": 168,
   "metadata": {},
   "outputs": [
    {
     "data": {
      "text/html": [
       "<div>\n",
       "<style scoped>\n",
       "    .dataframe tbody tr th:only-of-type {\n",
       "        vertical-align: middle;\n",
       "    }\n",
       "\n",
       "    .dataframe tbody tr th {\n",
       "        vertical-align: top;\n",
       "    }\n",
       "\n",
       "    .dataframe thead th {\n",
       "        text-align: right;\n",
       "    }\n",
       "</style>\n",
       "<table border=\"1\" class=\"dataframe\">\n",
       "  <thead>\n",
       "    <tr style=\"text-align: right;\">\n",
       "      <th></th>\n",
       "      <th>age</th>\n",
       "      <th>cheveux</th>\n",
       "      <th>date</th>\n",
       "      <th>diplome</th>\n",
       "      <th>dispo</th>\n",
       "      <th>exp</th>\n",
       "      <th>note</th>\n",
       "      <th>salaire</th>\n",
       "      <th>sexe</th>\n",
       "      <th>specialite</th>\n",
       "    </tr>\n",
       "  </thead>\n",
       "  <tbody>\n",
       "    <tr>\n",
       "      <th>0</th>\n",
       "      <td>0.078846</td>\n",
       "      <td>0.074594</td>\n",
       "      <td>0.115275</td>\n",
       "      <td>0.038473</td>\n",
       "      <td>0.082707</td>\n",
       "      <td>0.061783</td>\n",
       "      <td>0.267189</td>\n",
       "      <td>0.197464</td>\n",
       "      <td>0.050535</td>\n",
       "      <td>0.033136</td>\n",
       "    </tr>\n",
       "  </tbody>\n",
       "</table>\n",
       "</div>"
      ],
      "text/plain": [
       "        age   cheveux      date   diplome     dispo       exp      note  \\\n",
       "0  0.078846  0.074594  0.115275  0.038473  0.082707  0.061783  0.267189   \n",
       "\n",
       "    salaire      sexe  specialite  \n",
       "0  0.197464  0.050535    0.033136  "
      ]
     },
     "execution_count": 168,
     "metadata": {},
     "output_type": "execute_result"
    }
   ],
   "source": [
    "df_features_importance = pd.DataFrame(classifier.feature_importances_).T\n",
    "df_features_importance.columns=df_copy_drop_na[columns_X].columns\n",
    "df_features_importance"
   ]
  },
  {
   "cell_type": "code",
   "execution_count": 169,
   "metadata": {},
   "outputs": [
    {
     "name": "stdout",
     "output_type": "stream",
     "text": [
      "              precision    recall  f1-score   support\n",
      "\n",
      "     class 0       0.94      0.93      0.93      3474\n",
      "     class 1       0.47      0.50      0.49       448\n",
      "\n",
      "   micro avg       0.88      0.88      0.88      3922\n",
      "   macro avg       0.70      0.71      0.71      3922\n",
      "weighted avg       0.88      0.88      0.88      3922\n",
      "\n"
     ]
    }
   ],
   "source": [
    "from sklearn.metrics import classification_report\n",
    "y_true = test_y\n",
    "y_pred = y_score\n",
    "target_names = ['class 0', 'class 1']\n",
    "print(classification_report(y_true, y_pred, target_names=target_names))"
   ]
  },
  {
   "cell_type": "markdown",
   "metadata": {},
   "source": [
    "## Gradient Boosting"
   ]
  },
  {
   "cell_type": "code",
   "execution_count": 170,
   "metadata": {},
   "outputs": [
    {
     "name": "stdout",
     "output_type": "stream",
     "text": [
      "Requirement already satisfied: xgboost in /home/andromede/anaconda3/lib/python3.6/site-packages (0.90)\n",
      "Requirement already satisfied: numpy in /home/andromede/anaconda3/lib/python3.6/site-packages (from xgboost) (1.16.2)\n",
      "Requirement already satisfied: scipy in /home/andromede/anaconda3/lib/python3.6/site-packages (from xgboost) (1.2.1)\n",
      "\u001b[33mWARNING: You are using pip version 19.1, however version 20.0.2 is available.\n",
      "You should consider upgrading via the 'pip install --upgrade pip' command.\u001b[0m\n"
     ]
    }
   ],
   "source": [
    "!pip install xgboost"
   ]
  },
  {
   "cell_type": "code",
   "execution_count": 171,
   "metadata": {},
   "outputs": [
    {
     "name": "stdout",
     "output_type": "stream",
     "text": [
      "[03:11:54] WARNING: /workspace/src/objective/regression_obj.cu:152: reg:linear is now deprecated in favor of reg:squarederror.\n"
     ]
    },
    {
     "name": "stderr",
     "output_type": "stream",
     "text": [
      "/home/andromede/anaconda3/lib/python3.6/site-packages/xgboost/core.py:614: UserWarning: Use subset (sliced data) of np.ndarray is not recommended because it will generate extra copies and increase memory consumption\n",
      "  \"because it will generate extra copies and increase memory consumption\")\n"
     ]
    }
   ],
   "source": [
    "import xgboost as xgb\n",
    "from sklearn.metrics import mean_squared_error\n",
    "\n",
    "xg_reg = xgb.XGBRegressor(objective ='reg:linear', colsample_bytree = 0.3, learning_rate = 0.1,\n",
    "                max_depth = 5, alpha = 10, n_estimators = 10)\n",
    "\n",
    "xg_reg.fit(train_x, train_y)\n",
    "\n",
    "y_score = xg_reg.predict(test_x)"
   ]
  },
  {
   "cell_type": "code",
   "execution_count": 172,
   "metadata": {},
   "outputs": [
    {
     "name": "stdout",
     "output_type": "stream",
     "text": [
      "RMSE: 0.338311\n"
     ]
    }
   ],
   "source": [
    "rmse = np.sqrt(mean_squared_error(test_y, y_score))\n",
    "print(\"RMSE: %f\" % (rmse))"
   ]
  },
  {
   "cell_type": "markdown",
   "metadata": {},
   "source": [
    "# Logistic Regression"
   ]
  },
  {
   "cell_type": "code",
   "execution_count": 173,
   "metadata": {},
   "outputs": [],
   "source": [
    "from sklearn.linear_model import LogisticRegression"
   ]
  },
  {
   "cell_type": "code",
   "execution_count": 174,
   "metadata": {},
   "outputs": [],
   "source": [
    "logisticRegr = LogisticRegression()"
   ]
  },
  {
   "cell_type": "code",
   "execution_count": 175,
   "metadata": {},
   "outputs": [
    {
     "name": "stderr",
     "output_type": "stream",
     "text": [
      "/home/andromede/anaconda3/lib/python3.6/site-packages/sklearn/linear_model/logistic.py:433: FutureWarning: Default solver will be changed to 'lbfgs' in 0.22. Specify a solver to silence this warning.\n",
      "  FutureWarning)\n",
      "/home/andromede/anaconda3/lib/python3.6/site-packages/sklearn/utils/validation.py:761: DataConversionWarning: A column-vector y was passed when a 1d array was expected. Please change the shape of y to (n_samples, ), for example using ravel().\n",
      "  y = column_or_1d(y, warn=True)\n"
     ]
    },
    {
     "data": {
      "text/plain": [
       "LogisticRegression(C=1.0, class_weight=None, dual=False, fit_intercept=True,\n",
       "          intercept_scaling=1, max_iter=100, multi_class='warn',\n",
       "          n_jobs=None, penalty='l2', random_state=None, solver='warn',\n",
       "          tol=0.0001, verbose=0, warm_start=False)"
      ]
     },
     "execution_count": 175,
     "metadata": {},
     "output_type": "execute_result"
    }
   ],
   "source": [
    "logisticRegr.fit(train_x, train_y)"
   ]
  },
  {
   "cell_type": "code",
   "execution_count": 176,
   "metadata": {},
   "outputs": [],
   "source": [
    "predictions = logisticRegr.predict(test_x)"
   ]
  },
  {
   "cell_type": "code",
   "execution_count": 177,
   "metadata": {},
   "outputs": [
    {
     "name": "stdout",
     "output_type": "stream",
     "text": [
      "0.8857725650178481\n"
     ]
    }
   ],
   "source": [
    "score = logisticRegr.score(test_x, test_y)\n",
    "print(score)"
   ]
  },
  {
   "cell_type": "markdown",
   "metadata": {},
   "source": [
    "# https://scikit-learn.org/stable/auto_examples/classification/plot_classifier_comparison.html"
   ]
  },
  {
   "cell_type": "code",
   "execution_count": 178,
   "metadata": {},
   "outputs": [],
   "source": [
    "from sklearn.svm import SVC"
   ]
  },
  {
   "cell_type": "code",
   "execution_count": 183,
   "metadata": {},
   "outputs": [],
   "source": [
    "classifier_svc1 = SVC(kernel=\"linear\", C=0.025) # linear separator\n",
    "classifier_svc2 = SVC(gamma=2, C=1)\n",
    "classifier_svc3 = SVC(kernel=\"rbf\", C=0.025) # radial basis function separator (non linear)"
   ]
  },
  {
   "cell_type": "code",
   "execution_count": 180,
   "metadata": {},
   "outputs": [
    {
     "name": "stderr",
     "output_type": "stream",
     "text": [
      "/home/andromede/anaconda3/lib/python3.6/site-packages/sklearn/utils/validation.py:761: DataConversionWarning: A column-vector y was passed when a 1d array was expected. Please change the shape of y to (n_samples, ), for example using ravel().\n",
      "  y = column_or_1d(y, warn=True)\n"
     ]
    },
    {
     "name": "stdout",
     "output_type": "stream",
     "text": [
      "0.8857725650178481\n"
     ]
    }
   ],
   "source": [
    "classifier_svc1.fit(train_x, train_y)\n",
    "score = classifier_svc1.score(test_x, test_y)\n",
    "print(score)"
   ]
  },
  {
   "cell_type": "code",
   "execution_count": 181,
   "metadata": {},
   "outputs": [
    {
     "name": "stderr",
     "output_type": "stream",
     "text": [
      "/home/andromede/anaconda3/lib/python3.6/site-packages/sklearn/utils/validation.py:761: DataConversionWarning: A column-vector y was passed when a 1d array was expected. Please change the shape of y to (n_samples, ), for example using ravel().\n",
      "  y = column_or_1d(y, warn=True)\n"
     ]
    },
    {
     "name": "stdout",
     "output_type": "stream",
     "text": [
      "0.8857725650178481\n"
     ]
    }
   ],
   "source": [
    "classifier_svc2.fit(train_x, train_y)\n",
    "score = classifier_svc2.score(test_x, test_y)\n",
    "print(score)"
   ]
  },
  {
   "cell_type": "code",
   "execution_count": 184,
   "metadata": {},
   "outputs": [
    {
     "name": "stderr",
     "output_type": "stream",
     "text": [
      "/home/andromede/anaconda3/lib/python3.6/site-packages/sklearn/utils/validation.py:761: DataConversionWarning: A column-vector y was passed when a 1d array was expected. Please change the shape of y to (n_samples, ), for example using ravel().\n",
      "  y = column_or_1d(y, warn=True)\n",
      "/home/andromede/anaconda3/lib/python3.6/site-packages/sklearn/svm/base.py:196: FutureWarning: The default value of gamma will change from 'auto' to 'scale' in version 0.22 to account better for unscaled features. Set gamma explicitly to 'auto' or 'scale' to avoid this warning.\n",
      "  \"avoid this warning.\", FutureWarning)\n"
     ]
    },
    {
     "name": "stdout",
     "output_type": "stream",
     "text": [
      "0.8857725650178481\n"
     ]
    }
   ],
   "source": [
    "classifier_svc3.fit(train_x, train_y)\n",
    "score = classifier_svc3.score(test_x, test_y)\n",
    "print(score)"
   ]
  },
  {
   "cell_type": "code",
   "execution_count": null,
   "metadata": {},
   "outputs": [],
   "source": []
  }
 ],
 "metadata": {
  "kernelspec": {
   "display_name": "Python 3",
   "language": "python",
   "name": "python3"
  },
  "language_info": {
   "codemirror_mode": {
    "name": "ipython",
    "version": 3
   },
   "file_extension": ".py",
   "mimetype": "text/x-python",
   "name": "python",
   "nbconvert_exporter": "python",
   "pygments_lexer": "ipython3",
   "version": "3.8.3"
  }
 },
 "nbformat": 4,
 "nbformat_minor": 2
}
